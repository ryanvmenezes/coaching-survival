{
 "cells": [
  {
   "cell_type": "code",
   "execution_count": 1,
   "metadata": {
    "collapsed": true
   },
   "outputs": [],
   "source": [
    "import pandas as pd\n",
    "from datetime import datetime"
   ]
  },
  {
   "cell_type": "code",
   "execution_count": 2,
   "metadata": {
    "collapsed": false
   },
   "outputs": [],
   "source": [
    "NBA = pd.read_csv('data/coaching_changes_basketball.psv', sep='|')"
   ]
  },
  {
   "cell_type": "code",
   "execution_count": 3,
   "metadata": {
    "collapsed": false
   },
   "outputs": [
    {
     "data": {
      "text/html": [
       "<div>\n",
       "<table border=\"1\" class=\"dataframe\">\n",
       "  <thead>\n",
       "    <tr style=\"text-align: right;\">\n",
       "      <th></th>\n",
       "      <th>date</th>\n",
       "      <th>team</th>\n",
       "      <th>acquired</th>\n",
       "      <th>relinquished</th>\n",
       "      <th>notes</th>\n",
       "    </tr>\n",
       "  </thead>\n",
       "  <tbody>\n",
       "    <tr>\n",
       "      <th>0</th>\n",
       "      <td>1946-06-01</td>\n",
       "      <td>Nationals (NBL)</td>\n",
       "      <td>Benny Borgmann</td>\n",
       "      <td>NaN</td>\n",
       "      <td>hired as head coach (date approximate)</td>\n",
       "    </tr>\n",
       "    <tr>\n",
       "      <th>1</th>\n",
       "      <td>1946-07-01</td>\n",
       "      <td>Bombers (BAA)</td>\n",
       "      <td>Ken Loeffler</td>\n",
       "      <td>NaN</td>\n",
       "      <td>hired as head coach (date approximate)</td>\n",
       "    </tr>\n",
       "    <tr>\n",
       "      <th>2</th>\n",
       "      <td>1946-07-01</td>\n",
       "      <td>Capitols (BAA)</td>\n",
       "      <td>Arnold Auerbach / Red Auerbach</td>\n",
       "      <td>NaN</td>\n",
       "      <td>hired as head coach, signed to a 1-year, $5K c...</td>\n",
       "    </tr>\n",
       "    <tr>\n",
       "      <th>3</th>\n",
       "      <td>1946-07-01</td>\n",
       "      <td>Celtics (BAA)</td>\n",
       "      <td>Honey Russell</td>\n",
       "      <td>NaN</td>\n",
       "      <td>hired as head coach (date approximate)</td>\n",
       "    </tr>\n",
       "    <tr>\n",
       "      <th>4</th>\n",
       "      <td>1946-07-01</td>\n",
       "      <td>Falcons (BAA)</td>\n",
       "      <td>Glenn Curtis</td>\n",
       "      <td>NaN</td>\n",
       "      <td>hired as head coach (date approximate)</td>\n",
       "    </tr>\n",
       "  </tbody>\n",
       "</table>\n",
       "</div>"
      ],
      "text/plain": [
       "         date             team                        acquired relinquished  \\\n",
       "0  1946-06-01  Nationals (NBL)                  Benny Borgmann          NaN   \n",
       "1  1946-07-01    Bombers (BAA)                    Ken Loeffler          NaN   \n",
       "2  1946-07-01   Capitols (BAA)  Arnold Auerbach / Red Auerbach          NaN   \n",
       "3  1946-07-01    Celtics (BAA)                   Honey Russell          NaN   \n",
       "4  1946-07-01    Falcons (BAA)                    Glenn Curtis          NaN   \n",
       "\n",
       "                                               notes  \n",
       "0             hired as head coach (date approximate)  \n",
       "1             hired as head coach (date approximate)  \n",
       "2  hired as head coach, signed to a 1-year, $5K c...  \n",
       "3             hired as head coach (date approximate)  \n",
       "4             hired as head coach (date approximate)  "
      ]
     },
     "execution_count": 3,
     "metadata": {},
     "output_type": "execute_result"
    }
   ],
   "source": [
    "NBA.head()"
   ]
  },
  {
   "cell_type": "code",
   "execution_count": 4,
   "metadata": {
    "collapsed": false
   },
   "outputs": [
    {
     "data": {
      "text/html": [
       "<div>\n",
       "<table border=\"1\" class=\"dataframe\">\n",
       "  <thead>\n",
       "    <tr style=\"text-align: right;\">\n",
       "      <th></th>\n",
       "      <th>date</th>\n",
       "      <th>team</th>\n",
       "      <th>acquired</th>\n",
       "      <th>relinquished</th>\n",
       "      <th>notes</th>\n",
       "    </tr>\n",
       "  </thead>\n",
       "  <tbody>\n",
       "    <tr>\n",
       "      <th>619</th>\n",
       "      <td>1991-07-18</td>\n",
       "      <td>Timberwolves</td>\n",
       "      <td>Sidney Lowe</td>\n",
       "      <td>NaN</td>\n",
       "      <td>hired as assistant coach</td>\n",
       "    </tr>\n",
       "    <tr>\n",
       "      <th>682</th>\n",
       "      <td>1993-01-11</td>\n",
       "      <td>Timberwolves</td>\n",
       "      <td>Sidney Lowe</td>\n",
       "      <td>NaN</td>\n",
       "      <td>promoted to interim head coach</td>\n",
       "    </tr>\n",
       "    <tr>\n",
       "      <th>687</th>\n",
       "      <td>1993-03-24</td>\n",
       "      <td>Timberwolves</td>\n",
       "      <td>Sidney Lowe</td>\n",
       "      <td>NaN</td>\n",
       "      <td>pomoted to head coach, signed to a 3-year cont...</td>\n",
       "    </tr>\n",
       "    <tr>\n",
       "      <th>762</th>\n",
       "      <td>1994-10-03</td>\n",
       "      <td>Cavaliers</td>\n",
       "      <td>Sidney Lowe</td>\n",
       "      <td>NaN</td>\n",
       "      <td>hired as assistant coach</td>\n",
       "    </tr>\n",
       "    <tr>\n",
       "      <th>1137</th>\n",
       "      <td>1999-08-05</td>\n",
       "      <td>Timberwolves</td>\n",
       "      <td>Sidney Lowe</td>\n",
       "      <td>NaN</td>\n",
       "      <td>hired as assistant coach</td>\n",
       "    </tr>\n",
       "    <tr>\n",
       "      <th>1195</th>\n",
       "      <td>2000-06-01</td>\n",
       "      <td>Grizzlies</td>\n",
       "      <td>Sidney Lowe</td>\n",
       "      <td>NaN</td>\n",
       "      <td>hired as head coach, signed to a reported 4-ye...</td>\n",
       "    </tr>\n",
       "    <tr>\n",
       "      <th>1475</th>\n",
       "      <td>2003-08-13</td>\n",
       "      <td>Timberwolves</td>\n",
       "      <td>Sidney Lowe</td>\n",
       "      <td>NaN</td>\n",
       "      <td>hired as assistant coach</td>\n",
       "    </tr>\n",
       "    <tr>\n",
       "      <th>1722</th>\n",
       "      <td>2005-08-12</td>\n",
       "      <td>Pistons</td>\n",
       "      <td>Sidney Lowe</td>\n",
       "      <td>NaN</td>\n",
       "      <td>hired as assistant coach</td>\n",
       "    </tr>\n",
       "    <tr>\n",
       "      <th>2233</th>\n",
       "      <td>2011-10-06</td>\n",
       "      <td>Jazz</td>\n",
       "      <td>Sidney Lowe</td>\n",
       "      <td>NaN</td>\n",
       "      <td>hired as assistant coach</td>\n",
       "    </tr>\n",
       "    <tr>\n",
       "      <th>2478</th>\n",
       "      <td>2014-06-13</td>\n",
       "      <td>Timberwolves</td>\n",
       "      <td>Sidney Lowe</td>\n",
       "      <td>NaN</td>\n",
       "      <td>hired as assistant coach</td>\n",
       "    </tr>\n",
       "  </tbody>\n",
       "</table>\n",
       "</div>"
      ],
      "text/plain": [
       "            date          team     acquired relinquished  \\\n",
       "619   1991-07-18  Timberwolves  Sidney Lowe          NaN   \n",
       "682   1993-01-11  Timberwolves  Sidney Lowe          NaN   \n",
       "687   1993-03-24  Timberwolves  Sidney Lowe          NaN   \n",
       "762   1994-10-03     Cavaliers  Sidney Lowe          NaN   \n",
       "1137  1999-08-05  Timberwolves  Sidney Lowe          NaN   \n",
       "1195  2000-06-01     Grizzlies  Sidney Lowe          NaN   \n",
       "1475  2003-08-13  Timberwolves  Sidney Lowe          NaN   \n",
       "1722  2005-08-12       Pistons  Sidney Lowe          NaN   \n",
       "2233  2011-10-06          Jazz  Sidney Lowe          NaN   \n",
       "2478  2014-06-13  Timberwolves  Sidney Lowe          NaN   \n",
       "\n",
       "                                                  notes  \n",
       "619                            hired as assistant coach  \n",
       "682                      promoted to interim head coach  \n",
       "687   pomoted to head coach, signed to a 3-year cont...  \n",
       "762                            hired as assistant coach  \n",
       "1137                           hired as assistant coach  \n",
       "1195  hired as head coach, signed to a reported 4-ye...  \n",
       "1475                           hired as assistant coach  \n",
       "1722                           hired as assistant coach  \n",
       "2233                           hired as assistant coach  \n",
       "2478                           hired as assistant coach  "
      ]
     },
     "execution_count": 4,
     "metadata": {},
     "output_type": "execute_result"
    }
   ],
   "source": [
    "NBA[NBA.acquired == \"Sidney Lowe\"]"
   ]
  },
  {
   "cell_type": "code",
   "execution_count": 5,
   "metadata": {
    "collapsed": false
   },
   "outputs": [
    {
     "name": "stdout",
     "output_type": "stream",
     "text": [
      "<class 'pandas.core.frame.DataFrame'>\n",
      "Int64Index: 2629 entries, 0 to 2628\n",
      "Data columns (total 5 columns):\n",
      "date            2629 non-null object\n",
      "team            2629 non-null object\n",
      "acquired        2000 non-null object\n",
      "relinquished    626 non-null object\n",
      "notes           2629 non-null object\n",
      "dtypes: object(5)\n",
      "memory usage: 123.2+ KB\n"
     ]
    }
   ],
   "source": [
    "NBA.info()"
   ]
  },
  {
   "cell_type": "markdown",
   "metadata": {},
   "source": [
    "keep only head coaches"
   ]
  },
  {
   "cell_type": "code",
   "execution_count": 6,
   "metadata": {
    "collapsed": false
   },
   "outputs": [
    {
     "name": "stdout",
     "output_type": "stream",
     "text": [
      "1129 head coaching transactions in data\n"
     ]
    }
   ],
   "source": [
    "nba_hc = NBA[\n",
    "    NBA.notes.str.contains('head coach') &\n",
    "    ~NBA.notes.str.contains('associate')\n",
    "]\n",
    "print \"{} head coaching transactions in data\".format(len(nba_hc))"
   ]
  },
  {
   "cell_type": "code",
   "execution_count": 7,
   "metadata": {
    "collapsed": false
   },
   "outputs": [
    {
     "data": {
      "text/html": [
       "<div>\n",
       "<table border=\"1\" class=\"dataframe\">\n",
       "  <thead>\n",
       "    <tr style=\"text-align: right;\">\n",
       "      <th></th>\n",
       "      <th>date</th>\n",
       "      <th>team</th>\n",
       "      <th>acquired</th>\n",
       "      <th>relinquished</th>\n",
       "      <th>notes</th>\n",
       "    </tr>\n",
       "  </thead>\n",
       "  <tbody>\n",
       "    <tr>\n",
       "      <th>2621</th>\n",
       "      <td>2016-01-22</td>\n",
       "      <td>Cavaliers</td>\n",
       "      <td>Tyronn Lue</td>\n",
       "      <td>NaN</td>\n",
       "      <td>promoted to head coach</td>\n",
       "    </tr>\n",
       "    <tr>\n",
       "      <th>2624</th>\n",
       "      <td>2016-02-01</td>\n",
       "      <td>Suns</td>\n",
       "      <td>NaN</td>\n",
       "      <td>Jeff Hornacek</td>\n",
       "      <td>fired as head coach</td>\n",
       "    </tr>\n",
       "    <tr>\n",
       "      <th>2625</th>\n",
       "      <td>2016-02-01</td>\n",
       "      <td>Suns</td>\n",
       "      <td>Earl Watson</td>\n",
       "      <td>NaN</td>\n",
       "      <td>promoted to interim head coach</td>\n",
       "    </tr>\n",
       "    <tr>\n",
       "      <th>2626</th>\n",
       "      <td>2016-02-08</td>\n",
       "      <td>Knicks</td>\n",
       "      <td>NaN</td>\n",
       "      <td>Derek Fisher</td>\n",
       "      <td>fired as head coach</td>\n",
       "    </tr>\n",
       "    <tr>\n",
       "      <th>2627</th>\n",
       "      <td>2016-02-08</td>\n",
       "      <td>Knicks</td>\n",
       "      <td>Kurt Rambis</td>\n",
       "      <td>NaN</td>\n",
       "      <td>promoted to interim head coach</td>\n",
       "    </tr>\n",
       "  </tbody>\n",
       "</table>\n",
       "</div>"
      ],
      "text/plain": [
       "            date       team     acquired   relinquished  \\\n",
       "2621  2016-01-22  Cavaliers   Tyronn Lue            NaN   \n",
       "2624  2016-02-01       Suns          NaN  Jeff Hornacek   \n",
       "2625  2016-02-01       Suns  Earl Watson            NaN   \n",
       "2626  2016-02-08     Knicks          NaN   Derek Fisher   \n",
       "2627  2016-02-08     Knicks  Kurt Rambis            NaN   \n",
       "\n",
       "                               notes  \n",
       "2621          promoted to head coach  \n",
       "2624             fired as head coach  \n",
       "2625  promoted to interim head coach  \n",
       "2626             fired as head coach  \n",
       "2627  promoted to interim head coach  "
      ]
     },
     "execution_count": 7,
     "metadata": {},
     "output_type": "execute_result"
    }
   ],
   "source": [
    "nba_hc.tail()"
   ]
  },
  {
   "cell_type": "markdown",
   "metadata": {},
   "source": [
    "keep only head coaches from 1988-89 season on"
   ]
  },
  {
   "cell_type": "code",
   "execution_count": 8,
   "metadata": {
    "collapsed": false
   },
   "outputs": [
    {
     "name": "stderr",
     "output_type": "stream",
     "text": [
      "/usr/local/lib/python2.7/dist-packages/ipykernel/__main__.py:1: SettingWithCopyWarning: \n",
      "A value is trying to be set on a copy of a slice from a DataFrame.\n",
      "Try using .loc[row_indexer,col_indexer] = value instead\n",
      "\n",
      "See the caveats in the documentation: http://pandas.pydata.org/pandas-docs/stable/indexing.html#indexing-view-versus-copy\n",
      "  if __name__ == '__main__':\n"
     ]
    }
   ],
   "source": [
    "nba_hc['date'] = pd.to_datetime(nba_hc['date'], format='%Y-%m-%d')"
   ]
  },
  {
   "cell_type": "code",
   "execution_count": 9,
   "metadata": {
    "collapsed": false
   },
   "outputs": [],
   "source": [
    "nba_hc = nba_hc[nba_hc.date > datetime(1988,7,1)]"
   ]
  },
  {
   "cell_type": "markdown",
   "metadata": {},
   "source": [
    "keep only lines that involve a certain transaction\n",
    "\n",
    "* 'moved': Tim Floyd 99 (was technically coach before season started)\n",
    "* 'pomoted': Sidney Lowe\n",
    "* Fratello marked as 'fired / resigned' from Knicks\n",
    "* In 07 Adelman marked as 'signed' to extension"
   ]
  },
  {
   "cell_type": "code",
   "execution_count": 10,
   "metadata": {
    "collapsed": false
   },
   "outputs": [
    {
     "data": {
      "text/html": [
       "<div>\n",
       "<table border=\"1\" class=\"dataframe\">\n",
       "  <thead>\n",
       "    <tr style=\"text-align: right;\">\n",
       "      <th></th>\n",
       "      <th>date</th>\n",
       "      <th>team</th>\n",
       "      <th>acquired</th>\n",
       "      <th>relinquished</th>\n",
       "      <th>notes</th>\n",
       "    </tr>\n",
       "  </thead>\n",
       "  <tbody>\n",
       "    <tr>\n",
       "      <th>2369</th>\n",
       "      <td>2013-06-25</td>\n",
       "      <td>Celtics</td>\n",
       "      <td>NaN</td>\n",
       "      <td>Glenn Rivers / Doc Rivers</td>\n",
       "      <td>team released head coach from contract</td>\n",
       "    </tr>\n",
       "  </tbody>\n",
       "</table>\n",
       "</div>"
      ],
      "text/plain": [
       "           date     team acquired               relinquished  \\\n",
       "2369 2013-06-25  Celtics      NaN  Glenn Rivers / Doc Rivers   \n",
       "\n",
       "                                       notes  \n",
       "2369  team released head coach from contract  "
      ]
     },
     "execution_count": 10,
     "metadata": {},
     "output_type": "execute_result"
    }
   ],
   "source": [
    "nba_hc[nba_hc.notes.str.contains('released')]"
   ]
  },
  {
   "cell_type": "code",
   "execution_count": 11,
   "metadata": {
    "collapsed": false,
    "scrolled": false
   },
   "outputs": [
    {
     "data": {
      "text/html": [
       "<div>\n",
       "<table border=\"1\" class=\"dataframe\">\n",
       "  <thead>\n",
       "    <tr style=\"text-align: right;\">\n",
       "      <th></th>\n",
       "      <th>date</th>\n",
       "      <th>team</th>\n",
       "      <th>acquired</th>\n",
       "      <th>relinquished</th>\n",
       "      <th>notes</th>\n",
       "    </tr>\n",
       "  </thead>\n",
       "  <tbody>\n",
       "    <tr>\n",
       "      <th>779</th>\n",
       "      <td>1995-02-20</td>\n",
       "      <td>Nuggets</td>\n",
       "      <td>Gene Littles</td>\n",
       "      <td>NaN</td>\n",
       "      <td>demoted from interim head coach to assistant c...</td>\n",
       "    </tr>\n",
       "    <tr>\n",
       "      <th>951</th>\n",
       "      <td>1997-05-08</td>\n",
       "      <td>Celtics</td>\n",
       "      <td>Rick Pitino</td>\n",
       "      <td>NaN</td>\n",
       "      <td>assumed title of president in addition to head...</td>\n",
       "    </tr>\n",
       "    <tr>\n",
       "      <th>973</th>\n",
       "      <td>1997-06-17</td>\n",
       "      <td>Pistons</td>\n",
       "      <td>Doug Collins</td>\n",
       "      <td>NaN</td>\n",
       "      <td>restructured contract as head coach</td>\n",
       "    </tr>\n",
       "    <tr>\n",
       "      <th>1298</th>\n",
       "      <td>2001-07-25</td>\n",
       "      <td>76ers</td>\n",
       "      <td>Larry Brown</td>\n",
       "      <td>NaN</td>\n",
       "      <td>announced he will return as head coach</td>\n",
       "    </tr>\n",
       "    <tr>\n",
       "      <th>1418</th>\n",
       "      <td>2003-06-11</td>\n",
       "      <td>Knicks</td>\n",
       "      <td>second round pick (2005 #54-Dijon Thompson)</td>\n",
       "      <td>NaN</td>\n",
       "      <td>received from Rockets as compensation for Knic...</td>\n",
       "    </tr>\n",
       "    <tr>\n",
       "      <th>1419</th>\n",
       "      <td>2003-06-11</td>\n",
       "      <td>Rockets</td>\n",
       "      <td>NaN</td>\n",
       "      <td>second round pick (2005 #54-Dijon Thompson)</td>\n",
       "      <td>sent to Knicks as compensation for Knicks agre...</td>\n",
       "    </tr>\n",
       "    <tr>\n",
       "      <th>1851</th>\n",
       "      <td>2007-06-07</td>\n",
       "      <td>Magic</td>\n",
       "      <td>NaN</td>\n",
       "      <td>NaN</td>\n",
       "      <td>sent to Heat as compensation for head coach St...</td>\n",
       "    </tr>\n",
       "    <tr>\n",
       "      <th>1852</th>\n",
       "      <td>2007-06-07</td>\n",
       "      <td>Heat</td>\n",
       "      <td>NaN</td>\n",
       "      <td>NaN</td>\n",
       "      <td>received from Magic as compensation for head c...</td>\n",
       "    </tr>\n",
       "    <tr>\n",
       "      <th>2198</th>\n",
       "      <td>2011-06-01</td>\n",
       "      <td>Raptors</td>\n",
       "      <td>NaN</td>\n",
       "      <td>Jay Triano</td>\n",
       "      <td>team declined to exercise contract option on h...</td>\n",
       "    </tr>\n",
       "    <tr>\n",
       "      <th>2371</th>\n",
       "      <td>2013-06-25</td>\n",
       "      <td>Clippers</td>\n",
       "      <td>NaN</td>\n",
       "      <td>2015 first round pick (#28-R.J. Hunter)</td>\n",
       "      <td>sent to Celtics as compensation for head coach...</td>\n",
       "    </tr>\n",
       "    <tr>\n",
       "      <th>2372</th>\n",
       "      <td>2013-06-25</td>\n",
       "      <td>Celtics</td>\n",
       "      <td>2015 first round pick (#28-R.J. Hunter)</td>\n",
       "      <td>NaN</td>\n",
       "      <td>received from Clippers as compensation for hea...</td>\n",
       "    </tr>\n",
       "    <tr>\n",
       "      <th>2492</th>\n",
       "      <td>2014-06-30</td>\n",
       "      <td>Bucks</td>\n",
       "      <td>NaN</td>\n",
       "      <td>NaN</td>\n",
       "      <td>sent to Nets as compensation for head coach Ja...</td>\n",
       "    </tr>\n",
       "    <tr>\n",
       "      <th>2493</th>\n",
       "      <td>2014-06-30</td>\n",
       "      <td>Nets</td>\n",
       "      <td>NaN</td>\n",
       "      <td>NaN</td>\n",
       "      <td>received from Bucks as compensation for head c...</td>\n",
       "    </tr>\n",
       "    <tr>\n",
       "      <th>2603</th>\n",
       "      <td>2015-09-11</td>\n",
       "      <td>Timberwolves</td>\n",
       "      <td>NaN</td>\n",
       "      <td>Phil Saunders / Flip Saunders</td>\n",
       "      <td>took leave of absence as head coach to undergo...</td>\n",
       "    </tr>\n",
       "  </tbody>\n",
       "</table>\n",
       "</div>"
      ],
      "text/plain": [
       "           date          team                                     acquired  \\\n",
       "779  1995-02-20       Nuggets                                 Gene Littles   \n",
       "951  1997-05-08       Celtics                                  Rick Pitino   \n",
       "973  1997-06-17       Pistons                                 Doug Collins   \n",
       "1298 2001-07-25         76ers                                  Larry Brown   \n",
       "1418 2003-06-11        Knicks  second round pick (2005 #54-Dijon Thompson)   \n",
       "1419 2003-06-11       Rockets                                          NaN   \n",
       "1851 2007-06-07         Magic                                          NaN   \n",
       "1852 2007-06-07          Heat                                          NaN   \n",
       "2198 2011-06-01       Raptors                                          NaN   \n",
       "2371 2013-06-25      Clippers                                          NaN   \n",
       "2372 2013-06-25       Celtics      2015 first round pick (#28-R.J. Hunter)   \n",
       "2492 2014-06-30         Bucks                                          NaN   \n",
       "2493 2014-06-30          Nets                                          NaN   \n",
       "2603 2015-09-11  Timberwolves                                          NaN   \n",
       "\n",
       "                                     relinquished  \\\n",
       "779                                           NaN   \n",
       "951                                           NaN   \n",
       "973                                           NaN   \n",
       "1298                                          NaN   \n",
       "1418                                          NaN   \n",
       "1419  second round pick (2005 #54-Dijon Thompson)   \n",
       "1851                                          NaN   \n",
       "1852                                          NaN   \n",
       "2198                                   Jay Triano   \n",
       "2371      2015 first round pick (#28-R.J. Hunter)   \n",
       "2372                                          NaN   \n",
       "2492                                          NaN   \n",
       "2493                                          NaN   \n",
       "2603                Phil Saunders / Flip Saunders   \n",
       "\n",
       "                                                  notes  \n",
       "779   demoted from interim head coach to assistant c...  \n",
       "951   assumed title of president in addition to head...  \n",
       "973                 restructured contract as head coach  \n",
       "1298             announced he will return as head coach  \n",
       "1418  received from Rockets as compensation for Knic...  \n",
       "1419  sent to Knicks as compensation for Knicks agre...  \n",
       "1851  sent to Heat as compensation for head coach St...  \n",
       "1852  received from Magic as compensation for head c...  \n",
       "2198  team declined to exercise contract option on h...  \n",
       "2371  sent to Celtics as compensation for head coach...  \n",
       "2372  received from Clippers as compensation for hea...  \n",
       "2492  sent to Nets as compensation for head coach Ja...  \n",
       "2493  received from Bucks as compensation for head c...  \n",
       "2603  took leave of absence as head coach to undergo...  "
      ]
     },
     "execution_count": 11,
     "metadata": {},
     "output_type": "execute_result"
    }
   ],
   "source": [
    "nba_hc[\n",
    "    # start words\n",
    "    ~nba_hc.notes.str.contains('hired') &\n",
    "    ~nba_hc.notes.str.contains('promoted') & \n",
    "    ~nba_hc.notes.str.contains('pomoted') &\n",
    "    ~nba_hc.notes.str.contains('moved') &\n",
    "    ~nba_hc.notes.str.contains('named') &\n",
    "    ~nba_hc.notes.str.contains('signed') &\n",
    "    \n",
    "    # unwillfully let go\n",
    "    ~nba_hc.notes.str.contains('fired') &\n",
    "    ~nba_hc.notes.str.contains('expired') &\n",
    "    \n",
    "    # willfully let go\n",
    "    ~nba_hc.notes.str.contains('retired') &\n",
    "    ~nba_hc.notes.str.contains('resigned') &\n",
    "    ~nba_hc.notes.str.contains('released') &\n",
    "    \n",
    "    # reassignment\n",
    "    ~nba_hc.notes.str.contains('replaced') &\n",
    "    ~nba_hc.notes.str.contains('relinquished') &\n",
    "    \n",
    "    # extensions\n",
    "    ~nba_hc.notes.str.contains('re-signed') & \n",
    "    ~nba_hc.notes.str.contains('re-sign') & \n",
    "    ~nba_hc.notes.str.contains('extended') &\n",
    "    ~nba_hc.notes.str.contains('re-signed') & \n",
    "    ~nba_hc.notes.str.contains('exercised') &\n",
    "    \n",
    "    True\n",
    "]"
   ]
  },
  {
   "cell_type": "code",
   "execution_count": null,
   "metadata": {
    "collapsed": true
   },
   "outputs": [],
   "source": []
  }
 ],
 "metadata": {
  "kernelspec": {
   "display_name": "Python 2",
   "language": "python",
   "name": "python2"
  },
  "language_info": {
   "codemirror_mode": {
    "name": "ipython",
    "version": 2
   },
   "file_extension": ".py",
   "mimetype": "text/x-python",
   "name": "python",
   "nbconvert_exporter": "python",
   "pygments_lexer": "ipython2",
   "version": "2.7.6"
  }
 },
 "nbformat": 4,
 "nbformat_minor": 0
}
