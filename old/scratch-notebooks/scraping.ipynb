{
 "cells": [
  {
   "cell_type": "code",
   "execution_count": 1,
   "metadata": {
    "collapsed": true
   },
   "outputs": [],
   "source": [
    "import requests\n",
    "from bs4 import BeautifulSoup"
   ]
  },
  {
   "cell_type": "code",
   "execution_count": 2,
   "metadata": {
    "collapsed": true
   },
   "outputs": [],
   "source": [
    "url = \"http://www.prosportstransactions.com/basketball/Search/SearchResults.php?Player=coach&Team=&BeginDate=&EndDate=&PlayerMovementChkBx=yes&Submit=Search&start={}\""
   ]
  },
  {
   "cell_type": "code",
   "execution_count": 13,
   "metadata": {
    "collapsed": true
   },
   "outputs": [],
   "source": [
    "r = requests.get(url.format(0))\n",
    "soup = BeautifulSoup(r.text)"
   ]
  },
  {
   "cell_type": "code",
   "execution_count": 14,
   "metadata": {
    "collapsed": false
   },
   "outputs": [],
   "source": [
    "pages = soup.findAll('table',{'align':'center'})[0].findAll('a')"
   ]
  },
  {
   "cell_type": "code",
   "execution_count": 15,
   "metadata": {
    "collapsed": false
   },
   "outputs": [
    {
     "data": {
      "text/plain": [
       "105"
      ]
     },
     "execution_count": 15,
     "metadata": {},
     "output_type": "execute_result"
    }
   ],
   "source": [
    "len(pages)"
   ]
  },
  {
   "cell_type": "code",
   "execution_count": 27,
   "metadata": {
    "collapsed": false,
    "scrolled": false
   },
   "outputs": [],
   "source": [
    "rows = soup.find('table',{'class':'datatable center'}).findAll('tr')"
   ]
  },
  {
   "cell_type": "code",
   "execution_count": 29,
   "metadata": {
    "collapsed": false
   },
   "outputs": [
    {
     "data": {
      "text/plain": [
       "26"
      ]
     },
     "execution_count": 29,
     "metadata": {},
     "output_type": "execute_result"
    }
   ],
   "source": [
    "len(rows)"
   ]
  },
  {
   "cell_type": "code",
   "execution_count": 33,
   "metadata": {
    "collapsed": false
   },
   "outputs": [
    {
     "name": "stdout",
     "output_type": "stream",
     "text": [
      "[u'1946-06-01', u' Nationals (NBL)', u' Benny Borgmann', u' ', u' hired as head coach (date approximate)']\n",
      "[u'1946-07-01', u' Bombers (BAA)', u' Ken Loeffler', u' ', u' hired as head coach (date approximate)']\n",
      "[u'1946-07-01', u' Capitols (BAA)', u' \\xe2\\x80\\xa2 Arnold Auerbach / Red Auerbach', u' ', u' hired as head coach, signed to a 1-year, $5K contract (date approximate)']\n",
      "[u'1946-07-01', u' Celtics (BAA)', u' Honey Russell', u' ', u' hired as head coach (date approximate)']\n",
      "[u'1946-07-01', u' Falcons (BAA)', u' Glenn Curtis', u' ', u' hired as head coach (date approximate)']\n",
      "[u'1946-07-01', u' Huskies (BAA)', u' Ed Sadowski', u' ', u' hired as head coach (date approximate)']\n",
      "[u'1946-07-01', u' Ironmen (BAA)', u' Paul Birch', u' ', u' hired as head coach (date approximate)']\n",
      "[u'1946-07-01', u' Rebels (BAA)', u' Dutch Dehnert', u' ', u' hired as head coach (date approximate)']\n",
      "[u'1946-07-01', u' Stags (BAA)', u' Harold Olsen', u' ', u' hired as head coach (date approximate)']\n",
      "[u'1946-07-01', u' Steamrollers (BAA)', u' \\xe2\\x80\\xa2 Robert Morris', u' ', u' hired as head coach (date approximate)']\n",
      "[u'1946-07-01', u' Warriors (BAA)', u' \\xe2\\x80\\xa2 Eddie Gottlieb', u' ', u' hired as head coach (date approximate)']\n",
      "[u'1946-07-08', u' Knicks (BAA)', u' Neil Cohalan', u' ', u' hired as head coach']\n",
      "[u'1946-12-09', u' Huskies (BAA)', u' Robert Rolfe / Red Rolfe', u' ', u' hired as head coach']\n",
      "[u'1946-12-13', u' American Gears (NBL)', u' Davey Banks', u' ', u' fired as head coach']\n",
      "[u'1947-03-31', u' Knicks (BAA)', u' Joe Lapchick', u' ', u' hired as head coach']\n",
      "[u'1947-07-01', u' Bullets (BAA)', u' Buddy Jeannette', u' ', u' signed as player/coach (date approximate)']\n",
      "[u'1947-07-01', u' Knicks (BAA)', u' Neil Coholan', u' ', u' replaced as head coach (date approximate)']\n",
      "[u'1948-04-11', u' Celtics (BAA)', u' Doggie Julian', u' ', u' hired as head coach']\n",
      "[u'1948-05-10', u' Royals (BAA)', u' \\xe2\\x80\\xa2 Lester Harrison', u' ', u' head coach entered BAA']\n",
      "[u'1948-07-01', u' Nationals (NBL)', u' Al Cervi', u' ', u' hired as head coach (date approximate)']\n",
      "[u'1949-07-01', u' Blackhawks (NBL)', u' Roger Potter', u' ', u' hired as head coach (date approximate)']\n",
      "[u'1949-11-10', u' Blackhawks', u' ', u' Roger Potter', u' fired as head coach']\n",
      "[u'1949-11-10', u' Blackhawks', u' \\xe2\\x80\\xa2 Arnold Auerbach / Red Auerbach', u' ', u' hired as head coach, signed to a 2-year, $17K contract ($25K+ including bonuses)']\n",
      "[u'1950-04-26', u' Celtics', u' ', u' Doggie Julian', u' replaced as head coach (date approximate)']\n",
      "[u'1950-04-27', u' Celtics', u' \\xe2\\x80\\xa2 Arnold Auerbach / Red Auerbach', u' ', u' hired as head coach & GM to a 1-year, $10K contract']\n"
     ]
    }
   ],
   "source": [
    "for r in rows[1:]:\n",
    "    print [s.string for s in r.findAll('td')]"
   ]
  },
  {
   "cell_type": "code",
   "execution_count": null,
   "metadata": {
    "collapsed": true
   },
   "outputs": [],
   "source": [
    "for i in range(0,105):\n",
    "    r = requests.get(url.format(i*25))\n",
    "    soup = BeautifulSoup(r.text)"
   ]
  }
 ],
 "metadata": {
  "kernelspec": {
   "display_name": "Python 2",
   "language": "python",
   "name": "python2"
  },
  "language_info": {
   "codemirror_mode": {
    "name": "ipython",
    "version": 2
   },
   "file_extension": ".py",
   "mimetype": "text/x-python",
   "name": "python",
   "nbconvert_exporter": "python",
   "pygments_lexer": "ipython2",
   "version": "2.7.9"
  }
 },
 "nbformat": 4,
 "nbformat_minor": 0
}
