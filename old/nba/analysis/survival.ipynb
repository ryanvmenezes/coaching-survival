{
 "cells": [
  {
   "cell_type": "code",
   "execution_count": 49,
   "metadata": {},
   "outputs": [],
   "source": [
    "import numpy as np\n",
    "import pandas as pd\n",
    "import lifelines as ll\n",
    "import matplotlib.pyplot as plt\n",
    "from lifelines import AalenAdditiveFitter, CoxPHFitter\n",
    "from lifelines.statistics import logrank_test\n",
    "from lifelines.utils import k_fold_cross_validation\n",
    "%matplotlib inline"
   ]
  },
  {
   "cell_type": "code",
   "execution_count": 50,
   "metadata": {},
   "outputs": [],
   "source": [
    "TENURES = pd.read_csv('bytenure.csv')"
   ]
  },
  {
   "cell_type": "code",
   "execution_count": 51,
   "metadata": {},
   "outputs": [],
   "source": [
    "TENURES = TENURES[TENURES.ending != 'interim only']"
   ]
  },
  {
   "cell_type": "code",
   "execution_count": 52,
   "metadata": {},
   "outputs": [
    {
     "data": {
      "text/html": [
       "<div>\n",
       "<style>\n",
       "    .dataframe thead tr:only-child th {\n",
       "        text-align: right;\n",
       "    }\n",
       "\n",
       "    .dataframe thead th {\n",
       "        text-align: left;\n",
       "    }\n",
       "\n",
       "    .dataframe tbody tr th {\n",
       "        vertical-align: top;\n",
       "    }\n",
       "</style>\n",
       "<table border=\"1\" class=\"dataframe\">\n",
       "  <thead>\n",
       "    <tr style=\"text-align: right;\">\n",
       "      <th></th>\n",
       "      <th>slug</th>\n",
       "      <th>coach</th>\n",
       "      <th>coach_id</th>\n",
       "      <th>ending</th>\n",
       "      <th>total_games</th>\n",
       "      <th>total_wins</th>\n",
       "      <th>total_losses</th>\n",
       "      <th>start_rating</th>\n",
       "      <th>end_rating</th>\n",
       "      <th>improvement</th>\n",
       "      <th>top</th>\n",
       "      <th>bottom</th>\n",
       "      <th>middle</th>\n",
       "      <th>last_improvement</th>\n",
       "    </tr>\n",
       "  </thead>\n",
       "  <tbody>\n",
       "    <tr>\n",
       "      <th>0</th>\n",
       "      <td>krugelo99c|00|02|ATL</td>\n",
       "      <td>Lon Kruger</td>\n",
       "      <td>krugelo99c</td>\n",
       "      <td>fired</td>\n",
       "      <td>191.0</td>\n",
       "      <td>69.0</td>\n",
       "      <td>122.0</td>\n",
       "      <td>1354.0496</td>\n",
       "      <td>1424.825000</td>\n",
       "      <td>70.775400</td>\n",
       "      <td>1498.4465</td>\n",
       "      <td>1323.606100</td>\n",
       "      <td>1378.745700</td>\n",
       "      <td>-12.186400</td>\n",
       "    </tr>\n",
       "    <tr>\n",
       "      <th>1</th>\n",
       "      <td>stottte99c|02|04|ATL</td>\n",
       "      <td>Terry Stotts</td>\n",
       "      <td>stottte99c</td>\n",
       "      <td>fired</td>\n",
       "      <td>137.0</td>\n",
       "      <td>52.0</td>\n",
       "      <td>85.0</td>\n",
       "      <td>1431.2126</td>\n",
       "      <td>1404.524900</td>\n",
       "      <td>-26.687700</td>\n",
       "      <td>1454.6630</td>\n",
       "      <td>1351.422900</td>\n",
       "      <td>1405.307300</td>\n",
       "      <td>-45.435100</td>\n",
       "    </tr>\n",
       "    <tr>\n",
       "      <th>2</th>\n",
       "      <td>woodsmi01c|04|10|ATL</td>\n",
       "      <td>Mike Woodson</td>\n",
       "      <td>woodsmi01c</td>\n",
       "      <td>fired</td>\n",
       "      <td>493.0</td>\n",
       "      <td>206.0</td>\n",
       "      <td>287.0</td>\n",
       "      <td>1416.4968</td>\n",
       "      <td>1625.673800</td>\n",
       "      <td>209.177000</td>\n",
       "      <td>1625.6738</td>\n",
       "      <td>1201.651600</td>\n",
       "      <td>1411.411200</td>\n",
       "      <td>113.429300</td>\n",
       "    </tr>\n",
       "    <tr>\n",
       "      <th>3</th>\n",
       "      <td>drewla01c|10|13|ATL</td>\n",
       "      <td>Larry Drew</td>\n",
       "      <td>drewla01c</td>\n",
       "      <td>fired</td>\n",
       "      <td>230.0</td>\n",
       "      <td>128.0</td>\n",
       "      <td>102.0</td>\n",
       "      <td>1577.6614</td>\n",
       "      <td>1481.606100</td>\n",
       "      <td>-96.055300</td>\n",
       "      <td>1608.4310</td>\n",
       "      <td>1434.701400</td>\n",
       "      <td>1535.034800</td>\n",
       "      <td>-51.160300</td>\n",
       "    </tr>\n",
       "    <tr>\n",
       "      <th>4</th>\n",
       "      <td>budenmi99c|13|17|ATL</td>\n",
       "      <td>Mike Budenholzer</td>\n",
       "      <td>budenmi99c</td>\n",
       "      <td>NaN</td>\n",
       "      <td>356.0</td>\n",
       "      <td>195.0</td>\n",
       "      <td>161.0</td>\n",
       "      <td>1479.5092</td>\n",
       "      <td>1372.671326</td>\n",
       "      <td>-106.837874</td>\n",
       "      <td>1701.1826</td>\n",
       "      <td>1372.671326</td>\n",
       "      <td>1520.065407</td>\n",
       "      <td>-122.969061</td>\n",
       "    </tr>\n",
       "  </tbody>\n",
       "</table>\n",
       "</div>"
      ],
      "text/plain": [
       "                   slug             coach    coach_id ending  total_games  \\\n",
       "0  krugelo99c|00|02|ATL        Lon Kruger  krugelo99c  fired        191.0   \n",
       "1  stottte99c|02|04|ATL      Terry Stotts  stottte99c  fired        137.0   \n",
       "2  woodsmi01c|04|10|ATL      Mike Woodson  woodsmi01c  fired        493.0   \n",
       "3   drewla01c|10|13|ATL        Larry Drew   drewla01c  fired        230.0   \n",
       "4  budenmi99c|13|17|ATL  Mike Budenholzer  budenmi99c    NaN        356.0   \n",
       "\n",
       "   total_wins  total_losses  start_rating   end_rating  improvement  \\\n",
       "0        69.0         122.0     1354.0496  1424.825000    70.775400   \n",
       "1        52.0          85.0     1431.2126  1404.524900   -26.687700   \n",
       "2       206.0         287.0     1416.4968  1625.673800   209.177000   \n",
       "3       128.0         102.0     1577.6614  1481.606100   -96.055300   \n",
       "4       195.0         161.0     1479.5092  1372.671326  -106.837874   \n",
       "\n",
       "         top       bottom       middle  last_improvement  \n",
       "0  1498.4465  1323.606100  1378.745700        -12.186400  \n",
       "1  1454.6630  1351.422900  1405.307300        -45.435100  \n",
       "2  1625.6738  1201.651600  1411.411200        113.429300  \n",
       "3  1608.4310  1434.701400  1535.034800        -51.160300  \n",
       "4  1701.1826  1372.671326  1520.065407       -122.969061  "
      ]
     },
     "execution_count": 52,
     "metadata": {},
     "output_type": "execute_result"
    }
   ],
   "source": [
    "TENURES.head()"
   ]
  },
  {
   "cell_type": "code",
   "execution_count": 53,
   "metadata": {},
   "outputs": [
    {
     "data": {
      "text/plain": [
       "fired               114\n",
       "resigned             26\n",
       "contract expired      2\n",
       "traded                2\n",
       "retired               2\n",
       "mutual                2\n",
       "died                  1\n",
       "Name: ending, dtype: int64"
      ]
     },
     "execution_count": 53,
     "metadata": {},
     "output_type": "execute_result"
    }
   ],
   "source": [
    "TENURES.ending.value_counts()"
   ]
  },
  {
   "cell_type": "code",
   "execution_count": 54,
   "metadata": {},
   "outputs": [],
   "source": [
    "death_event = ['fired', 'contract expired', 'mutual']"
   ]
  },
  {
   "cell_type": "code",
   "execution_count": 55,
   "metadata": {},
   "outputs": [],
   "source": [
    "TENURES['death'] = (TENURES.ending.isin(death_event) * 1)"
   ]
  },
  {
   "cell_type": "code",
   "execution_count": 56,
   "metadata": {},
   "outputs": [
    {
     "data": {
      "text/html": [
       "<div>\n",
       "<style>\n",
       "    .dataframe thead tr:only-child th {\n",
       "        text-align: right;\n",
       "    }\n",
       "\n",
       "    .dataframe thead th {\n",
       "        text-align: left;\n",
       "    }\n",
       "\n",
       "    .dataframe tbody tr th {\n",
       "        vertical-align: top;\n",
       "    }\n",
       "</style>\n",
       "<table border=\"1\" class=\"dataframe\">\n",
       "  <thead>\n",
       "    <tr style=\"text-align: right;\">\n",
       "      <th></th>\n",
       "      <th>slug</th>\n",
       "      <th>coach</th>\n",
       "      <th>coach_id</th>\n",
       "      <th>ending</th>\n",
       "      <th>total_games</th>\n",
       "      <th>total_wins</th>\n",
       "      <th>total_losses</th>\n",
       "      <th>start_rating</th>\n",
       "      <th>end_rating</th>\n",
       "      <th>improvement</th>\n",
       "      <th>top</th>\n",
       "      <th>bottom</th>\n",
       "      <th>middle</th>\n",
       "      <th>last_improvement</th>\n",
       "      <th>death</th>\n",
       "    </tr>\n",
       "  </thead>\n",
       "  <tbody>\n",
       "    <tr>\n",
       "      <th>153</th>\n",
       "      <td>obrieji99c|04|05|PHI</td>\n",
       "      <td>Jim O'Brien</td>\n",
       "      <td>obrieji99c</td>\n",
       "      <td>fired</td>\n",
       "      <td>82.0</td>\n",
       "      <td>43.0</td>\n",
       "      <td>39.0</td>\n",
       "      <td>1434.0282</td>\n",
       "      <td>1500.2852</td>\n",
       "      <td>66.2570</td>\n",
       "      <td>1501.7698</td>\n",
       "      <td>1394.0254</td>\n",
       "      <td>1460.7247</td>\n",
       "      <td>66.2570</td>\n",
       "      <td>1</td>\n",
       "    </tr>\n",
       "    <tr>\n",
       "      <th>145</th>\n",
       "      <td>vangust99c|07|12|ORL</td>\n",
       "      <td>Stan Van Gundy</td>\n",
       "      <td>vangust99c</td>\n",
       "      <td>fired</td>\n",
       "      <td>394.0</td>\n",
       "      <td>259.0</td>\n",
       "      <td>135.0</td>\n",
       "      <td>1503.2628</td>\n",
       "      <td>1494.8663</td>\n",
       "      <td>-8.3965</td>\n",
       "      <td>1721.8114</td>\n",
       "      <td>1485.5931</td>\n",
       "      <td>1623.5188</td>\n",
       "      <td>-82.6139</td>\n",
       "      <td>1</td>\n",
       "    </tr>\n",
       "    <tr>\n",
       "      <th>96</th>\n",
       "      <td>portete01c|03|05|MIL</td>\n",
       "      <td>Terry Porter</td>\n",
       "      <td>portete01c</td>\n",
       "      <td>fired</td>\n",
       "      <td>164.0</td>\n",
       "      <td>71.0</td>\n",
       "      <td>93.0</td>\n",
       "      <td>1493.1877</td>\n",
       "      <td>1368.4817</td>\n",
       "      <td>-124.7060</td>\n",
       "      <td>1547.3345</td>\n",
       "      <td>1368.4817</td>\n",
       "      <td>1490.8351</td>\n",
       "      <td>-115.8988</td>\n",
       "      <td>1</td>\n",
       "    </tr>\n",
       "    <tr>\n",
       "      <th>178</th>\n",
       "      <td>westppa01c|09|12|SAC</td>\n",
       "      <td>Paul Westphal</td>\n",
       "      <td>westppa01c</td>\n",
       "      <td>fired</td>\n",
       "      <td>171.0</td>\n",
       "      <td>51.0</td>\n",
       "      <td>120.0</td>\n",
       "      <td>1334.1420</td>\n",
       "      <td>1419.4415</td>\n",
       "      <td>85.2995</td>\n",
       "      <td>1453.4791</td>\n",
       "      <td>1272.2406</td>\n",
       "      <td>1348.8881</td>\n",
       "      <td>-34.0376</td>\n",
       "      <td>1</td>\n",
       "    </tr>\n",
       "    <tr>\n",
       "      <th>215</th>\n",
       "      <td>saundfl99c|09|12|WAS</td>\n",
       "      <td>Flip Saunders</td>\n",
       "      <td>saundfl99c</td>\n",
       "      <td>fired</td>\n",
       "      <td>181.0</td>\n",
       "      <td>51.0</td>\n",
       "      <td>130.0</td>\n",
       "      <td>1387.2084</td>\n",
       "      <td>1306.8265</td>\n",
       "      <td>-80.3819</td>\n",
       "      <td>1414.0051</td>\n",
       "      <td>1265.5120</td>\n",
       "      <td>1352.1587</td>\n",
       "      <td>-53.1907</td>\n",
       "      <td>1</td>\n",
       "    </tr>\n",
       "  </tbody>\n",
       "</table>\n",
       "</div>"
      ],
      "text/plain": [
       "                     slug           coach    coach_id ending  total_games  \\\n",
       "153  obrieji99c|04|05|PHI     Jim O'Brien  obrieji99c  fired         82.0   \n",
       "145  vangust99c|07|12|ORL  Stan Van Gundy  vangust99c  fired        394.0   \n",
       "96   portete01c|03|05|MIL    Terry Porter  portete01c  fired        164.0   \n",
       "178  westppa01c|09|12|SAC   Paul Westphal  westppa01c  fired        171.0   \n",
       "215  saundfl99c|09|12|WAS   Flip Saunders  saundfl99c  fired        181.0   \n",
       "\n",
       "     total_wins  total_losses  start_rating  end_rating  improvement  \\\n",
       "153        43.0          39.0     1434.0282   1500.2852      66.2570   \n",
       "145       259.0         135.0     1503.2628   1494.8663      -8.3965   \n",
       "96         71.0          93.0     1493.1877   1368.4817    -124.7060   \n",
       "178        51.0         120.0     1334.1420   1419.4415      85.2995   \n",
       "215        51.0         130.0     1387.2084   1306.8265     -80.3819   \n",
       "\n",
       "           top     bottom     middle  last_improvement  death  \n",
       "153  1501.7698  1394.0254  1460.7247           66.2570      1  \n",
       "145  1721.8114  1485.5931  1623.5188          -82.6139      1  \n",
       "96   1547.3345  1368.4817  1490.8351         -115.8988      1  \n",
       "178  1453.4791  1272.2406  1348.8881          -34.0376      1  \n",
       "215  1414.0051  1265.5120  1352.1587          -53.1907      1  "
      ]
     },
     "execution_count": 56,
     "metadata": {},
     "output_type": "execute_result"
    }
   ],
   "source": [
    "TENURES.sample(5)"
   ]
  },
  {
   "cell_type": "code",
   "execution_count": 57,
   "metadata": {},
   "outputs": [],
   "source": [
    "kmf = ll.KaplanMeierFitter()"
   ]
  },
  {
   "cell_type": "code",
   "execution_count": 58,
   "metadata": {},
   "outputs": [
    {
     "data": {
      "text/plain": [
       "<lifelines.KaplanMeierFitter: fitted with 179 observations, 61 censored>"
      ]
     },
     "execution_count": 58,
     "metadata": {},
     "output_type": "execute_result"
    }
   ],
   "source": [
    "kmf.fit(TENURES.total_games, event_observed=TENURES.death)"
   ]
  },
  {
   "cell_type": "code",
   "execution_count": 59,
   "metadata": {},
   "outputs": [
    {
     "data": {
      "image/png": "[encoded data removed]",
      "text/plain": [
       "<matplotlib.figure.Figure at 0x7f49c0ecdd10>"
      ]
     },
     "metadata": {},
     "output_type": "display_data"
    }
   ],
   "source": [
    "kmf.survival_function_.plot(figsize=(16,8))\n",
    "plt.title('Survival function of NBA coaches');"
   ]
  },
  {
   "cell_type": "code",
   "execution_count": 60,
   "metadata": {},
   "outputs": [
    {
     "data": {
      "text/plain": [
       "Text(0.5,1,u'Survival function of NBA coaches')"
      ]
     },
     "execution_count": 60,
     "metadata": {},
     "output_type": "execute_result"
    },
    {
     "data": {
      "image/png": "[encoded data removed]",
      "text/plain": [
       "<matplotlib.figure.Figure at 0x7f49c0f96c50>"
      ]
     },
     "metadata": {},
     "output_type": "display_data"
    }
   ],
   "source": [
    "kmf.plot(figsize=(16,8))\n",
    "[plt.axvline(g, c='black', alpha=0.2) for g in range(82, 82*20, 82)]\n",
    "plt.xlim(0, 600)\n",
    "plt.title('Survival function of NBA coaches')"
   ]
  },
  {
   "cell_type": "code",
   "execution_count": 61,
   "metadata": {},
   "outputs": [],
   "source": [
    "POC = pd.read_csv('../categorized/coach-list-poc.csv')"
   ]
  },
  {
   "cell_type": "code",
   "execution_count": 62,
   "metadata": {},
   "outputs": [
    {
     "data": {
      "text/html": [
       "<div>\n",
       "<style>\n",
       "    .dataframe thead tr:only-child th {\n",
       "        text-align: right;\n",
       "    }\n",
       "\n",
       "    .dataframe thead th {\n",
       "        text-align: left;\n",
       "    }\n",
       "\n",
       "    .dataframe tbody tr th {\n",
       "        vertical-align: top;\n",
       "    }\n",
       "</style>\n",
       "<table border=\"1\" class=\"dataframe\">\n",
       "  <thead>\n",
       "    <tr style=\"text-align: right;\">\n",
       "      <th></th>\n",
       "      <th>coach</th>\n",
       "      <th>coach_id</th>\n",
       "      <th>franchises</th>\n",
       "      <th>poc</th>\n",
       "      <th>note</th>\n",
       "    </tr>\n",
       "  </thead>\n",
       "  <tbody>\n",
       "    <tr>\n",
       "      <th>0</th>\n",
       "      <td>Tyronn Lue</td>\n",
       "      <td>luety01c</td>\n",
       "      <td>CLE</td>\n",
       "      <td>yes</td>\n",
       "      <td>NaN</td>\n",
       "    </tr>\n",
       "    <tr>\n",
       "      <th>1</th>\n",
       "      <td>Tyrone Corbin</td>\n",
       "      <td>corbity01c</td>\n",
       "      <td>SAC|UTA</td>\n",
       "      <td>yes</td>\n",
       "      <td>NaN</td>\n",
       "    </tr>\n",
       "    <tr>\n",
       "      <th>2</th>\n",
       "      <td>Tony Brown</td>\n",
       "      <td>brownto01c</td>\n",
       "      <td>NJNBRK</td>\n",
       "      <td>yes</td>\n",
       "      <td>NaN</td>\n",
       "    </tr>\n",
       "    <tr>\n",
       "      <th>3</th>\n",
       "      <td>Terry Porter</td>\n",
       "      <td>portete01c</td>\n",
       "      <td>PHO|MIL</td>\n",
       "      <td>yes</td>\n",
       "      <td>NaN</td>\n",
       "    </tr>\n",
       "    <tr>\n",
       "      <th>4</th>\n",
       "      <td>Sidney Lowe</td>\n",
       "      <td>lowesi01c</td>\n",
       "      <td>VANMEM</td>\n",
       "      <td>yes</td>\n",
       "      <td>NaN</td>\n",
       "    </tr>\n",
       "  </tbody>\n",
       "</table>\n",
       "</div>"
      ],
      "text/plain": [
       "           coach    coach_id franchises  poc note\n",
       "0     Tyronn Lue    luety01c        CLE  yes  NaN\n",
       "1  Tyrone Corbin  corbity01c    SAC|UTA  yes  NaN\n",
       "2     Tony Brown  brownto01c     NJNBRK  yes  NaN\n",
       "3   Terry Porter  portete01c    PHO|MIL  yes  NaN\n",
       "4    Sidney Lowe   lowesi01c     VANMEM  yes  NaN"
      ]
     },
     "execution_count": 62,
     "metadata": {},
     "output_type": "execute_result"
    }
   ],
   "source": [
    "POC.head()"
   ]
  },
  {
   "cell_type": "code",
   "execution_count": 63,
   "metadata": {},
   "outputs": [],
   "source": [
    "PLAYERS = pd.read_csv('../categorized/coach-list-qualifications.csv')"
   ]
  },
  {
   "cell_type": "code",
   "execution_count": 64,
   "metadata": {},
   "outputs": [
    {
     "data": {
      "text/html": [
       "<div>\n",
       "<style>\n",
       "    .dataframe thead tr:only-child th {\n",
       "        text-align: right;\n",
       "    }\n",
       "\n",
       "    .dataframe thead th {\n",
       "        text-align: left;\n",
       "    }\n",
       "\n",
       "    .dataframe tbody tr th {\n",
       "        vertical-align: top;\n",
       "    }\n",
       "</style>\n",
       "<table border=\"1\" class=\"dataframe\">\n",
       "  <thead>\n",
       "    <tr style=\"text-align: right;\">\n",
       "      <th></th>\n",
       "      <th>coach</th>\n",
       "      <th>coach_id</th>\n",
       "      <th>franchises</th>\n",
       "      <th>former_nba_player</th>\n",
       "    </tr>\n",
       "  </thead>\n",
       "  <tbody>\n",
       "    <tr>\n",
       "      <th>0</th>\n",
       "      <td>Isiah Thomas</td>\n",
       "      <td>thomais01c</td>\n",
       "      <td>IND|NYK</td>\n",
       "      <td>yes</td>\n",
       "    </tr>\n",
       "    <tr>\n",
       "      <th>1</th>\n",
       "      <td>Michael Cooper</td>\n",
       "      <td>coopemi01c</td>\n",
       "      <td>DEN</td>\n",
       "      <td>yes</td>\n",
       "    </tr>\n",
       "    <tr>\n",
       "      <th>2</th>\n",
       "      <td>Larry Drew</td>\n",
       "      <td>drewla01c</td>\n",
       "      <td>ATL|MIL</td>\n",
       "      <td>yes</td>\n",
       "    </tr>\n",
       "    <tr>\n",
       "      <th>3</th>\n",
       "      <td>Vinny Del Negro</td>\n",
       "      <td>delnevi01c</td>\n",
       "      <td>CHI|LAC</td>\n",
       "      <td>yes</td>\n",
       "    </tr>\n",
       "    <tr>\n",
       "      <th>4</th>\n",
       "      <td>Paul Westphal</td>\n",
       "      <td>westppa01c</td>\n",
       "      <td>SAC|SEAOKC</td>\n",
       "      <td>yes</td>\n",
       "    </tr>\n",
       "  </tbody>\n",
       "</table>\n",
       "</div>"
      ],
      "text/plain": [
       "             coach    coach_id  franchises former_nba_player\n",
       "0     Isiah Thomas  thomais01c     IND|NYK               yes\n",
       "1   Michael Cooper  coopemi01c         DEN               yes\n",
       "2       Larry Drew   drewla01c     ATL|MIL               yes\n",
       "3  Vinny Del Negro  delnevi01c     CHI|LAC               yes\n",
       "4    Paul Westphal  westppa01c  SAC|SEAOKC               yes"
      ]
     },
     "execution_count": 64,
     "metadata": {},
     "output_type": "execute_result"
    }
   ],
   "source": [
    "PLAYERS.head()"
   ]
  },
  {
   "cell_type": "code",
   "execution_count": 65,
   "metadata": {},
   "outputs": [],
   "source": [
    "tenures = TENURES.merge(\n",
    "    POC[['coach','poc']], \n",
    "    how='left'\n",
    ").merge(\n",
    "    PLAYERS[['coach','former_nba_player']],\n",
    "    how='left'\n",
    ")"
   ]
  },
  {
   "cell_type": "code",
   "execution_count": 66,
   "metadata": {},
   "outputs": [
    {
     "data": {
      "text/plain": [
       "0"
      ]
     },
     "execution_count": 66,
     "metadata": {},
     "output_type": "execute_result"
    }
   ],
   "source": [
    "tenures.poc.isnull().sum()"
   ]
  },
  {
   "cell_type": "code",
   "execution_count": 67,
   "metadata": {
    "scrolled": true
   },
   "outputs": [
    {
     "data": {
      "text/plain": [
       "0"
      ]
     },
     "execution_count": 67,
     "metadata": {},
     "output_type": "execute_result"
    }
   ],
   "source": [
    "tenures.former_nba_player.isnull().sum()"
   ]
  },
  {
   "cell_type": "code",
   "execution_count": 68,
   "metadata": {},
   "outputs": [
    {
     "data": {
      "text/html": [
       "<div>\n",
       "<style>\n",
       "    .dataframe thead tr:only-child th {\n",
       "        text-align: right;\n",
       "    }\n",
       "\n",
       "    .dataframe thead th {\n",
       "        text-align: left;\n",
       "    }\n",
       "\n",
       "    .dataframe tbody tr th {\n",
       "        vertical-align: top;\n",
       "    }\n",
       "</style>\n",
       "<table border=\"1\" class=\"dataframe\">\n",
       "  <thead>\n",
       "    <tr style=\"text-align: right;\">\n",
       "      <th>poc</th>\n",
       "      <th>no</th>\n",
       "      <th>yes</th>\n",
       "    </tr>\n",
       "    <tr>\n",
       "      <th>former_nba_player</th>\n",
       "      <th></th>\n",
       "      <th></th>\n",
       "    </tr>\n",
       "  </thead>\n",
       "  <tbody>\n",
       "    <tr>\n",
       "      <th>no</th>\n",
       "      <td>50</td>\n",
       "      <td>15</td>\n",
       "    </tr>\n",
       "    <tr>\n",
       "      <th>yes</th>\n",
       "      <td>60</td>\n",
       "      <td>54</td>\n",
       "    </tr>\n",
       "  </tbody>\n",
       "</table>\n",
       "</div>"
      ],
      "text/plain": [
       "poc                no  yes\n",
       "former_nba_player         \n",
       "no                 50   15\n",
       "yes                60   54"
      ]
     },
     "execution_count": 68,
     "metadata": {},
     "output_type": "execute_result"
    }
   ],
   "source": [
    "tenures.groupby(['poc','former_nba_player']).size().unstack('poc')"
   ]
  },
  {
   "cell_type": "code",
   "execution_count": 69,
   "metadata": {},
   "outputs": [
    {
     "data": {
      "text/html": [
       "<div>\n",
       "<style>\n",
       "    .dataframe thead tr:only-child th {\n",
       "        text-align: right;\n",
       "    }\n",
       "\n",
       "    .dataframe thead th {\n",
       "        text-align: left;\n",
       "    }\n",
       "\n",
       "    .dataframe tbody tr th {\n",
       "        vertical-align: top;\n",
       "    }\n",
       "</style>\n",
       "<table border=\"1\" class=\"dataframe\">\n",
       "  <thead>\n",
       "    <tr style=\"text-align: right;\">\n",
       "      <th></th>\n",
       "      <th>slug</th>\n",
       "      <th>coach</th>\n",
       "      <th>coach_id</th>\n",
       "      <th>ending</th>\n",
       "      <th>total_games</th>\n",
       "      <th>total_wins</th>\n",
       "      <th>total_losses</th>\n",
       "      <th>start_rating</th>\n",
       "      <th>end_rating</th>\n",
       "      <th>improvement</th>\n",
       "      <th>top</th>\n",
       "      <th>bottom</th>\n",
       "      <th>middle</th>\n",
       "      <th>last_improvement</th>\n",
       "      <th>death</th>\n",
       "      <th>poc</th>\n",
       "      <th>former_nba_player</th>\n",
       "    </tr>\n",
       "  </thead>\n",
       "  <tbody>\n",
       "    <tr>\n",
       "      <th>0</th>\n",
       "      <td>krugelo99c|00|02|ATL</td>\n",
       "      <td>Lon Kruger</td>\n",
       "      <td>krugelo99c</td>\n",
       "      <td>fired</td>\n",
       "      <td>191.0</td>\n",
       "      <td>69.0</td>\n",
       "      <td>122.0</td>\n",
       "      <td>1354.0496</td>\n",
       "      <td>1424.825000</td>\n",
       "      <td>70.775400</td>\n",
       "      <td>1498.4465</td>\n",
       "      <td>1323.606100</td>\n",
       "      <td>1378.745700</td>\n",
       "      <td>-12.186400</td>\n",
       "      <td>1</td>\n",
       "      <td>no</td>\n",
       "      <td>no</td>\n",
       "    </tr>\n",
       "    <tr>\n",
       "      <th>1</th>\n",
       "      <td>stottte99c|02|04|ATL</td>\n",
       "      <td>Terry Stotts</td>\n",
       "      <td>stottte99c</td>\n",
       "      <td>fired</td>\n",
       "      <td>137.0</td>\n",
       "      <td>52.0</td>\n",
       "      <td>85.0</td>\n",
       "      <td>1431.2126</td>\n",
       "      <td>1404.524900</td>\n",
       "      <td>-26.687700</td>\n",
       "      <td>1454.6630</td>\n",
       "      <td>1351.422900</td>\n",
       "      <td>1405.307300</td>\n",
       "      <td>-45.435100</td>\n",
       "      <td>1</td>\n",
       "      <td>no</td>\n",
       "      <td>no</td>\n",
       "    </tr>\n",
       "    <tr>\n",
       "      <th>2</th>\n",
       "      <td>woodsmi01c|04|10|ATL</td>\n",
       "      <td>Mike Woodson</td>\n",
       "      <td>woodsmi01c</td>\n",
       "      <td>fired</td>\n",
       "      <td>493.0</td>\n",
       "      <td>206.0</td>\n",
       "      <td>287.0</td>\n",
       "      <td>1416.4968</td>\n",
       "      <td>1625.673800</td>\n",
       "      <td>209.177000</td>\n",
       "      <td>1625.6738</td>\n",
       "      <td>1201.651600</td>\n",
       "      <td>1411.411200</td>\n",
       "      <td>113.429300</td>\n",
       "      <td>1</td>\n",
       "      <td>yes</td>\n",
       "      <td>yes</td>\n",
       "    </tr>\n",
       "    <tr>\n",
       "      <th>3</th>\n",
       "      <td>drewla01c|10|13|ATL</td>\n",
       "      <td>Larry Drew</td>\n",
       "      <td>drewla01c</td>\n",
       "      <td>fired</td>\n",
       "      <td>230.0</td>\n",
       "      <td>128.0</td>\n",
       "      <td>102.0</td>\n",
       "      <td>1577.6614</td>\n",
       "      <td>1481.606100</td>\n",
       "      <td>-96.055300</td>\n",
       "      <td>1608.4310</td>\n",
       "      <td>1434.701400</td>\n",
       "      <td>1535.034800</td>\n",
       "      <td>-51.160300</td>\n",
       "      <td>1</td>\n",
       "      <td>yes</td>\n",
       "      <td>yes</td>\n",
       "    </tr>\n",
       "    <tr>\n",
       "      <th>4</th>\n",
       "      <td>budenmi99c|13|17|ATL</td>\n",
       "      <td>Mike Budenholzer</td>\n",
       "      <td>budenmi99c</td>\n",
       "      <td>NaN</td>\n",
       "      <td>356.0</td>\n",
       "      <td>195.0</td>\n",
       "      <td>161.0</td>\n",
       "      <td>1479.5092</td>\n",
       "      <td>1372.671326</td>\n",
       "      <td>-106.837874</td>\n",
       "      <td>1701.1826</td>\n",
       "      <td>1372.671326</td>\n",
       "      <td>1520.065407</td>\n",
       "      <td>-122.969061</td>\n",
       "      <td>0</td>\n",
       "      <td>no</td>\n",
       "      <td>no</td>\n",
       "    </tr>\n",
       "  </tbody>\n",
       "</table>\n",
       "</div>"
      ],
      "text/plain": [
       "                   slug             coach    coach_id ending  total_games  \\\n",
       "0  krugelo99c|00|02|ATL        Lon Kruger  krugelo99c  fired        191.0   \n",
       "1  stottte99c|02|04|ATL      Terry Stotts  stottte99c  fired        137.0   \n",
       "2  woodsmi01c|04|10|ATL      Mike Woodson  woodsmi01c  fired        493.0   \n",
       "3   drewla01c|10|13|ATL        Larry Drew   drewla01c  fired        230.0   \n",
       "4  budenmi99c|13|17|ATL  Mike Budenholzer  budenmi99c    NaN        356.0   \n",
       "\n",
       "   total_wins  total_losses  start_rating   end_rating  improvement  \\\n",
       "0        69.0         122.0     1354.0496  1424.825000    70.775400   \n",
       "1        52.0          85.0     1431.2126  1404.524900   -26.687700   \n",
       "2       206.0         287.0     1416.4968  1625.673800   209.177000   \n",
       "3       128.0         102.0     1577.6614  1481.606100   -96.055300   \n",
       "4       195.0         161.0     1479.5092  1372.671326  -106.837874   \n",
       "\n",
       "         top       bottom       middle  last_improvement  death  poc  \\\n",
       "0  1498.4465  1323.606100  1378.745700        -12.186400      1   no   \n",
       "1  1454.6630  1351.422900  1405.307300        -45.435100      1   no   \n",
       "2  1625.6738  1201.651600  1411.411200        113.429300      1  yes   \n",
       "3  1608.4310  1434.701400  1535.034800        -51.160300      1  yes   \n",
       "4  1701.1826  1372.671326  1520.065407       -122.969061      0   no   \n",
       "\n",
       "  former_nba_player  \n",
       "0                no  \n",
       "1                no  \n",
       "2               yes  \n",
       "3               yes  \n",
       "4                no  "
      ]
     },
     "execution_count": 69,
     "metadata": {},
     "output_type": "execute_result"
    }
   ],
   "source": [
    "tenures.head()"
   ]
  },
  {
   "cell_type": "markdown",
   "metadata": {},
   "source": [
    "# POC v. white coaches"
   ]
  },
  {
   "cell_type": "code",
   "execution_count": 70,
   "metadata": {},
   "outputs": [
    {
     "data": {
      "text/plain": [
       "(0, 600)"
      ]
     },
     "execution_count": 70,
     "metadata": {},
     "output_type": "execute_result"
    },
    {
     "data": {
      "image/png": "[encoded data removed]",
      "text/plain": [
       "<matplotlib.figure.Figure at 0x7f49c0e85e90>"
      ]
     },
     "metadata": {},
     "output_type": "display_data"
    }
   ],
   "source": [
    "plt.figure(figsize=(16,8))\n",
    "ax = plt.subplot(111)\n",
    "\n",
    "ispoc = (tenures['poc'] == 'yes')\n",
    "\n",
    "kmfpoc = ll.KaplanMeierFitter()\n",
    "kmfpoc.fit(tenures[ispoc].total_games, event_observed=tenures[ispoc].death, label=\"POC\")\n",
    "kmfpoc.plot(ax=ax)\n",
    "pocmed = kmfpoc.median_\n",
    "\n",
    "kmfwht = ll.KaplanMeierFitter()\n",
    "kmfwht.fit(tenures[~ispoc].total_games, event_observed=tenures[~ispoc].death, label=\"White\")\n",
    "kmfwht.plot(ax=ax)\n",
    "whtmed = kmfwht.median_\n",
    "\n",
    "plt.axhline(0.5, c='#666666', alpha=0.5)\n",
    "\n",
    "plt.xlim(0,600)"
   ]
  },
  {
   "cell_type": "code",
   "execution_count": 71,
   "metadata": {},
   "outputs": [
    {
     "name": "stdout",
     "output_type": "stream",
     "text": [
      "The median survival time for POC coaches was 222.0 games\n",
      "The median survival time for white coaches was 290.0 games\n"
     ]
    }
   ],
   "source": [
    "print \"The median survival time for POC coaches was {} games\".format(pocmed)\n",
    "print \"The median survival time for white coaches was {} games\".format(whtmed)"
   ]
  },
  {
   "cell_type": "code",
   "execution_count": 72,
   "metadata": {},
   "outputs": [
    {
     "name": "stdout",
     "output_type": "stream",
     "text": [
      "Results\n",
      "   df: 1\n",
      "   alpha: 0.95\n",
      "   t 0: -1\n",
      "   test: logrank\n",
      "   null distribution: chi squared\n",
      "\n",
      "   __ p-value ___|__ test statistic __|____ test result ____|__ is significant __\n",
      "         0.03192 |              4.603 |      Reject Null    |        True       \n"
     ]
    }
   ],
   "source": [
    "results = logrank_test(\n",
    "    tenures[ispoc].total_games, tenures[~ispoc].total_games,\n",
    "    event_observed_A=tenures[ispoc].death, event_observed_B=tenures[~ispoc].death\n",
    ")\n",
    "results.print_summary()"
   ]
  },
  {
   "cell_type": "markdown",
   "metadata": {},
   "source": [
    "# Former NBA players versus non-players "
   ]
  },
  {
   "cell_type": "code",
   "execution_count": 73,
   "metadata": {},
   "outputs": [
    {
     "data": {
      "text/plain": [
       "(0, 600)"
      ]
     },
     "execution_count": 73,
     "metadata": {},
     "output_type": "execute_result"
    },
    {
     "data": {
      "image/png": "[encoded data removed]",
      "text/plain": [
       "<matplotlib.figure.Figure at 0x7f49beaf5450>"
      ]
     },
     "metadata": {},
     "output_type": "display_data"
    }
   ],
   "source": [
    "plt.figure(figsize=(16,8))\n",
    "ax = plt.subplot(111)\n",
    "\n",
    "former_player = (tenures['former_nba_player'] == 'yes')\n",
    "\n",
    "kmf.fit(tenures[former_player].total_games, event_observed=tenures[former_player].death, label=\"Former player\")\n",
    "kmf.plot(ax=ax)\n",
    "nbamed = kmf.median_\n",
    "kmf.fit(tenures[~former_player].total_games, event_observed=tenures[~former_player].death, label=\"No NBA exp.\")\n",
    "kmf.plot(ax=ax)\n",
    "nonmed = kmf.median_\n",
    "\n",
    "plt.axhline(0.5, c='#666666', alpha=0.5)\n",
    "\n",
    "plt.xlim(0,600)"
   ]
  },
  {
   "cell_type": "code",
   "execution_count": 74,
   "metadata": {},
   "outputs": [
    {
     "name": "stdout",
     "output_type": "stream",
     "text": [
      "The median survival time for former NBA players was 230.0 games\n",
      "The median survival time for non-players was 246.0 games\n"
     ]
    }
   ],
   "source": [
    "print \"The median survival time for former NBA players was {} games\".format(nbamed)\n",
    "print \"The median survival time for non-players was {} games\".format(nonmed)"
   ]
  },
  {
   "cell_type": "code",
   "execution_count": 75,
   "metadata": {
    "scrolled": true
   },
   "outputs": [
    {
     "name": "stdout",
     "output_type": "stream",
     "text": [
      "Results\n",
      "   df: 1\n",
      "   alpha: 0.95\n",
      "   t 0: -1\n",
      "   test: logrank\n",
      "   null distribution: chi squared\n",
      "\n",
      "   __ p-value ___|__ test statistic __|____ test result ____|__ is significant __\n",
      "         0.54545 |              0.366 |  Cannot Reject Null |       False       \n"
     ]
    }
   ],
   "source": [
    "results = logrank_test(\n",
    "    tenures[former_player].total_games, tenures[~former_player].total_games,\n",
    "    event_observed_A=tenures[former_player].death, event_observed_B=tenures[~former_player].death\n",
    ")\n",
    "results.print_summary()"
   ]
  },
  {
   "cell_type": "code",
   "execution_count": 77,
   "metadata": {},
   "outputs": [
    {
     "data": {
      "text/html": [
       "<div>\n",
       "<style>\n",
       "    .dataframe thead tr:only-child th {\n",
       "        text-align: right;\n",
       "    }\n",
       "\n",
       "    .dataframe thead th {\n",
       "        text-align: left;\n",
       "    }\n",
       "\n",
       "    .dataframe tbody tr th {\n",
       "        vertical-align: top;\n",
       "    }\n",
       "</style>\n",
       "<table border=\"1\" class=\"dataframe\">\n",
       "  <thead>\n",
       "    <tr style=\"text-align: right;\">\n",
       "      <th></th>\n",
       "      <th>slug</th>\n",
       "      <th>coach</th>\n",
       "      <th>coach_id</th>\n",
       "      <th>ending</th>\n",
       "      <th>total_games</th>\n",
       "      <th>total_wins</th>\n",
       "      <th>total_losses</th>\n",
       "      <th>start_rating</th>\n",
       "      <th>end_rating</th>\n",
       "      <th>improvement</th>\n",
       "      <th>top</th>\n",
       "      <th>bottom</th>\n",
       "      <th>middle</th>\n",
       "      <th>last_improvement</th>\n",
       "      <th>death</th>\n",
       "      <th>poc</th>\n",
       "      <th>former_nba_player</th>\n",
       "    </tr>\n",
       "  </thead>\n",
       "  <tbody>\n",
       "    <tr>\n",
       "      <th>0</th>\n",
       "      <td>krugelo99c|00|02|ATL</td>\n",
       "      <td>Lon Kruger</td>\n",
       "      <td>krugelo99c</td>\n",
       "      <td>fired</td>\n",
       "      <td>191.0</td>\n",
       "      <td>69.0</td>\n",
       "      <td>122.0</td>\n",
       "      <td>1354.0496</td>\n",
       "      <td>1424.825000</td>\n",
       "      <td>70.775400</td>\n",
       "      <td>1498.4465</td>\n",
       "      <td>1323.606100</td>\n",
       "      <td>1378.745700</td>\n",
       "      <td>-12.186400</td>\n",
       "      <td>1</td>\n",
       "      <td>no</td>\n",
       "      <td>no</td>\n",
       "    </tr>\n",
       "    <tr>\n",
       "      <th>1</th>\n",
       "      <td>stottte99c|02|04|ATL</td>\n",
       "      <td>Terry Stotts</td>\n",
       "      <td>stottte99c</td>\n",
       "      <td>fired</td>\n",
       "      <td>137.0</td>\n",
       "      <td>52.0</td>\n",
       "      <td>85.0</td>\n",
       "      <td>1431.2126</td>\n",
       "      <td>1404.524900</td>\n",
       "      <td>-26.687700</td>\n",
       "      <td>1454.6630</td>\n",
       "      <td>1351.422900</td>\n",
       "      <td>1405.307300</td>\n",
       "      <td>-45.435100</td>\n",
       "      <td>1</td>\n",
       "      <td>no</td>\n",
       "      <td>no</td>\n",
       "    </tr>\n",
       "    <tr>\n",
       "      <th>2</th>\n",
       "      <td>woodsmi01c|04|10|ATL</td>\n",
       "      <td>Mike Woodson</td>\n",
       "      <td>woodsmi01c</td>\n",
       "      <td>fired</td>\n",
       "      <td>493.0</td>\n",
       "      <td>206.0</td>\n",
       "      <td>287.0</td>\n",
       "      <td>1416.4968</td>\n",
       "      <td>1625.673800</td>\n",
       "      <td>209.177000</td>\n",
       "      <td>1625.6738</td>\n",
       "      <td>1201.651600</td>\n",
       "      <td>1411.411200</td>\n",
       "      <td>113.429300</td>\n",
       "      <td>1</td>\n",
       "      <td>yes</td>\n",
       "      <td>yes</td>\n",
       "    </tr>\n",
       "    <tr>\n",
       "      <th>3</th>\n",
       "      <td>drewla01c|10|13|ATL</td>\n",
       "      <td>Larry Drew</td>\n",
       "      <td>drewla01c</td>\n",
       "      <td>fired</td>\n",
       "      <td>230.0</td>\n",
       "      <td>128.0</td>\n",
       "      <td>102.0</td>\n",
       "      <td>1577.6614</td>\n",
       "      <td>1481.606100</td>\n",
       "      <td>-96.055300</td>\n",
       "      <td>1608.4310</td>\n",
       "      <td>1434.701400</td>\n",
       "      <td>1535.034800</td>\n",
       "      <td>-51.160300</td>\n",
       "      <td>1</td>\n",
       "      <td>yes</td>\n",
       "      <td>yes</td>\n",
       "    </tr>\n",
       "    <tr>\n",
       "      <th>4</th>\n",
       "      <td>budenmi99c|13|17|ATL</td>\n",
       "      <td>Mike Budenholzer</td>\n",
       "      <td>budenmi99c</td>\n",
       "      <td>NaN</td>\n",
       "      <td>356.0</td>\n",
       "      <td>195.0</td>\n",
       "      <td>161.0</td>\n",
       "      <td>1479.5092</td>\n",
       "      <td>1372.671326</td>\n",
       "      <td>-106.837874</td>\n",
       "      <td>1701.1826</td>\n",
       "      <td>1372.671326</td>\n",
       "      <td>1520.065407</td>\n",
       "      <td>-122.969061</td>\n",
       "      <td>0</td>\n",
       "      <td>no</td>\n",
       "      <td>no</td>\n",
       "    </tr>\n",
       "  </tbody>\n",
       "</table>\n",
       "</div>"
      ],
      "text/plain": [
       "                   slug             coach    coach_id ending  total_games  \\\n",
       "0  krugelo99c|00|02|ATL        Lon Kruger  krugelo99c  fired        191.0   \n",
       "1  stottte99c|02|04|ATL      Terry Stotts  stottte99c  fired        137.0   \n",
       "2  woodsmi01c|04|10|ATL      Mike Woodson  woodsmi01c  fired        493.0   \n",
       "3   drewla01c|10|13|ATL        Larry Drew   drewla01c  fired        230.0   \n",
       "4  budenmi99c|13|17|ATL  Mike Budenholzer  budenmi99c    NaN        356.0   \n",
       "\n",
       "   total_wins  total_losses  start_rating   end_rating  improvement  \\\n",
       "0        69.0         122.0     1354.0496  1424.825000    70.775400   \n",
       "1        52.0          85.0     1431.2126  1404.524900   -26.687700   \n",
       "2       206.0         287.0     1416.4968  1625.673800   209.177000   \n",
       "3       128.0         102.0     1577.6614  1481.606100   -96.055300   \n",
       "4       195.0         161.0     1479.5092  1372.671326  -106.837874   \n",
       "\n",
       "         top       bottom       middle  last_improvement  death  poc  \\\n",
       "0  1498.4465  1323.606100  1378.745700        -12.186400      1   no   \n",
       "1  1454.6630  1351.422900  1405.307300        -45.435100      1   no   \n",
       "2  1625.6738  1201.651600  1411.411200        113.429300      1  yes   \n",
       "3  1608.4310  1434.701400  1535.034800        -51.160300      1  yes   \n",
       "4  1701.1826  1372.671326  1520.065407       -122.969061      0   no   \n",
       "\n",
       "  former_nba_player  \n",
       "0                no  \n",
       "1                no  \n",
       "2               yes  \n",
       "3               yes  \n",
       "4                no  "
      ]
     },
     "execution_count": 77,
     "metadata": {},
     "output_type": "execute_result"
    }
   ],
   "source": [
    "tenures.head()"
   ]
  },
  {
   "cell_type": "code",
   "execution_count": 85,
   "metadata": {},
   "outputs": [],
   "source": [
    "regdata = tenures\\\n",
    ".set_index(['slug','coach','coach_id','ending'])\\\n",
    ".drop(['total_losses','improvement'], axis=1)\n",
    "\n",
    "regdata['poc'] = (regdata.poc == \"yes\") * 1\n",
    "regdata['former_nba_player'] = (regdata.former_nba_player == \"yes\") * 1"
   ]
  },
  {
   "cell_type": "code",
   "execution_count": 86,
   "metadata": {},
   "outputs": [
    {
     "name": "stdout",
     "output_type": "stream",
     "text": [
      "<class 'pandas.core.frame.DataFrame'>\n",
      "MultiIndex: 179 entries, (krugelo99c|00|02|ATL, Lon Kruger, krugelo99c, fired) to (brooksc01c|16|17|WAS, Scott Brooks, brooksc01c, nan)\n",
      "Data columns (total 11 columns):\n",
      "total_games          179 non-null float64\n",
      "total_wins           179 non-null float64\n",
      "start_rating         179 non-null float64\n",
      "end_rating           179 non-null float64\n",
      "top                  179 non-null float64\n",
      "bottom               179 non-null float64\n",
      "middle               179 non-null float64\n",
      "last_improvement     179 non-null float64\n",
      "death                179 non-null int64\n",
      "poc                  179 non-null int64\n",
      "former_nba_player    179 non-null int64\n",
      "dtypes: float64(8), int64(3)\n",
      "memory usage: 19.5+ KB\n"
     ]
    }
   ],
   "source": [
    "regdata.info()"
   ]
  },
  {
   "cell_type": "markdown",
   "metadata": {},
   "source": [
    "## Model 1: Everything"
   ]
  },
  {
   "cell_type": "code",
   "execution_count": 87,
   "metadata": {},
   "outputs": [
    {
     "data": {
      "text/plain": [
       "<lifelines.CoxPHFitter: fitted with 179 observations, 61 censored>"
      ]
     },
     "execution_count": 87,
     "metadata": {},
     "output_type": "execute_result"
    }
   ],
   "source": [
    "cph = CoxPHFitter(alpha=0.95)\n",
    "cph.fit(\n",
    "    regdata,\n",
    "    duration_col='total_games',\n",
    "    event_col='death'\n",
    ")"
   ]
  },
  {
   "cell_type": "code",
   "execution_count": 88,
   "metadata": {},
   "outputs": [
    {
     "name": "stdout",
     "output_type": "stream",
     "text": [
      "n=179, number of events=118\n",
      "\n",
      "                     coef  exp(coef)  se(coef)        z      p  lower 0.95  upper 0.95     \n",
      "total_wins        -0.0787     0.9244    0.0073 -10.8384 0.0000     -0.0929     -0.0644  ***\n",
      "start_rating      -0.0049     0.9951    0.0021  -2.3720 0.0177     -0.0090     -0.0009    *\n",
      "end_rating        -0.0008     0.9992    0.0029  -0.2691 0.7879     -0.0064      0.0048     \n",
      "top               -0.0050     0.9950    0.0043  -1.1538 0.2486     -0.0135      0.0035     \n",
      "bottom             0.0151     1.0152    0.0037   4.0503 0.0001      0.0078      0.0223  ***\n",
      "middle             0.0130     1.0131    0.0051   2.5541 0.0106      0.0030      0.0229    *\n",
      "last_improvement  -0.0041     0.9959    0.0028  -1.4562 0.1453     -0.0095      0.0014     \n",
      "poc                0.3232     1.3815    0.2157   1.4984 0.1340     -0.0996      0.7460     \n",
      "former_nba_player -0.0974     0.9072    0.2234  -0.4362 0.6627     -0.5354      0.3405     \n",
      "---\n",
      "Signif. codes:  0 '***' 0.001 '**' 0.01 '*' 0.05 '.' 0.1 ' ' 1 \n",
      "\n",
      "Concordance = 0.949\n"
     ]
    }
   ],
   "source": [
    "cph.print_summary()"
   ]
  },
  {
   "cell_type": "code",
   "execution_count": 89,
   "metadata": {},
   "outputs": [
    {
     "data": {
      "text/plain": [
       "<matplotlib.lines.Line2D at 0x7f49bed3d3d0>"
      ]
     },
     "execution_count": 89,
     "metadata": {},
     "output_type": "execute_result"
    },
    {
     "data": {
      "image/png": "[encoded data removed]",
      "text/plain": [
       "<matplotlib.figure.Figure at 0x7f49bed3d450>"
      ]
     },
     "metadata": {},
     "output_type": "display_data"
    }
   ],
   "source": [
    "cph.plot()\n",
    "plt.axvline(0)"
   ]
  },
  {
   "cell_type": "code",
   "execution_count": 108,
   "metadata": {},
   "outputs": [],
   "source": [
    "def do_k_fold(data):\n",
    "    scores = k_fold_cross_validation(cph, data, 'total_games', event_col='death',)\n",
    "    print scores\n",
    "    print np.mean(scores)\n",
    "    print np.std(scores)\n",
    "    print 'interval ({}, {})'.format(\n",
    "        round((np.mean(scores) - np.std(scores)) * 100, 2),\n",
    "        round((np.mean(scores) + np.std(scores)) * 100, 2),\n",
    "    )"
   ]
  },
  {
   "cell_type": "code",
   "execution_count": 109,
   "metadata": {},
   "outputs": [
    {
     "name": "stdout",
     "output_type": "stream",
     "text": [
      "[0.97442455242966752, 0.9128205128205128, 0.94771241830065356, 0.94347826086956521, 0.96335078534031415]\n",
      "0.948357305952\n",
      "0.0209350920235\n",
      "interval (92.74, 96.93)\n"
     ]
    }
   ],
   "source": [
    "do_k_fold(regdata)"
   ]
  },
  {
   "cell_type": "markdown",
   "metadata": {},
   "source": [
    "##  Model 2: No weak shit"
   ]
  },
  {
   "cell_type": "code",
   "execution_count": 114,
   "metadata": {},
   "outputs": [],
   "source": [
    "regdata2 = regdata.drop(['top','end_rating','former_nba_player'], axis=1)"
   ]
  },
  {
   "cell_type": "code",
   "execution_count": 115,
   "metadata": {},
   "outputs": [
    {
     "data": {
      "text/plain": [
       "<lifelines.CoxPHFitter: fitted with 179 observations, 61 censored>"
      ]
     },
     "execution_count": 115,
     "metadata": {},
     "output_type": "execute_result"
    }
   ],
   "source": [
    "cph2 = CoxPHFitter(alpha=0.95)\n",
    "cph2.fit(\n",
    "    regdata2,\n",
    "    duration_col='total_games',\n",
    "    event_col='death'\n",
    ")"
   ]
  },
  {
   "cell_type": "code",
   "execution_count": 116,
   "metadata": {},
   "outputs": [
    {
     "name": "stdout",
     "output_type": "stream",
     "text": [
      "n=179, number of events=118\n",
      "\n",
      "                    coef  exp(coef)  se(coef)        z      p  lower 0.95  upper 0.95     \n",
      "total_wins       -0.0796     0.9234    0.0071 -11.1551 0.0000     -0.0936     -0.0656  ***\n",
      "start_rating     -0.0061     0.9939    0.0017  -3.5607 0.0004     -0.0095     -0.0028  ***\n",
      "bottom            0.0160     1.0161    0.0035   4.6161 0.0000      0.0092      0.0228  ***\n",
      "middle            0.0080     1.0080    0.0036   2.2266 0.0260      0.0010      0.0151    *\n",
      "last_improvement -0.0051     0.9949    0.0017  -3.0033 0.0027     -0.0084     -0.0018   **\n",
      "poc               0.3126     1.3669    0.2034   1.5367 0.1244     -0.0862      0.7113     \n",
      "---\n",
      "Signif. codes:  0 '***' 0.001 '**' 0.01 '*' 0.05 '.' 0.1 ' ' 1 \n",
      "\n",
      "Concordance = 0.948\n"
     ]
    }
   ],
   "source": [
    "cph2.print_summary()"
   ]
  },
  {
   "cell_type": "code",
   "execution_count": 117,
   "metadata": {},
   "outputs": [
    {
     "name": "stdout",
     "output_type": "stream",
     "text": [
      "[0.95588235294117652, 0.95454545454545459, 0.96330275229357798, 0.94088669950738912, 0.93817204301075274]\n",
      "0.95055786046\n",
      "0.00952494853193\n",
      "interval (94.1, 96.01)\n"
     ]
    }
   ],
   "source": [
    "do_k_fold(regdata2)"
   ]
  },
  {
   "cell_type": "markdown",
   "metadata": {},
   "source": [
    "### Model 3: No POC"
   ]
  },
  {
   "cell_type": "code",
   "execution_count": 121,
   "metadata": {},
   "outputs": [],
   "source": [
    "regdata3 = regdata2.drop(['poc'], axis=1)"
   ]
  },
  {
   "cell_type": "code",
   "execution_count": 122,
   "metadata": {},
   "outputs": [
    {
     "data": {
      "text/plain": [
       "<lifelines.CoxPHFitter: fitted with 179 observations, 61 censored>"
      ]
     },
     "execution_count": 122,
     "metadata": {},
     "output_type": "execute_result"
    }
   ],
   "source": [
    "cph3 = CoxPHFitter(alpha=0.95)\n",
    "cph3.fit(\n",
    "    regdata3,\n",
    "    duration_col='total_games',\n",
    "    event_col='death'\n",
    ")"
   ]
  },
  {
   "cell_type": "code",
   "execution_count": 123,
   "metadata": {},
   "outputs": [
    {
     "name": "stdout",
     "output_type": "stream",
     "text": [
      "n=179, number of events=118\n",
      "\n",
      "                    coef  exp(coef)  se(coef)        z      p  lower 0.95  upper 0.95     \n",
      "total_wins       -0.0796     0.9235    0.0071 -11.1672 0.0000     -0.0936     -0.0657  ***\n",
      "start_rating     -0.0058     0.9942    0.0017  -3.4016 0.0007     -0.0091     -0.0025  ***\n",
      "bottom            0.0156     1.0157    0.0034   4.5471 0.0000      0.0089      0.0223  ***\n",
      "middle            0.0079     1.0079    0.0036   2.2009 0.0277      0.0009      0.0149    *\n",
      "last_improvement -0.0053     0.9947    0.0017  -3.1787 0.0015     -0.0086     -0.0020   **\n",
      "---\n",
      "Signif. codes:  0 '***' 0.001 '**' 0.01 '*' 0.05 '.' 0.1 ' ' 1 \n",
      "\n",
      "Concordance = 0.949\n"
     ]
    }
   ],
   "source": [
    "cph3.print_summary()"
   ]
  },
  {
   "cell_type": "code",
   "execution_count": 125,
   "metadata": {},
   "outputs": [
    {
     "name": "stdout",
     "output_type": "stream",
     "text": [
      "[0.94299287410926369, 0.96304849884526555, 0.96560846560846558, 0.95515695067264572, 0.94306930693069302]\n",
      "0.953975219233\n",
      "0.0095770991528\n",
      "interval (94.44, 96.36)\n"
     ]
    }
   ],
   "source": [
    "do_k_fold(regdata3)"
   ]
  },
  {
   "cell_type": "markdown",
   "metadata": {},
   "source": [
    "##  Predictions"
   ]
  },
  {
   "cell_type": "code",
   "execution_count": 135,
   "metadata": {},
   "outputs": [],
   "source": [
    "regdata2['expectation'] = cph2.predict_expectation(regdata2)"
   ]
  },
  {
   "cell_type": "code",
   "execution_count": 136,
   "metadata": {},
   "outputs": [],
   "source": [
    "current = regdata2.reset_index()\n",
    "current = current[current.ending.isnull()]"
   ]
  },
  {
   "cell_type": "code",
   "execution_count": 137,
   "metadata": {},
   "outputs": [
    {
     "data": {
      "text/html": [
       "<div>\n",
       "<style>\n",
       "    .dataframe thead tr:only-child th {\n",
       "        text-align: right;\n",
       "    }\n",
       "\n",
       "    .dataframe thead th {\n",
       "        text-align: left;\n",
       "    }\n",
       "\n",
       "    .dataframe tbody tr th {\n",
       "        vertical-align: top;\n",
       "    }\n",
       "</style>\n",
       "<table border=\"1\" class=\"dataframe\">\n",
       "  <thead>\n",
       "    <tr style=\"text-align: right;\">\n",
       "      <th></th>\n",
       "      <th>slug</th>\n",
       "      <th>coach</th>\n",
       "      <th>coach_id</th>\n",
       "      <th>ending</th>\n",
       "      <th>total_games</th>\n",
       "      <th>total_wins</th>\n",
       "      <th>start_rating</th>\n",
       "      <th>bottom</th>\n",
       "      <th>middle</th>\n",
       "      <th>last_improvement</th>\n",
       "      <th>death</th>\n",
       "      <th>poc</th>\n",
       "      <th>expectation</th>\n",
       "    </tr>\n",
       "  </thead>\n",
       "  <tbody>\n",
       "    <tr>\n",
       "      <th>4</th>\n",
       "      <td>budenmi99c|13|17|ATL</td>\n",
       "      <td>Mike Budenholzer</td>\n",
       "      <td>budenmi99c</td>\n",
       "      <td>NaN</td>\n",
       "      <td>356.0</td>\n",
       "      <td>195.0</td>\n",
       "      <td>1479.509200</td>\n",
       "      <td>1372.671326</td>\n",
       "      <td>1520.065407</td>\n",
       "      <td>-122.969061</td>\n",
       "      <td>0</td>\n",
       "      <td>0</td>\n",
       "      <td>372.994899</td>\n",
       "    </tr>\n",
       "    <tr>\n",
       "      <th>8</th>\n",
       "      <td>stevebr99c|13|17|BOS</td>\n",
       "      <td>Brad Stevens</td>\n",
       "      <td>stevebr99c</td>\n",
       "      <td>NaN</td>\n",
       "      <td>358.0</td>\n",
       "      <td>190.0</td>\n",
       "      <td>1479.785000</td>\n",
       "      <td>1324.332300</td>\n",
       "      <td>1527.202280</td>\n",
       "      <td>80.072362</td>\n",
       "      <td>0</td>\n",
       "      <td>0</td>\n",
       "      <td>396.024392</td>\n",
       "    </tr>\n",
       "    <tr>\n",
       "      <th>14</th>\n",
       "      <td>cliffst99c|13|17|CHARBH</td>\n",
       "      <td>Steve Clifford</td>\n",
       "      <td>cliffst99c</td>\n",
       "      <td>NaN</td>\n",
       "      <td>355.0</td>\n",
       "      <td>170.0</td>\n",
       "      <td>1349.502100</td>\n",
       "      <td>1346.324500</td>\n",
       "      <td>1478.618800</td>\n",
       "      <td>-17.843360</td>\n",
       "      <td>0</td>\n",
       "      <td>0</td>\n",
       "      <td>340.148245</td>\n",
       "    </tr>\n",
       "    <tr>\n",
       "      <th>20</th>\n",
       "      <td>hoibefr99c|15|17|CHI</td>\n",
       "      <td>Fred Hoiberg</td>\n",
       "      <td>hoibefr99c</td>\n",
       "      <td>NaN</td>\n",
       "      <td>191.0</td>\n",
       "      <td>90.0</td>\n",
       "      <td>1573.944108</td>\n",
       "      <td>1368.270107</td>\n",
       "      <td>1484.867348</td>\n",
       "      <td>-64.587167</td>\n",
       "      <td>0</td>\n",
       "      <td>0</td>\n",
       "      <td>208.772693</td>\n",
       "    </tr>\n",
       "    <tr>\n",
       "      <th>28</th>\n",
       "      <td>luety01c|16|17|CLE</td>\n",
       "      <td>Tyronn Lue</td>\n",
       "      <td>luety01c</td>\n",
       "      <td>NaN</td>\n",
       "      <td>152.0</td>\n",
       "      <td>99.0</td>\n",
       "      <td>1644.545310</td>\n",
       "      <td>1536.763726</td>\n",
       "      <td>1648.542652</td>\n",
       "      <td>-13.002896</td>\n",
       "      <td>0</td>\n",
       "      <td>1</td>\n",
       "      <td>136.741380</td>\n",
       "    </tr>\n",
       "    <tr>\n",
       "      <th>31</th>\n",
       "      <td>carliri01c|08|17|DAL</td>\n",
       "      <td>Rick Carlisle</td>\n",
       "      <td>carliri01c</td>\n",
       "      <td>NaN</td>\n",
       "      <td>751.0</td>\n",
       "      <td>421.0</td>\n",
       "      <td>1550.883300</td>\n",
       "      <td>1379.847656</td>\n",
       "      <td>1560.639600</td>\n",
       "      <td>12.026533</td>\n",
       "      <td>0</td>\n",
       "      <td>0</td>\n",
       "      <td>1304.594105</td>\n",
       "    </tr>\n",
       "    <tr>\n",
       "      <th>36</th>\n",
       "      <td>malonmi99c|15|17|DEN</td>\n",
       "      <td>Mike Malone</td>\n",
       "      <td>malonmi99c</td>\n",
       "      <td>NaN</td>\n",
       "      <td>192.0</td>\n",
       "      <td>88.0</td>\n",
       "      <td>1477.810964</td>\n",
       "      <td>1404.078561</td>\n",
       "      <td>1454.997601</td>\n",
       "      <td>-0.183979</td>\n",
       "      <td>0</td>\n",
       "      <td>0</td>\n",
       "      <td>189.865831</td>\n",
       "    </tr>\n",
       "    <tr>\n",
       "      <th>45</th>\n",
       "      <td>vangust99c|14|17|DET</td>\n",
       "      <td>Stan Van Gundy</td>\n",
       "      <td>vangust99c</td>\n",
       "      <td>NaN</td>\n",
       "      <td>274.0</td>\n",
       "      <td>128.0</td>\n",
       "      <td>1384.635600</td>\n",
       "      <td>1292.570600</td>\n",
       "      <td>1487.122571</td>\n",
       "      <td>18.817807</td>\n",
       "      <td>0</td>\n",
       "      <td>0</td>\n",
       "      <td>291.788582</td>\n",
       "    </tr>\n",
       "    <tr>\n",
       "      <th>51</th>\n",
       "      <td>kerrst01c|14|17|GSW</td>\n",
       "      <td>Steve Kerr</td>\n",
       "      <td>kerrst01c</td>\n",
       "      <td>NaN</td>\n",
       "      <td>275.0</td>\n",
       "      <td>230.0</td>\n",
       "      <td>1602.863300</td>\n",
       "      <td>1602.863300</td>\n",
       "      <td>1758.765515</td>\n",
       "      <td>25.293386</td>\n",
       "      <td>0</td>\n",
       "      <td>0</td>\n",
       "      <td>345.232211</td>\n",
       "    </tr>\n",
       "    <tr>\n",
       "      <th>56</th>\n",
       "      <td>dantomi01c|16|17|HOU</td>\n",
       "      <td>Mike D'Antoni</td>\n",
       "      <td>dantomi01c</td>\n",
       "      <td>NaN</td>\n",
       "      <td>108.0</td>\n",
       "      <td>77.0</td>\n",
       "      <td>1517.278426</td>\n",
       "      <td>1517.278426</td>\n",
       "      <td>1620.394051</td>\n",
       "      <td>104.260821</td>\n",
       "      <td>0</td>\n",
       "      <td>0</td>\n",
       "      <td>115.816982</td>\n",
       "    </tr>\n",
       "    <tr>\n",
       "      <th>61</th>\n",
       "      <td>mcmilna01c|16|17|IND</td>\n",
       "      <td>Nate McMillan</td>\n",
       "      <td>mcmilna01c</td>\n",
       "      <td>NaN</td>\n",
       "      <td>110.0</td>\n",
       "      <td>58.0</td>\n",
       "      <td>1538.777864</td>\n",
       "      <td>1457.469783</td>\n",
       "      <td>1501.652151</td>\n",
       "      <td>37.188275</td>\n",
       "      <td>0</td>\n",
       "      <td>1</td>\n",
       "      <td>113.379922</td>\n",
       "    </tr>\n",
       "    <tr>\n",
       "      <th>65</th>\n",
       "      <td>riverdo01c|13|17|LAC</td>\n",
       "      <td>Doc Rivers</td>\n",
       "      <td>riverdo01c</td>\n",
       "      <td>NaN</td>\n",
       "      <td>354.0</td>\n",
       "      <td>228.0</td>\n",
       "      <td>1575.414200</td>\n",
       "      <td>1463.817850</td>\n",
       "      <td>1631.480175</td>\n",
       "      <td>-111.978887</td>\n",
       "      <td>0</td>\n",
       "      <td>1</td>\n",
       "      <td>383.538620</td>\n",
       "    </tr>\n",
       "    <tr>\n",
       "      <th>72</th>\n",
       "      <td>waltolu01c|16|17|LAL</td>\n",
       "      <td>Luke Walton</td>\n",
       "      <td>waltolu01c</td>\n",
       "      <td>NaN</td>\n",
       "      <td>109.0</td>\n",
       "      <td>36.0</td>\n",
       "      <td>1343.286380</td>\n",
       "      <td>1308.342911</td>\n",
       "      <td>1379.530534</td>\n",
       "      <td>15.299845</td>\n",
       "      <td>0</td>\n",
       "      <td>0</td>\n",
       "      <td>124.963080</td>\n",
       "    </tr>\n",
       "    <tr>\n",
       "      <th>76</th>\n",
       "      <td>spoeler99c|08|17|MIA</td>\n",
       "      <td>Erik Spoelstra</td>\n",
       "      <td>spoeler99c</td>\n",
       "      <td>NaN</td>\n",
       "      <td>749.0</td>\n",
       "      <td>453.0</td>\n",
       "      <td>1316.266600</td>\n",
       "      <td>1316.266600</td>\n",
       "      <td>1551.046037</td>\n",
       "      <td>-26.118905</td>\n",
       "      <td>0</td>\n",
       "      <td>1</td>\n",
       "      <td>1386.308282</td>\n",
       "    </tr>\n",
       "    <tr>\n",
       "      <th>83</th>\n",
       "      <td>kiddja01c|14|17|MIL</td>\n",
       "      <td>Jason Kidd</td>\n",
       "      <td>kiddja01c</td>\n",
       "      <td>NaN</td>\n",
       "      <td>272.0</td>\n",
       "      <td>131.0</td>\n",
       "      <td>1316.627200</td>\n",
       "      <td>1316.627200</td>\n",
       "      <td>1458.489129</td>\n",
       "      <td>4.857530</td>\n",
       "      <td>0</td>\n",
       "      <td>1</td>\n",
       "      <td>274.862893</td>\n",
       "    </tr>\n",
       "    <tr>\n",
       "      <th>92</th>\n",
       "      <td>thiboto99c|16|17|MIN</td>\n",
       "      <td>Tom Thibodeau</td>\n",
       "      <td>thiboto99c</td>\n",
       "      <td>NaN</td>\n",
       "      <td>111.0</td>\n",
       "      <td>48.0</td>\n",
       "      <td>1430.390697</td>\n",
       "      <td>1396.190573</td>\n",
       "      <td>1459.119759</td>\n",
       "      <td>42.790225</td>\n",
       "      <td>0</td>\n",
       "      <td>0</td>\n",
       "      <td>117.148391</td>\n",
       "    </tr>\n",
       "    <tr>\n",
       "      <th>98</th>\n",
       "      <td>atkinke01c|16|17|NJNBRK</td>\n",
       "      <td>Kenny Atkinson</td>\n",
       "      <td>atkinke01c</td>\n",
       "      <td>NaN</td>\n",
       "      <td>109.0</td>\n",
       "      <td>31.0</td>\n",
       "      <td>1341.245965</td>\n",
       "      <td>1248.658474</td>\n",
       "      <td>1324.577684</td>\n",
       "      <td>20.847223</td>\n",
       "      <td>0</td>\n",
       "      <td>0</td>\n",
       "      <td>145.087281</td>\n",
       "    </tr>\n",
       "    <tr>\n",
       "      <th>103</th>\n",
       "      <td>gentral99c|15|17|NORLHP</td>\n",
       "      <td>Alvin Gentry</td>\n",
       "      <td>gentral99c</td>\n",
       "      <td>NaN</td>\n",
       "      <td>193.0</td>\n",
       "      <td>79.0</td>\n",
       "      <td>1518.146137</td>\n",
       "      <td>1354.765017</td>\n",
       "      <td>1451.993035</td>\n",
       "      <td>20.876965</td>\n",
       "      <td>0</td>\n",
       "      <td>1</td>\n",
       "      <td>193.536259</td>\n",
       "    </tr>\n",
       "    <tr>\n",
       "      <th>112</th>\n",
       "      <td>hornaje01c|16|17|NYK</td>\n",
       "      <td>Jeff Hornacek</td>\n",
       "      <td>hornaje01c</td>\n",
       "      <td>NaN</td>\n",
       "      <td>110.0</td>\n",
       "      <td>46.0</td>\n",
       "      <td>1411.263589</td>\n",
       "      <td>1371.614806</td>\n",
       "      <td>1428.832736</td>\n",
       "      <td>67.394951</td>\n",
       "      <td>0</td>\n",
       "      <td>0</td>\n",
       "      <td>126.361915</td>\n",
       "    </tr>\n",
       "    <tr>\n",
       "      <th>119</th>\n",
       "      <td>vogelfr99c|16|17|ORL</td>\n",
       "      <td>Frank Vogel</td>\n",
       "      <td>vogelfr99c</td>\n",
       "      <td>NaN</td>\n",
       "      <td>111.0</td>\n",
       "      <td>40.0</td>\n",
       "      <td>1443.290363</td>\n",
       "      <td>1345.618402</td>\n",
       "      <td>1410.827248</td>\n",
       "      <td>-12.854269</td>\n",
       "      <td>0</td>\n",
       "      <td>0</td>\n",
       "      <td>123.876229</td>\n",
       "    </tr>\n",
       "    <tr>\n",
       "      <th>126</th>\n",
       "      <td>brownbr99c|13|17|PHI</td>\n",
       "      <td>Brett Brown</td>\n",
       "      <td>brownbr99c</td>\n",
       "      <td>NaN</td>\n",
       "      <td>355.0</td>\n",
       "      <td>89.0</td>\n",
       "      <td>1469.418000</td>\n",
       "      <td>1174.701200</td>\n",
       "      <td>1287.101000</td>\n",
       "      <td>77.856513</td>\n",
       "      <td>0</td>\n",
       "      <td>0</td>\n",
       "      <td>317.770598</td>\n",
       "    </tr>\n",
       "    <tr>\n",
       "      <th>134</th>\n",
       "      <td>trianja99c|17|17|PHO</td>\n",
       "      <td>Jay Triano</td>\n",
       "      <td>trianja99c</td>\n",
       "      <td>NaN</td>\n",
       "      <td>27.0</td>\n",
       "      <td>9.0</td>\n",
       "      <td>1348.916343</td>\n",
       "      <td>1337.226458</td>\n",
       "      <td>1355.876316</td>\n",
       "      <td>-2.121429</td>\n",
       "      <td>0</td>\n",
       "      <td>0</td>\n",
       "      <td>78.943776</td>\n",
       "    </tr>\n",
       "    <tr>\n",
       "      <th>138</th>\n",
       "      <td>stottte99c|12|17|POR</td>\n",
       "      <td>Terry Stotts</td>\n",
       "      <td>stottte99c</td>\n",
       "      <td>NaN</td>\n",
       "      <td>437.0</td>\n",
       "      <td>237.0</td>\n",
       "      <td>1460.701500</td>\n",
       "      <td>1404.790900</td>\n",
       "      <td>1544.545200</td>\n",
       "      <td>-40.196693</td>\n",
       "      <td>0</td>\n",
       "      <td>0</td>\n",
       "      <td>428.776765</td>\n",
       "    </tr>\n",
       "    <tr>\n",
       "      <th>147</th>\n",
       "      <td>joergda99c|16|17|SAC</td>\n",
       "      <td>Dave Joerger</td>\n",
       "      <td>joergda99c</td>\n",
       "      <td>NaN</td>\n",
       "      <td>110.0</td>\n",
       "      <td>41.0</td>\n",
       "      <td>1463.562978</td>\n",
       "      <td>1352.730667</td>\n",
       "      <td>1429.083169</td>\n",
       "      <td>-45.494478</td>\n",
       "      <td>0</td>\n",
       "      <td>0</td>\n",
       "      <td>119.652246</td>\n",
       "    </tr>\n",
       "    <tr>\n",
       "      <th>148</th>\n",
       "      <td>popovgr99c|00|17|SAS</td>\n",
       "      <td>Gregg Popovich</td>\n",
       "      <td>popovgr99c</td>\n",
       "      <td>NaN</td>\n",
       "      <td>1406.0</td>\n",
       "      <td>1006.0</td>\n",
       "      <td>1603.740200</td>\n",
       "      <td>1542.115100</td>\n",
       "      <td>1671.686100</td>\n",
       "      <td>-8.179284</td>\n",
       "      <td>0</td>\n",
       "      <td>0</td>\n",
       "      <td>1406.000000</td>\n",
       "    </tr>\n",
       "    <tr>\n",
       "      <th>155</th>\n",
       "      <td>donovbi99c|15|17|SEAOKC</td>\n",
       "      <td>Billy Donovan</td>\n",
       "      <td>donovbi99c</td>\n",
       "      <td>NaN</td>\n",
       "      <td>191.0</td>\n",
       "      <td>115.0</td>\n",
       "      <td>1571.498244</td>\n",
       "      <td>1510.798047</td>\n",
       "      <td>1599.945162</td>\n",
       "      <td>-3.171989</td>\n",
       "      <td>0</td>\n",
       "      <td>0</td>\n",
       "      <td>185.633887</td>\n",
       "    </tr>\n",
       "    <tr>\n",
       "      <th>160</th>\n",
       "      <td>caseydw99c|11|17|TOR</td>\n",
       "      <td>Dwane Casey</td>\n",
       "      <td>caseydw99c</td>\n",
       "      <td>NaN</td>\n",
       "      <td>502.0</td>\n",
       "      <td>279.0</td>\n",
       "      <td>1363.546900</td>\n",
       "      <td>1316.979200</td>\n",
       "      <td>1556.097890</td>\n",
       "      <td>86.694445</td>\n",
       "      <td>0</td>\n",
       "      <td>1</td>\n",
       "      <td>534.283190</td>\n",
       "    </tr>\n",
       "    <tr>\n",
       "      <th>163</th>\n",
       "      <td>snydequ01c|14|17|UTA</td>\n",
       "      <td>Quin Snyder</td>\n",
       "      <td>snydequ01c</td>\n",
       "      <td>NaN</td>\n",
       "      <td>274.0</td>\n",
       "      <td>142.0</td>\n",
       "      <td>1367.042200</td>\n",
       "      <td>1347.619800</td>\n",
       "      <td>1538.257580</td>\n",
       "      <td>-37.860060</td>\n",
       "      <td>0</td>\n",
       "      <td>0</td>\n",
       "      <td>278.435372</td>\n",
       "    </tr>\n",
       "    <tr>\n",
       "      <th>171</th>\n",
       "      <td>bickejb01c|17|17|VANMEM</td>\n",
       "      <td>J.B. Bickerstaff</td>\n",
       "      <td>bickejb01c</td>\n",
       "      <td>NaN</td>\n",
       "      <td>9.0</td>\n",
       "      <td>1.0</td>\n",
       "      <td>1447.372263</td>\n",
       "      <td>1398.884065</td>\n",
       "      <td>1432.264400</td>\n",
       "      <td>-48.488198</td>\n",
       "      <td>0</td>\n",
       "      <td>1</td>\n",
       "      <td>44.243576</td>\n",
       "    </tr>\n",
       "    <tr>\n",
       "      <th>178</th>\n",
       "      <td>brooksc01c|16|17|WAS</td>\n",
       "      <td>Scott Brooks</td>\n",
       "      <td>brooksc01c</td>\n",
       "      <td>NaN</td>\n",
       "      <td>110.0</td>\n",
       "      <td>64.0</td>\n",
       "      <td>1516.500545</td>\n",
       "      <td>1464.967352</td>\n",
       "      <td>1557.144742</td>\n",
       "      <td>-10.863457</td>\n",
       "      <td>0</td>\n",
       "      <td>0</td>\n",
       "      <td>110.449258</td>\n",
       "    </tr>\n",
       "  </tbody>\n",
       "</table>\n",
       "</div>"
      ],
      "text/plain": [
       "                        slug             coach    coach_id ending  \\\n",
       "4       budenmi99c|13|17|ATL  Mike Budenholzer  budenmi99c    NaN   \n",
       "8       stevebr99c|13|17|BOS      Brad Stevens  stevebr99c    NaN   \n",
       "14   cliffst99c|13|17|CHARBH    Steve Clifford  cliffst99c    NaN   \n",
       "20      hoibefr99c|15|17|CHI      Fred Hoiberg  hoibefr99c    NaN   \n",
       "28        luety01c|16|17|CLE        Tyronn Lue    luety01c    NaN   \n",
       "31      carliri01c|08|17|DAL     Rick Carlisle  carliri01c    NaN   \n",
       "36      malonmi99c|15|17|DEN       Mike Malone  malonmi99c    NaN   \n",
       "45      vangust99c|14|17|DET    Stan Van Gundy  vangust99c    NaN   \n",
       "51       kerrst01c|14|17|GSW        Steve Kerr   kerrst01c    NaN   \n",
       "56      dantomi01c|16|17|HOU     Mike D'Antoni  dantomi01c    NaN   \n",
       "61      mcmilna01c|16|17|IND     Nate McMillan  mcmilna01c    NaN   \n",
       "65      riverdo01c|13|17|LAC        Doc Rivers  riverdo01c    NaN   \n",
       "72      waltolu01c|16|17|LAL       Luke Walton  waltolu01c    NaN   \n",
       "76      spoeler99c|08|17|MIA    Erik Spoelstra  spoeler99c    NaN   \n",
       "83       kiddja01c|14|17|MIL        Jason Kidd   kiddja01c    NaN   \n",
       "92      thiboto99c|16|17|MIN     Tom Thibodeau  thiboto99c    NaN   \n",
       "98   atkinke01c|16|17|NJNBRK    Kenny Atkinson  atkinke01c    NaN   \n",
       "103  gentral99c|15|17|NORLHP      Alvin Gentry  gentral99c    NaN   \n",
       "112     hornaje01c|16|17|NYK     Jeff Hornacek  hornaje01c    NaN   \n",
       "119     vogelfr99c|16|17|ORL       Frank Vogel  vogelfr99c    NaN   \n",
       "126     brownbr99c|13|17|PHI       Brett Brown  brownbr99c    NaN   \n",
       "134     trianja99c|17|17|PHO        Jay Triano  trianja99c    NaN   \n",
       "138     stottte99c|12|17|POR      Terry Stotts  stottte99c    NaN   \n",
       "147     joergda99c|16|17|SAC      Dave Joerger  joergda99c    NaN   \n",
       "148     popovgr99c|00|17|SAS    Gregg Popovich  popovgr99c    NaN   \n",
       "155  donovbi99c|15|17|SEAOKC     Billy Donovan  donovbi99c    NaN   \n",
       "160     caseydw99c|11|17|TOR       Dwane Casey  caseydw99c    NaN   \n",
       "163     snydequ01c|14|17|UTA       Quin Snyder  snydequ01c    NaN   \n",
       "171  bickejb01c|17|17|VANMEM  J.B. Bickerstaff  bickejb01c    NaN   \n",
       "178     brooksc01c|16|17|WAS      Scott Brooks  brooksc01c    NaN   \n",
       "\n",
       "     total_games  total_wins  start_rating       bottom       middle  \\\n",
       "4          356.0       195.0   1479.509200  1372.671326  1520.065407   \n",
       "8          358.0       190.0   1479.785000  1324.332300  1527.202280   \n",
       "14         355.0       170.0   1349.502100  1346.324500  1478.618800   \n",
       "20         191.0        90.0   1573.944108  1368.270107  1484.867348   \n",
       "28         152.0        99.0   1644.545310  1536.763726  1648.542652   \n",
       "31         751.0       421.0   1550.883300  1379.847656  1560.639600   \n",
       "36         192.0        88.0   1477.810964  1404.078561  1454.997601   \n",
       "45         274.0       128.0   1384.635600  1292.570600  1487.122571   \n",
       "51         275.0       230.0   1602.863300  1602.863300  1758.765515   \n",
       "56         108.0        77.0   1517.278426  1517.278426  1620.394051   \n",
       "61         110.0        58.0   1538.777864  1457.469783  1501.652151   \n",
       "65         354.0       228.0   1575.414200  1463.817850  1631.480175   \n",
       "72         109.0        36.0   1343.286380  1308.342911  1379.530534   \n",
       "76         749.0       453.0   1316.266600  1316.266600  1551.046037   \n",
       "83         272.0       131.0   1316.627200  1316.627200  1458.489129   \n",
       "92         111.0        48.0   1430.390697  1396.190573  1459.119759   \n",
       "98         109.0        31.0   1341.245965  1248.658474  1324.577684   \n",
       "103        193.0        79.0   1518.146137  1354.765017  1451.993035   \n",
       "112        110.0        46.0   1411.263589  1371.614806  1428.832736   \n",
       "119        111.0        40.0   1443.290363  1345.618402  1410.827248   \n",
       "126        355.0        89.0   1469.418000  1174.701200  1287.101000   \n",
       "134         27.0         9.0   1348.916343  1337.226458  1355.876316   \n",
       "138        437.0       237.0   1460.701500  1404.790900  1544.545200   \n",
       "147        110.0        41.0   1463.562978  1352.730667  1429.083169   \n",
       "148       1406.0      1006.0   1603.740200  1542.115100  1671.686100   \n",
       "155        191.0       115.0   1571.498244  1510.798047  1599.945162   \n",
       "160        502.0       279.0   1363.546900  1316.979200  1556.097890   \n",
       "163        274.0       142.0   1367.042200  1347.619800  1538.257580   \n",
       "171          9.0         1.0   1447.372263  1398.884065  1432.264400   \n",
       "178        110.0        64.0   1516.500545  1464.967352  1557.144742   \n",
       "\n",
       "     last_improvement  death  poc  expectation  \n",
       "4         -122.969061      0    0   372.994899  \n",
       "8           80.072362      0    0   396.024392  \n",
       "14         -17.843360      0    0   340.148245  \n",
       "20         -64.587167      0    0   208.772693  \n",
       "28         -13.002896      0    1   136.741380  \n",
       "31          12.026533      0    0  1304.594105  \n",
       "36          -0.183979      0    0   189.865831  \n",
       "45          18.817807      0    0   291.788582  \n",
       "51          25.293386      0    0   345.232211  \n",
       "56         104.260821      0    0   115.816982  \n",
       "61          37.188275      0    1   113.379922  \n",
       "65        -111.978887      0    1   383.538620  \n",
       "72          15.299845      0    0   124.963080  \n",
       "76         -26.118905      0    1  1386.308282  \n",
       "83           4.857530      0    1   274.862893  \n",
       "92          42.790225      0    0   117.148391  \n",
       "98          20.847223      0    0   145.087281  \n",
       "103         20.876965      0    1   193.536259  \n",
       "112         67.394951      0    0   126.361915  \n",
       "119        -12.854269      0    0   123.876229  \n",
       "126         77.856513      0    0   317.770598  \n",
       "134         -2.121429      0    0    78.943776  \n",
       "138        -40.196693      0    0   428.776765  \n",
       "147        -45.494478      0    0   119.652246  \n",
       "148         -8.179284      0    0  1406.000000  \n",
       "155         -3.171989      0    0   185.633887  \n",
       "160         86.694445      0    1   534.283190  \n",
       "163        -37.860060      0    0   278.435372  \n",
       "171        -48.488198      0    1    44.243576  \n",
       "178        -10.863457      0    0   110.449258  "
      ]
     },
     "execution_count": 137,
     "metadata": {},
     "output_type": "execute_result"
    }
   ],
   "source": [
    "current"
   ]
  },
  {
   "cell_type": "code",
   "execution_count": null,
   "metadata": {},
   "outputs": [],
   "source": []
  }
 ],
 "metadata": {
  "kernelspec": {
   "display_name": "Python 2",
   "language": "python",
   "name": "python2"
  },
  "language_info": {
   "codemirror_mode": {
    "name": "ipython",
    "version": 2
   },
   "file_extension": ".py",
   "mimetype": "text/x-python",
   "name": "python",
   "nbconvert_exporter": "python",
   "pygments_lexer": "ipython2",
   "version": "2.7.12"
  }
 },
 "nbformat": 4,
 "nbformat_minor": 2
}
