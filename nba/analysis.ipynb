{
 "cells": [
  {
   "cell_type": "code",
   "execution_count": 24,
   "metadata": {},
   "outputs": [],
   "source": [
    "import pandas as pd\n",
    "import lifelines as ll\n",
    "import matplotlib.pyplot as plt\n",
    "%matplotlib inline"
   ]
  },
  {
   "cell_type": "code",
   "execution_count": 10,
   "metadata": {},
   "outputs": [],
   "source": [
    "TENURES = pd.read_csv('tenures-summarized-classified.csv')"
   ]
  },
  {
   "cell_type": "code",
   "execution_count": 11,
   "metadata": {},
   "outputs": [
    {
     "data": {
      "text/html": [
       "<div>\n",
       "<style>\n",
       "    .dataframe thead tr:only-child th {\n",
       "        text-align: right;\n",
       "    }\n",
       "\n",
       "    .dataframe thead th {\n",
       "        text-align: left;\n",
       "    }\n",
       "\n",
       "    .dataframe tbody tr th {\n",
       "        vertical-align: top;\n",
       "    }\n",
       "</style>\n",
       "<table border=\"1\" class=\"dataframe\">\n",
       "  <thead>\n",
       "    <tr style=\"text-align: right;\">\n",
       "      <th></th>\n",
       "      <th>slug</th>\n",
       "      <th>coach</th>\n",
       "      <th>franchise</th>\n",
       "      <th>seasons</th>\n",
       "      <th>games</th>\n",
       "      <th>wins</th>\n",
       "      <th>losses</th>\n",
       "      <th>min_year</th>\n",
       "      <th>max_year</th>\n",
       "      <th>left_censor</th>\n",
       "      <th>ending</th>\n",
       "    </tr>\n",
       "  </thead>\n",
       "  <tbody>\n",
       "    <tr>\n",
       "      <th>0</th>\n",
       "      <td>kruger|01|03|ATL</td>\n",
       "      <td>L. Kruger</td>\n",
       "      <td>ATL</td>\n",
       "      <td>3</td>\n",
       "      <td>190</td>\n",
       "      <td>69</td>\n",
       "      <td>121</td>\n",
       "      <td>2001</td>\n",
       "      <td>2003</td>\n",
       "      <td>True</td>\n",
       "      <td>fired</td>\n",
       "    </tr>\n",
       "    <tr>\n",
       "      <th>1</th>\n",
       "      <td>stotts|03|04|ATL</td>\n",
       "      <td>T. Stotts</td>\n",
       "      <td>ATL</td>\n",
       "      <td>2</td>\n",
       "      <td>137</td>\n",
       "      <td>52</td>\n",
       "      <td>85</td>\n",
       "      <td>2003</td>\n",
       "      <td>2004</td>\n",
       "      <td>False</td>\n",
       "      <td>fired</td>\n",
       "    </tr>\n",
       "    <tr>\n",
       "      <th>2</th>\n",
       "      <td>woodson|05|10|ATL</td>\n",
       "      <td>M. Woodson</td>\n",
       "      <td>ATL</td>\n",
       "      <td>6</td>\n",
       "      <td>492</td>\n",
       "      <td>206</td>\n",
       "      <td>286</td>\n",
       "      <td>2005</td>\n",
       "      <td>2010</td>\n",
       "      <td>False</td>\n",
       "      <td>fired</td>\n",
       "    </tr>\n",
       "    <tr>\n",
       "      <th>3</th>\n",
       "      <td>drew|11|13|ATL</td>\n",
       "      <td>L. Drew</td>\n",
       "      <td>ATL</td>\n",
       "      <td>3</td>\n",
       "      <td>230</td>\n",
       "      <td>128</td>\n",
       "      <td>102</td>\n",
       "      <td>2011</td>\n",
       "      <td>2013</td>\n",
       "      <td>False</td>\n",
       "      <td>fired</td>\n",
       "    </tr>\n",
       "    <tr>\n",
       "      <th>4</th>\n",
       "      <td>budenholzer|14|16|ATL</td>\n",
       "      <td>M. Budenholzer</td>\n",
       "      <td>ATL</td>\n",
       "      <td>3</td>\n",
       "      <td>246</td>\n",
       "      <td>146</td>\n",
       "      <td>100</td>\n",
       "      <td>2014</td>\n",
       "      <td>2016</td>\n",
       "      <td>False</td>\n",
       "      <td>current</td>\n",
       "    </tr>\n",
       "  </tbody>\n",
       "</table>\n",
       "</div>"
      ],
      "text/plain": [
       "                    slug           coach franchise  seasons  games  wins  \\\n",
       "0       kruger|01|03|ATL       L. Kruger       ATL        3    190    69   \n",
       "1       stotts|03|04|ATL       T. Stotts       ATL        2    137    52   \n",
       "2      woodson|05|10|ATL      M. Woodson       ATL        6    492   206   \n",
       "3         drew|11|13|ATL         L. Drew       ATL        3    230   128   \n",
       "4  budenholzer|14|16|ATL  M. Budenholzer       ATL        3    246   146   \n",
       "\n",
       "   losses  min_year  max_year  left_censor   ending  \n",
       "0     121      2001      2003         True    fired  \n",
       "1      85      2003      2004        False    fired  \n",
       "2     286      2005      2010        False    fired  \n",
       "3     102      2011      2013        False    fired  \n",
       "4     100      2014      2016        False  current  "
      ]
     },
     "execution_count": 11,
     "metadata": {},
     "output_type": "execute_result"
    }
   ],
   "source": [
    "TENURES.head()"
   ]
  },
  {
   "cell_type": "code",
   "execution_count": 12,
   "metadata": {},
   "outputs": [
    {
     "data": {
      "text/plain": [
       "fired               112\n",
       "interim only         39\n",
       "resigned             26\n",
       "current              20\n",
       "contract expired      2\n",
       "traded                2\n",
       "retired               2\n",
       "mutual                2\n",
       "died                  1\n",
       "Name: ending, dtype: int64"
      ]
     },
     "execution_count": 12,
     "metadata": {},
     "output_type": "execute_result"
    }
   ],
   "source": [
    "TENURES.ending.value_counts()"
   ]
  },
  {
   "cell_type": "code",
   "execution_count": 8,
   "metadata": {},
   "outputs": [],
   "source": [
    "tenures = TENURES[TENURES.ending != 'interim only']"
   ]
  },
  {
   "cell_type": "code",
   "execution_count": 13,
   "metadata": {},
   "outputs": [],
   "source": [
    "death_event = ['fired', 'contract expired', 'mutual']"
   ]
  },
  {
   "cell_type": "code",
   "execution_count": 14,
   "metadata": {},
   "outputs": [],
   "source": [
    "tenures['death'] = (tenures.ending.isin(death_event) * 1)"
   ]
  },
  {
   "cell_type": "code",
   "execution_count": 20,
   "metadata": {},
   "outputs": [
    {
     "data": {
      "text/html": [
       "<div>\n",
       "<style>\n",
       "    .dataframe thead tr:only-child th {\n",
       "        text-align: right;\n",
       "    }\n",
       "\n",
       "    .dataframe thead th {\n",
       "        text-align: left;\n",
       "    }\n",
       "\n",
       "    .dataframe tbody tr th {\n",
       "        vertical-align: top;\n",
       "    }\n",
       "</style>\n",
       "<table border=\"1\" class=\"dataframe\">\n",
       "  <thead>\n",
       "    <tr style=\"text-align: right;\">\n",
       "      <th></th>\n",
       "      <th>slug</th>\n",
       "      <th>coach</th>\n",
       "      <th>franchise</th>\n",
       "      <th>seasons</th>\n",
       "      <th>games</th>\n",
       "      <th>wins</th>\n",
       "      <th>losses</th>\n",
       "      <th>min_year</th>\n",
       "      <th>max_year</th>\n",
       "      <th>left_censor</th>\n",
       "      <th>ending</th>\n",
       "      <th>death</th>\n",
       "    </tr>\n",
       "  </thead>\n",
       "  <tbody>\n",
       "    <tr>\n",
       "      <th>178</th>\n",
       "      <td>weiss|06|06|SEAOKC</td>\n",
       "      <td>B. Weiss</td>\n",
       "      <td>SEAOKC</td>\n",
       "      <td>1</td>\n",
       "      <td>30</td>\n",
       "      <td>13</td>\n",
       "      <td>17</td>\n",
       "      <td>2006</td>\n",
       "      <td>2006</td>\n",
       "      <td>False</td>\n",
       "      <td>fired</td>\n",
       "      <td>1</td>\n",
       "    </tr>\n",
       "    <tr>\n",
       "      <th>192</th>\n",
       "      <td>brown|03|05|VANMEM</td>\n",
       "      <td>H. Brown</td>\n",
       "      <td>VANMEM</td>\n",
       "      <td>3</td>\n",
       "      <td>168</td>\n",
       "      <td>83</td>\n",
       "      <td>85</td>\n",
       "      <td>2003</td>\n",
       "      <td>2005</td>\n",
       "      <td>False</td>\n",
       "      <td>retired</td>\n",
       "      <td>0</td>\n",
       "    </tr>\n",
       "    <tr>\n",
       "      <th>50</th>\n",
       "      <td>saunders|06|08|DET</td>\n",
       "      <td>F. Saunders</td>\n",
       "      <td>DET</td>\n",
       "      <td>3</td>\n",
       "      <td>246</td>\n",
       "      <td>176</td>\n",
       "      <td>70</td>\n",
       "      <td>2006</td>\n",
       "      <td>2008</td>\n",
       "      <td>False</td>\n",
       "      <td>fired</td>\n",
       "      <td>1</td>\n",
       "    </tr>\n",
       "    <tr>\n",
       "      <th>78</th>\n",
       "      <td>negro|11|13|LAC</td>\n",
       "      <td>V. Del Negro</td>\n",
       "      <td>LAC</td>\n",
       "      <td>3</td>\n",
       "      <td>230</td>\n",
       "      <td>128</td>\n",
       "      <td>102</td>\n",
       "      <td>2011</td>\n",
       "      <td>2013</td>\n",
       "      <td>False</td>\n",
       "      <td>fired</td>\n",
       "      <td>1</td>\n",
       "    </tr>\n",
       "    <tr>\n",
       "      <th>161</th>\n",
       "      <td>cheeks|02|05|POR</td>\n",
       "      <td>M. Cheeks</td>\n",
       "      <td>POR</td>\n",
       "      <td>4</td>\n",
       "      <td>301</td>\n",
       "      <td>162</td>\n",
       "      <td>139</td>\n",
       "      <td>2002</td>\n",
       "      <td>2005</td>\n",
       "      <td>False</td>\n",
       "      <td>fired</td>\n",
       "      <td>1</td>\n",
       "    </tr>\n",
       "  </tbody>\n",
       "</table>\n",
       "</div>"
      ],
      "text/plain": [
       "                   slug         coach franchise  seasons  games  wins  losses  \\\n",
       "178  weiss|06|06|SEAOKC      B. Weiss    SEAOKC        1     30    13      17   \n",
       "192  brown|03|05|VANMEM      H. Brown    VANMEM        3    168    83      85   \n",
       "50   saunders|06|08|DET   F. Saunders       DET        3    246   176      70   \n",
       "78      negro|11|13|LAC  V. Del Negro       LAC        3    230   128     102   \n",
       "161    cheeks|02|05|POR     M. Cheeks       POR        4    301   162     139   \n",
       "\n",
       "     min_year  max_year  left_censor   ending  death  \n",
       "178      2006      2006        False    fired      1  \n",
       "192      2003      2005        False  retired      0  \n",
       "50       2006      2008        False    fired      1  \n",
       "78       2011      2013        False    fired      1  \n",
       "161      2002      2005        False    fired      1  "
      ]
     },
     "execution_count": 20,
     "metadata": {},
     "output_type": "execute_result"
    }
   ],
   "source": [
    "tenures.sample(5)"
   ]
  },
  {
   "cell_type": "code",
   "execution_count": 21,
   "metadata": {},
   "outputs": [],
   "source": [
    "kmf = ll.KaplanMeierFitter()"
   ]
  },
  {
   "cell_type": "code",
   "execution_count": 22,
   "metadata": {},
   "outputs": [
    {
     "data": {
      "text/plain": [
       "<lifelines.KaplanMeierFitter: fitted with 167 observations, 52 censored>"
      ]
     },
     "execution_count": 22,
     "metadata": {},
     "output_type": "execute_result"
    }
   ],
   "source": [
    "kmf.fit(tenures.games, event_observed=tenures.death)"
   ]
  },
  {
   "cell_type": "code",
   "execution_count": 26,
   "metadata": {},
   "outputs": [
    {
     "data": {
      "image/png": "[encoded data removed]",
      "text/plain": [
       "<matplotlib.figure.Figure at 0x7f52bc4996d0>"
      ]
     },
     "metadata": {},
     "output_type": "display_data"
    }
   ],
   "source": [
    "kmf.survival_function_.plot(figsize=(16,8))\n",
    "plt.title('Survival function of NBA coaches');"
   ]
  },
  {
   "cell_type": "code",
   "execution_count": 33,
   "metadata": {},
   "outputs": [
    {
     "data": {
      "image/png": "[encoded data removed]",
      "text/plain": [
       "<matplotlib.figure.Figure at 0x7f52b4e26250>"
      ]
     },
     "metadata": {},
     "output_type": "display_data"
    }
   ],
   "source": [
    "kmf.plot(figsize=(16,8))\n",
    "[plt.axvline(g, c='black', alpha=0.2) for g in range(82, 82*20, 82)]\n",
    "plt.title('Survival function of NBA coaches');"
   ]
  },
  {
   "cell_type": "code",
   "execution_count": null,
   "metadata": {},
   "outputs": [],
   "source": []
  }
 ],
 "metadata": {
  "kernelspec": {
   "display_name": "Python 2",
   "language": "python",
   "name": "python2"
  },
  "language_info": {
   "codemirror_mode": {
    "name": "ipython",
    "version": 2
   },
   "file_extension": ".py",
   "mimetype": "text/x-python",
   "name": "python",
   "nbconvert_exporter": "python",
   "pygments_lexer": "ipython2",
   "version": "2.7.12"
  }
 },
 "nbformat": 4,
 "nbformat_minor": 2
}
