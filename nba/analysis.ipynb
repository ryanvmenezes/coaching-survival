{
 "cells": [
  {
   "cell_type": "code",
   "execution_count": 1,
   "metadata": {},
   "outputs": [],
   "source": [
    "import pandas as pd\n",
    "import lifelines as ll\n",
    "import matplotlib.pyplot as plt\n",
    "%matplotlib inline"
   ]
  },
  {
   "cell_type": "code",
   "execution_count": 2,
   "metadata": {},
   "outputs": [],
   "source": [
    "TENURES = pd.read_csv('categorized/tenures-summarized-categorized.csv')"
   ]
  },
  {
   "cell_type": "code",
   "execution_count": 3,
   "metadata": {},
   "outputs": [
    {
     "data": {
      "text/html": [
       "<div>\n",
       "<style>\n",
       "    .dataframe thead tr:only-child th {\n",
       "        text-align: right;\n",
       "    }\n",
       "\n",
       "    .dataframe thead th {\n",
       "        text-align: left;\n",
       "    }\n",
       "\n",
       "    .dataframe tbody tr th {\n",
       "        vertical-align: top;\n",
       "    }\n",
       "</style>\n",
       "<table border=\"1\" class=\"dataframe\">\n",
       "  <thead>\n",
       "    <tr style=\"text-align: right;\">\n",
       "      <th></th>\n",
       "      <th>slug</th>\n",
       "      <th>coach</th>\n",
       "      <th>franchise</th>\n",
       "      <th>seasons</th>\n",
       "      <th>games</th>\n",
       "      <th>wins</th>\n",
       "      <th>losses</th>\n",
       "      <th>min_year</th>\n",
       "      <th>max_year</th>\n",
       "      <th>left_truncated</th>\n",
       "      <th>ending</th>\n",
       "    </tr>\n",
       "  </thead>\n",
       "  <tbody>\n",
       "    <tr>\n",
       "      <th>0</th>\n",
       "      <td>kruger|01|03|ATL</td>\n",
       "      <td>L. Kruger</td>\n",
       "      <td>ATL</td>\n",
       "      <td>3</td>\n",
       "      <td>191</td>\n",
       "      <td>69</td>\n",
       "      <td>122</td>\n",
       "      <td>2001</td>\n",
       "      <td>2003</td>\n",
       "      <td>True</td>\n",
       "      <td>fired</td>\n",
       "    </tr>\n",
       "    <tr>\n",
       "      <th>1</th>\n",
       "      <td>stotts|03|04|ATL</td>\n",
       "      <td>T. Stotts</td>\n",
       "      <td>ATL</td>\n",
       "      <td>2</td>\n",
       "      <td>137</td>\n",
       "      <td>52</td>\n",
       "      <td>85</td>\n",
       "      <td>2003</td>\n",
       "      <td>2004</td>\n",
       "      <td>False</td>\n",
       "      <td>fired</td>\n",
       "    </tr>\n",
       "    <tr>\n",
       "      <th>2</th>\n",
       "      <td>woodson|05|10|ATL</td>\n",
       "      <td>M. Woodson</td>\n",
       "      <td>ATL</td>\n",
       "      <td>6</td>\n",
       "      <td>492</td>\n",
       "      <td>206</td>\n",
       "      <td>286</td>\n",
       "      <td>2005</td>\n",
       "      <td>2010</td>\n",
       "      <td>False</td>\n",
       "      <td>fired</td>\n",
       "    </tr>\n",
       "    <tr>\n",
       "      <th>3</th>\n",
       "      <td>drew|11|13|ATL</td>\n",
       "      <td>L. Drew</td>\n",
       "      <td>ATL</td>\n",
       "      <td>3</td>\n",
       "      <td>230</td>\n",
       "      <td>128</td>\n",
       "      <td>102</td>\n",
       "      <td>2011</td>\n",
       "      <td>2013</td>\n",
       "      <td>False</td>\n",
       "      <td>fired</td>\n",
       "    </tr>\n",
       "    <tr>\n",
       "      <th>4</th>\n",
       "      <td>budenholzer|14|17|ATL</td>\n",
       "      <td>M. Budenholzer</td>\n",
       "      <td>ATL</td>\n",
       "      <td>4</td>\n",
       "      <td>328</td>\n",
       "      <td>189</td>\n",
       "      <td>139</td>\n",
       "      <td>2014</td>\n",
       "      <td>2017</td>\n",
       "      <td>False</td>\n",
       "      <td>NaN</td>\n",
       "    </tr>\n",
       "  </tbody>\n",
       "</table>\n",
       "</div>"
      ],
      "text/plain": [
       "                    slug           coach franchise  seasons  games  wins  \\\n",
       "0       kruger|01|03|ATL       L. Kruger       ATL        3    191    69   \n",
       "1       stotts|03|04|ATL       T. Stotts       ATL        2    137    52   \n",
       "2      woodson|05|10|ATL      M. Woodson       ATL        6    492   206   \n",
       "3         drew|11|13|ATL         L. Drew       ATL        3    230   128   \n",
       "4  budenholzer|14|17|ATL  M. Budenholzer       ATL        4    328   189   \n",
       "\n",
       "   losses  min_year  max_year  left_truncated ending  \n",
       "0     122      2001      2003            True  fired  \n",
       "1      85      2003      2004           False  fired  \n",
       "2     286      2005      2010           False  fired  \n",
       "3     102      2011      2013           False  fired  \n",
       "4     139      2014      2017           False    NaN  "
      ]
     },
     "execution_count": 3,
     "metadata": {},
     "output_type": "execute_result"
    }
   ],
   "source": [
    "TENURES.head()"
   ]
  },
  {
   "cell_type": "code",
   "execution_count": 4,
   "metadata": {},
   "outputs": [
    {
     "data": {
      "text/plain": [
       "fired               112\n",
       "interim only         39\n",
       "resigned             26\n",
       "contract expired      2\n",
       "traded                2\n",
       "retired               2\n",
       "mutual                2\n",
       "died                  1\n",
       "Name: ending, dtype: int64"
      ]
     },
     "execution_count": 4,
     "metadata": {},
     "output_type": "execute_result"
    }
   ],
   "source": [
    "TENURES.ending.value_counts()"
   ]
  },
  {
   "cell_type": "code",
   "execution_count": 5,
   "metadata": {},
   "outputs": [],
   "source": [
    "tenures = TENURES[TENURES.ending != 'interim only']"
   ]
  },
  {
   "cell_type": "code",
   "execution_count": 6,
   "metadata": {},
   "outputs": [],
   "source": [
    "death_event = ['fired', 'contract expired', 'mutual']"
   ]
  },
  {
   "cell_type": "code",
   "execution_count": 7,
   "metadata": {},
   "outputs": [
    {
     "name": "stderr",
     "output_type": "stream",
     "text": [
      "/home/ryan/.virtualenvs/coaching-survival/lib/python2.7/site-packages/ipykernel_launcher.py:1: SettingWithCopyWarning: \n",
      "A value is trying to be set on a copy of a slice from a DataFrame.\n",
      "Try using .loc[row_indexer,col_indexer] = value instead\n",
      "\n",
      "See the caveats in the documentation: http://pandas.pydata.org/pandas-docs/stable/indexing.html#indexing-view-versus-copy\n",
      "  \"\"\"Entry point for launching an IPython kernel.\n"
     ]
    }
   ],
   "source": [
    "tenures['death'] = (tenures.ending.isin(death_event) * 1)"
   ]
  },
  {
   "cell_type": "code",
   "execution_count": 8,
   "metadata": {},
   "outputs": [
    {
     "data": {
      "text/html": [
       "<div>\n",
       "<style>\n",
       "    .dataframe thead tr:only-child th {\n",
       "        text-align: right;\n",
       "    }\n",
       "\n",
       "    .dataframe thead th {\n",
       "        text-align: left;\n",
       "    }\n",
       "\n",
       "    .dataframe tbody tr th {\n",
       "        vertical-align: top;\n",
       "    }\n",
       "</style>\n",
       "<table border=\"1\" class=\"dataframe\">\n",
       "  <thead>\n",
       "    <tr style=\"text-align: right;\">\n",
       "      <th></th>\n",
       "      <th>slug</th>\n",
       "      <th>coach</th>\n",
       "      <th>franchise</th>\n",
       "      <th>seasons</th>\n",
       "      <th>games</th>\n",
       "      <th>wins</th>\n",
       "      <th>losses</th>\n",
       "      <th>min_year</th>\n",
       "      <th>max_year</th>\n",
       "      <th>left_truncated</th>\n",
       "      <th>ending</th>\n",
       "      <th>death</th>\n",
       "    </tr>\n",
       "  </thead>\n",
       "  <tbody>\n",
       "    <tr>\n",
       "      <th>50</th>\n",
       "      <td>saunders|06|08|DET</td>\n",
       "      <td>F. Saunders</td>\n",
       "      <td>DET</td>\n",
       "      <td>3</td>\n",
       "      <td>246</td>\n",
       "      <td>176</td>\n",
       "      <td>70</td>\n",
       "      <td>2006</td>\n",
       "      <td>2008</td>\n",
       "      <td>False</td>\n",
       "      <td>fired</td>\n",
       "      <td>1</td>\n",
       "    </tr>\n",
       "    <tr>\n",
       "      <th>183</th>\n",
       "      <td>popovich|01|17|SAS</td>\n",
       "      <td>G. Popovich</td>\n",
       "      <td>SAS</td>\n",
       "      <td>17</td>\n",
       "      <td>1378</td>\n",
       "      <td>987</td>\n",
       "      <td>391</td>\n",
       "      <td>2001</td>\n",
       "      <td>2017</td>\n",
       "      <td>True</td>\n",
       "      <td>NaN</td>\n",
       "      <td>0</td>\n",
       "    </tr>\n",
       "    <tr>\n",
       "      <th>204</th>\n",
       "      <td>iavaroni|08|09|VANMEM</td>\n",
       "      <td>M. Iavaroni</td>\n",
       "      <td>VANMEM</td>\n",
       "      <td>2</td>\n",
       "      <td>123</td>\n",
       "      <td>33</td>\n",
       "      <td>90</td>\n",
       "      <td>2008</td>\n",
       "      <td>2009</td>\n",
       "      <td>False</td>\n",
       "      <td>fired</td>\n",
       "      <td>1</td>\n",
       "    </tr>\n",
       "    <tr>\n",
       "      <th>120</th>\n",
       "      <td>hollins|15|16|NJNBRK</td>\n",
       "      <td>L. Hollins</td>\n",
       "      <td>NJNBRK</td>\n",
       "      <td>2</td>\n",
       "      <td>119</td>\n",
       "      <td>48</td>\n",
       "      <td>71</td>\n",
       "      <td>2015</td>\n",
       "      <td>2016</td>\n",
       "      <td>False</td>\n",
       "      <td>fired</td>\n",
       "      <td>1</td>\n",
       "    </tr>\n",
       "    <tr>\n",
       "      <th>47</th>\n",
       "      <td>irvine|01|01|DET</td>\n",
       "      <td>G. Irvine</td>\n",
       "      <td>DET</td>\n",
       "      <td>1</td>\n",
       "      <td>82</td>\n",
       "      <td>32</td>\n",
       "      <td>50</td>\n",
       "      <td>2001</td>\n",
       "      <td>2001</td>\n",
       "      <td>True</td>\n",
       "      <td>fired</td>\n",
       "      <td>1</td>\n",
       "    </tr>\n",
       "  </tbody>\n",
       "</table>\n",
       "</div>"
      ],
      "text/plain": [
       "                      slug        coach franchise  seasons  games  wins  \\\n",
       "50      saunders|06|08|DET  F. Saunders       DET        3    246   176   \n",
       "183     popovich|01|17|SAS  G. Popovich       SAS       17   1378   987   \n",
       "204  iavaroni|08|09|VANMEM  M. Iavaroni    VANMEM        2    123    33   \n",
       "120   hollins|15|16|NJNBRK   L. Hollins    NJNBRK        2    119    48   \n",
       "47        irvine|01|01|DET    G. Irvine       DET        1     82    32   \n",
       "\n",
       "     losses  min_year  max_year  left_truncated ending  death  \n",
       "50       70      2006      2008           False  fired      1  \n",
       "183     391      2001      2017            True    NaN      0  \n",
       "204      90      2008      2009           False  fired      1  \n",
       "120      71      2015      2016           False  fired      1  \n",
       "47       50      2001      2001            True  fired      1  "
      ]
     },
     "execution_count": 8,
     "metadata": {},
     "output_type": "execute_result"
    }
   ],
   "source": [
    "tenures.sample(5)"
   ]
  },
  {
   "cell_type": "code",
   "execution_count": 9,
   "metadata": {},
   "outputs": [],
   "source": [
    "kmf = ll.KaplanMeierFitter()"
   ]
  },
  {
   "cell_type": "code",
   "execution_count": 10,
   "metadata": {},
   "outputs": [
    {
     "data": {
      "text/plain": [
       "<lifelines.KaplanMeierFitter: fitted with 177 observations, 61 censored>"
      ]
     },
     "execution_count": 10,
     "metadata": {},
     "output_type": "execute_result"
    }
   ],
   "source": [
    "kmf.fit(tenures.games, event_observed=tenures.death)"
   ]
  },
  {
   "cell_type": "code",
   "execution_count": 11,
   "metadata": {},
   "outputs": [
    {
     "data": {
      "image/png": "[encoded data removed]",
      "text/plain": [
       "<matplotlib.figure.Figure at 0x7f0feb06ec50>"
      ]
     },
     "metadata": {},
     "output_type": "display_data"
    }
   ],
   "source": [
    "kmf.survival_function_.plot(figsize=(16,8))\n",
    "plt.title('Survival function of NBA coaches');"
   ]
  },
  {
   "cell_type": "code",
   "execution_count": 12,
   "metadata": {},
   "outputs": [
    {
     "data": {
      "text/plain": [
       "Text(0.5,1,u'Survival function of NBA coaches')"
      ]
     },
     "execution_count": 12,
     "metadata": {},
     "output_type": "execute_result"
    },
    {
     "data": {
      "image/png": "[encoded data removed]",
      "text/plain": [
       "<matplotlib.figure.Figure at 0x7f0feb0ccd90>"
      ]
     },
     "metadata": {},
     "output_type": "display_data"
    }
   ],
   "source": [
    "kmf.plot(figsize=(16,8))\n",
    "[plt.axvline(g, c='black', alpha=0.2) for g in range(82, 82*20, 82)]\n",
    "plt.xlim(0, 600)\n",
    "plt.title('Survival function of NBA coaches')"
   ]
  },
  {
   "cell_type": "code",
   "execution_count": 13,
   "metadata": {},
   "outputs": [],
   "source": [
    "POC = pd.read_csv('categorized/coach-list-poc.csv')"
   ]
  },
  {
   "cell_type": "code",
   "execution_count": 14,
   "metadata": {},
   "outputs": [
    {
     "data": {
      "text/html": [
       "<div>\n",
       "<style>\n",
       "    .dataframe thead tr:only-child th {\n",
       "        text-align: right;\n",
       "    }\n",
       "\n",
       "    .dataframe thead th {\n",
       "        text-align: left;\n",
       "    }\n",
       "\n",
       "    .dataframe tbody tr th {\n",
       "        vertical-align: top;\n",
       "    }\n",
       "</style>\n",
       "<table border=\"1\" class=\"dataframe\">\n",
       "  <thead>\n",
       "    <tr style=\"text-align: right;\">\n",
       "      <th></th>\n",
       "      <th>coach</th>\n",
       "      <th>franchises</th>\n",
       "      <th>poc</th>\n",
       "      <th>note</th>\n",
       "    </tr>\n",
       "  </thead>\n",
       "  <tbody>\n",
       "    <tr>\n",
       "      <th>0</th>\n",
       "      <td>T. Porter</td>\n",
       "      <td>PHO|MIL</td>\n",
       "      <td>yes</td>\n",
       "      <td>NaN</td>\n",
       "    </tr>\n",
       "    <tr>\n",
       "      <th>1</th>\n",
       "      <td>T. Lue</td>\n",
       "      <td>CLE</td>\n",
       "      <td>yes</td>\n",
       "      <td>NaN</td>\n",
       "    </tr>\n",
       "    <tr>\n",
       "      <th>2</th>\n",
       "      <td>T. Corbin</td>\n",
       "      <td>SAC|UTA</td>\n",
       "      <td>yes</td>\n",
       "      <td>NaN</td>\n",
       "    </tr>\n",
       "    <tr>\n",
       "      <th>3</th>\n",
       "      <td>T. Brown</td>\n",
       "      <td>NJNBRK</td>\n",
       "      <td>yes</td>\n",
       "      <td>NaN</td>\n",
       "    </tr>\n",
       "    <tr>\n",
       "      <th>4</th>\n",
       "      <td>S. Vincent</td>\n",
       "      <td>CHARBH</td>\n",
       "      <td>yes</td>\n",
       "      <td>NaN</td>\n",
       "    </tr>\n",
       "  </tbody>\n",
       "</table>\n",
       "</div>"
      ],
      "text/plain": [
       "        coach franchises  poc note\n",
       "0   T. Porter    PHO|MIL  yes  NaN\n",
       "1      T. Lue        CLE  yes  NaN\n",
       "2   T. Corbin    SAC|UTA  yes  NaN\n",
       "3    T. Brown     NJNBRK  yes  NaN\n",
       "4  S. Vincent     CHARBH  yes  NaN"
      ]
     },
     "execution_count": 14,
     "metadata": {},
     "output_type": "execute_result"
    }
   ],
   "source": [
    "POC.head()"
   ]
  },
  {
   "cell_type": "code",
   "execution_count": 15,
   "metadata": {},
   "outputs": [],
   "source": [
    "PLAYERS = pd.read_csv('categorized/coach-list-qualifications.csv')"
   ]
  },
  {
   "cell_type": "code",
   "execution_count": 16,
   "metadata": {},
   "outputs": [
    {
     "data": {
      "text/html": [
       "<div>\n",
       "<style>\n",
       "    .dataframe thead tr:only-child th {\n",
       "        text-align: right;\n",
       "    }\n",
       "\n",
       "    .dataframe thead th {\n",
       "        text-align: left;\n",
       "    }\n",
       "\n",
       "    .dataframe tbody tr th {\n",
       "        vertical-align: top;\n",
       "    }\n",
       "</style>\n",
       "<table border=\"1\" class=\"dataframe\">\n",
       "  <thead>\n",
       "    <tr style=\"text-align: right;\">\n",
       "      <th></th>\n",
       "      <th>coach</th>\n",
       "      <th>franchises</th>\n",
       "      <th>former_nba_player</th>\n",
       "      <th>bbref_id</th>\n",
       "    </tr>\n",
       "  </thead>\n",
       "  <tbody>\n",
       "    <tr>\n",
       "      <th>0</th>\n",
       "      <td>A. Gentry</td>\n",
       "      <td>PHO|NORLHP|LAC</td>\n",
       "      <td>no</td>\n",
       "      <td>NaN</td>\n",
       "    </tr>\n",
       "    <tr>\n",
       "      <th>1</th>\n",
       "      <td>A. Johnson</td>\n",
       "      <td>DAL|NJNBRK</td>\n",
       "      <td>yes</td>\n",
       "      <td>johnsav01</td>\n",
       "    </tr>\n",
       "    <tr>\n",
       "      <th>2</th>\n",
       "      <td>B. Berry</td>\n",
       "      <td>CHI</td>\n",
       "      <td>no</td>\n",
       "      <td>NaN</td>\n",
       "    </tr>\n",
       "    <tr>\n",
       "      <th>3</th>\n",
       "      <td>B. Bickerstaff</td>\n",
       "      <td>LAL|CHARBH</td>\n",
       "      <td>no</td>\n",
       "      <td>NaN</td>\n",
       "    </tr>\n",
       "    <tr>\n",
       "      <th>4</th>\n",
       "      <td>B. Brown</td>\n",
       "      <td>PHI</td>\n",
       "      <td>no</td>\n",
       "      <td>NaN</td>\n",
       "    </tr>\n",
       "  </tbody>\n",
       "</table>\n",
       "</div>"
      ],
      "text/plain": [
       "            coach      franchises former_nba_player   bbref_id\n",
       "0       A. Gentry  PHO|NORLHP|LAC                no        NaN\n",
       "1      A. Johnson      DAL|NJNBRK               yes  johnsav01\n",
       "2        B. Berry             CHI                no        NaN\n",
       "3  B. Bickerstaff      LAL|CHARBH                no        NaN\n",
       "4        B. Brown             PHI                no        NaN"
      ]
     },
     "execution_count": 16,
     "metadata": {},
     "output_type": "execute_result"
    }
   ],
   "source": [
    "PLAYERS.head()"
   ]
  },
  {
   "cell_type": "code",
   "execution_count": 17,
   "metadata": {},
   "outputs": [],
   "source": [
    "tenures_info = tenures.merge(\n",
    "    POC[['coach','poc']], \n",
    "    how='left'\n",
    ").merge(\n",
    "    PLAYERS[['coach','former_nba_player']],\n",
    "    how='left'\n",
    ")"
   ]
  },
  {
   "cell_type": "code",
   "execution_count": 18,
   "metadata": {},
   "outputs": [
    {
     "data": {
      "text/plain": [
       "0"
      ]
     },
     "execution_count": 18,
     "metadata": {},
     "output_type": "execute_result"
    }
   ],
   "source": [
    "tenures_info.poc.isnull().sum()"
   ]
  },
  {
   "cell_type": "code",
   "execution_count": 19,
   "metadata": {
    "scrolled": true
   },
   "outputs": [
    {
     "data": {
      "text/plain": [
       "0"
      ]
     },
     "execution_count": 19,
     "metadata": {},
     "output_type": "execute_result"
    }
   ],
   "source": [
    "tenures_info.former_nba_player.isnull().sum()"
   ]
  },
  {
   "cell_type": "code",
   "execution_count": 20,
   "metadata": {},
   "outputs": [
    {
     "data": {
      "text/html": [
       "<div>\n",
       "<style>\n",
       "    .dataframe thead tr:only-child th {\n",
       "        text-align: right;\n",
       "    }\n",
       "\n",
       "    .dataframe thead th {\n",
       "        text-align: left;\n",
       "    }\n",
       "\n",
       "    .dataframe tbody tr th {\n",
       "        vertical-align: top;\n",
       "    }\n",
       "</style>\n",
       "<table border=\"1\" class=\"dataframe\">\n",
       "  <thead>\n",
       "    <tr style=\"text-align: right;\">\n",
       "      <th>poc</th>\n",
       "      <th>no</th>\n",
       "      <th>yes</th>\n",
       "    </tr>\n",
       "    <tr>\n",
       "      <th>former_nba_player</th>\n",
       "      <th></th>\n",
       "      <th></th>\n",
       "    </tr>\n",
       "  </thead>\n",
       "  <tbody>\n",
       "    <tr>\n",
       "      <th>no</th>\n",
       "      <td>49</td>\n",
       "      <td>14</td>\n",
       "    </tr>\n",
       "    <tr>\n",
       "      <th>yes</th>\n",
       "      <td>60</td>\n",
       "      <td>54</td>\n",
       "    </tr>\n",
       "  </tbody>\n",
       "</table>\n",
       "</div>"
      ],
      "text/plain": [
       "poc                no  yes\n",
       "former_nba_player         \n",
       "no                 49   14\n",
       "yes                60   54"
      ]
     },
     "execution_count": 20,
     "metadata": {},
     "output_type": "execute_result"
    }
   ],
   "source": [
    "tenures_info.groupby(['poc','former_nba_player']).size().unstack('poc')"
   ]
  },
  {
   "cell_type": "code",
   "execution_count": 21,
   "metadata": {},
   "outputs": [
    {
     "data": {
      "text/html": [
       "<div>\n",
       "<style>\n",
       "    .dataframe thead tr:only-child th {\n",
       "        text-align: right;\n",
       "    }\n",
       "\n",
       "    .dataframe thead th {\n",
       "        text-align: left;\n",
       "    }\n",
       "\n",
       "    .dataframe tbody tr th {\n",
       "        vertical-align: top;\n",
       "    }\n",
       "</style>\n",
       "<table border=\"1\" class=\"dataframe\">\n",
       "  <thead>\n",
       "    <tr style=\"text-align: right;\">\n",
       "      <th></th>\n",
       "      <th>slug</th>\n",
       "      <th>coach</th>\n",
       "      <th>franchise</th>\n",
       "      <th>seasons</th>\n",
       "      <th>games</th>\n",
       "      <th>wins</th>\n",
       "      <th>losses</th>\n",
       "      <th>min_year</th>\n",
       "      <th>max_year</th>\n",
       "      <th>left_truncated</th>\n",
       "      <th>ending</th>\n",
       "      <th>death</th>\n",
       "      <th>poc</th>\n",
       "      <th>former_nba_player</th>\n",
       "    </tr>\n",
       "  </thead>\n",
       "  <tbody>\n",
       "    <tr>\n",
       "      <th>0</th>\n",
       "      <td>kruger|01|03|ATL</td>\n",
       "      <td>L. Kruger</td>\n",
       "      <td>ATL</td>\n",
       "      <td>3</td>\n",
       "      <td>191</td>\n",
       "      <td>69</td>\n",
       "      <td>122</td>\n",
       "      <td>2001</td>\n",
       "      <td>2003</td>\n",
       "      <td>True</td>\n",
       "      <td>fired</td>\n",
       "      <td>1</td>\n",
       "      <td>no</td>\n",
       "      <td>no</td>\n",
       "    </tr>\n",
       "    <tr>\n",
       "      <th>1</th>\n",
       "      <td>stotts|03|04|ATL</td>\n",
       "      <td>T. Stotts</td>\n",
       "      <td>ATL</td>\n",
       "      <td>2</td>\n",
       "      <td>137</td>\n",
       "      <td>52</td>\n",
       "      <td>85</td>\n",
       "      <td>2003</td>\n",
       "      <td>2004</td>\n",
       "      <td>False</td>\n",
       "      <td>fired</td>\n",
       "      <td>1</td>\n",
       "      <td>no</td>\n",
       "      <td>no</td>\n",
       "    </tr>\n",
       "    <tr>\n",
       "      <th>2</th>\n",
       "      <td>woodson|05|10|ATL</td>\n",
       "      <td>M. Woodson</td>\n",
       "      <td>ATL</td>\n",
       "      <td>6</td>\n",
       "      <td>492</td>\n",
       "      <td>206</td>\n",
       "      <td>286</td>\n",
       "      <td>2005</td>\n",
       "      <td>2010</td>\n",
       "      <td>False</td>\n",
       "      <td>fired</td>\n",
       "      <td>1</td>\n",
       "      <td>yes</td>\n",
       "      <td>yes</td>\n",
       "    </tr>\n",
       "    <tr>\n",
       "      <th>3</th>\n",
       "      <td>drew|11|13|ATL</td>\n",
       "      <td>L. Drew</td>\n",
       "      <td>ATL</td>\n",
       "      <td>3</td>\n",
       "      <td>230</td>\n",
       "      <td>128</td>\n",
       "      <td>102</td>\n",
       "      <td>2011</td>\n",
       "      <td>2013</td>\n",
       "      <td>False</td>\n",
       "      <td>fired</td>\n",
       "      <td>1</td>\n",
       "      <td>yes</td>\n",
       "      <td>yes</td>\n",
       "    </tr>\n",
       "    <tr>\n",
       "      <th>4</th>\n",
       "      <td>budenholzer|14|17|ATL</td>\n",
       "      <td>M. Budenholzer</td>\n",
       "      <td>ATL</td>\n",
       "      <td>4</td>\n",
       "      <td>328</td>\n",
       "      <td>189</td>\n",
       "      <td>139</td>\n",
       "      <td>2014</td>\n",
       "      <td>2017</td>\n",
       "      <td>False</td>\n",
       "      <td>NaN</td>\n",
       "      <td>0</td>\n",
       "      <td>no</td>\n",
       "      <td>no</td>\n",
       "    </tr>\n",
       "  </tbody>\n",
       "</table>\n",
       "</div>"
      ],
      "text/plain": [
       "                    slug           coach franchise  seasons  games  wins  \\\n",
       "0       kruger|01|03|ATL       L. Kruger       ATL        3    191    69   \n",
       "1       stotts|03|04|ATL       T. Stotts       ATL        2    137    52   \n",
       "2      woodson|05|10|ATL      M. Woodson       ATL        6    492   206   \n",
       "3         drew|11|13|ATL         L. Drew       ATL        3    230   128   \n",
       "4  budenholzer|14|17|ATL  M. Budenholzer       ATL        4    328   189   \n",
       "\n",
       "   losses  min_year  max_year  left_truncated ending  death  poc  \\\n",
       "0     122      2001      2003            True  fired      1   no   \n",
       "1      85      2003      2004           False  fired      1   no   \n",
       "2     286      2005      2010           False  fired      1  yes   \n",
       "3     102      2011      2013           False  fired      1  yes   \n",
       "4     139      2014      2017           False    NaN      0   no   \n",
       "\n",
       "  former_nba_player  \n",
       "0                no  \n",
       "1                no  \n",
       "2               yes  \n",
       "3               yes  \n",
       "4                no  "
      ]
     },
     "execution_count": 21,
     "metadata": {},
     "output_type": "execute_result"
    }
   ],
   "source": [
    "tenures_info.head()"
   ]
  },
  {
   "cell_type": "code",
   "execution_count": 22,
   "metadata": {},
   "outputs": [
    {
     "data": {
      "text/plain": [
       "(0, 600)"
      ]
     },
     "execution_count": 22,
     "metadata": {},
     "output_type": "execute_result"
    },
    {
     "data": {
      "image/png": "[encoded data removed]",
      "text/plain": [
       "<matplotlib.figure.Figure at 0x7f0feaf10410>"
      ]
     },
     "metadata": {},
     "output_type": "display_data"
    }
   ],
   "source": [
    "plt.figure(figsize=(16,8))\n",
    "ax = plt.subplot(111)\n",
    "\n",
    "ispoc = (tenures_info['poc'] == 'yes')\n",
    "\n",
    "kmf.fit(tenures_info[ispoc].games, event_observed=tenures_info[ispoc].death, label=\"POC\")\n",
    "kmf.plot(ax=ax)\n",
    "pocmed = kmf.median_\n",
    "kmf.fit(tenures_info[~ispoc].games, event_observed=tenures_info[~ispoc].death, label=\"White\")\n",
    "kmf.plot(ax=ax)\n",
    "whtmed = kmf.median_\n",
    "\n",
    "plt.axhline(0.5, c='#666666', alpha=0.5)\n",
    "\n",
    "plt.xlim(0,600)"
   ]
  },
  {
   "cell_type": "code",
   "execution_count": 23,
   "metadata": {},
   "outputs": [
    {
     "name": "stdout",
     "output_type": "stream",
     "text": [
      "The median survival time for POC coaches was 222.0 games\n",
      "The median survival time for white coaches was 290.0 games\n"
     ]
    }
   ],
   "source": [
    "print \"The median survival time for POC coaches was {} games\".format(pocmed)\n",
    "print \"The median survival time for white coaches was {} games\".format(whtmed)"
   ]
  },
  {
   "cell_type": "code",
   "execution_count": 24,
   "metadata": {},
   "outputs": [
    {
     "data": {
      "text/plain": [
       "(0, 600)"
      ]
     },
     "execution_count": 24,
     "metadata": {},
     "output_type": "execute_result"
    },
    {
     "data": {
      "image/png": "[encoded data removed]",
      "text/plain": [
       "<matplotlib.figure.Figure at 0x7f0feae97790>"
      ]
     },
     "metadata": {},
     "output_type": "display_data"
    }
   ],
   "source": [
    "plt.figure(figsize=(16,8))\n",
    "ax = plt.subplot(111)\n",
    "\n",
    "former_player = (tenures_info['former_nba_player'] == 'yes')\n",
    "\n",
    "kmf.fit(tenures_info[former_player].games, event_observed=tenures_info[former_player].death, label=\"Former player\")\n",
    "kmf.plot(ax=ax)\n",
    "nbamed = kmf.median_\n",
    "kmf.fit(tenures_info[~former_player].games, event_observed=tenures_info[~former_player].death, label=\"No NBA exp.\")\n",
    "kmf.plot(ax=ax)\n",
    "nonmed = kmf.median_\n",
    "\n",
    "plt.axhline(0.5, c='#666666', alpha=0.5)\n",
    "\n",
    "plt.xlim(0,600)"
   ]
  },
  {
   "cell_type": "code",
   "execution_count": 25,
   "metadata": {},
   "outputs": [
    {
     "name": "stdout",
     "output_type": "stream",
     "text": [
      "The median survival time for former NBA players was 246.0 games\n",
      "The median survival time for non-players was 246.0 games\n"
     ]
    }
   ],
   "source": [
    "print \"The median survival time for former NBA players was {} games\".format(nbamed)\n",
    "print \"The median survival time for non-players was {} games\".format(nonmed)"
   ]
  },
  {
   "cell_type": "code",
   "execution_count": 26,
   "metadata": {},
   "outputs": [],
   "source": [
    "rossi_dataset = ll.datasets.load_rossi()"
   ]
  },
  {
   "cell_type": "code",
   "execution_count": 27,
   "metadata": {},
   "outputs": [
    {
     "data": {
      "text/html": [
       "<div>\n",
       "<style>\n",
       "    .dataframe thead tr:only-child th {\n",
       "        text-align: right;\n",
       "    }\n",
       "\n",
       "    .dataframe thead th {\n",
       "        text-align: left;\n",
       "    }\n",
       "\n",
       "    .dataframe tbody tr th {\n",
       "        vertical-align: top;\n",
       "    }\n",
       "</style>\n",
       "<table border=\"1\" class=\"dataframe\">\n",
       "  <thead>\n",
       "    <tr style=\"text-align: right;\">\n",
       "      <th></th>\n",
       "      <th>week</th>\n",
       "      <th>arrest</th>\n",
       "      <th>fin</th>\n",
       "      <th>age</th>\n",
       "      <th>race</th>\n",
       "      <th>wexp</th>\n",
       "      <th>mar</th>\n",
       "      <th>paro</th>\n",
       "      <th>prio</th>\n",
       "    </tr>\n",
       "  </thead>\n",
       "  <tbody>\n",
       "    <tr>\n",
       "      <th>0</th>\n",
       "      <td>20</td>\n",
       "      <td>1</td>\n",
       "      <td>0</td>\n",
       "      <td>27</td>\n",
       "      <td>1</td>\n",
       "      <td>0</td>\n",
       "      <td>0</td>\n",
       "      <td>1</td>\n",
       "      <td>3</td>\n",
       "    </tr>\n",
       "    <tr>\n",
       "      <th>1</th>\n",
       "      <td>17</td>\n",
       "      <td>1</td>\n",
       "      <td>0</td>\n",
       "      <td>18</td>\n",
       "      <td>1</td>\n",
       "      <td>0</td>\n",
       "      <td>0</td>\n",
       "      <td>1</td>\n",
       "      <td>8</td>\n",
       "    </tr>\n",
       "    <tr>\n",
       "      <th>2</th>\n",
       "      <td>25</td>\n",
       "      <td>1</td>\n",
       "      <td>0</td>\n",
       "      <td>19</td>\n",
       "      <td>0</td>\n",
       "      <td>1</td>\n",
       "      <td>0</td>\n",
       "      <td>1</td>\n",
       "      <td>13</td>\n",
       "    </tr>\n",
       "    <tr>\n",
       "      <th>3</th>\n",
       "      <td>52</td>\n",
       "      <td>0</td>\n",
       "      <td>1</td>\n",
       "      <td>23</td>\n",
       "      <td>1</td>\n",
       "      <td>1</td>\n",
       "      <td>1</td>\n",
       "      <td>1</td>\n",
       "      <td>1</td>\n",
       "    </tr>\n",
       "    <tr>\n",
       "      <th>4</th>\n",
       "      <td>52</td>\n",
       "      <td>0</td>\n",
       "      <td>0</td>\n",
       "      <td>19</td>\n",
       "      <td>0</td>\n",
       "      <td>1</td>\n",
       "      <td>0</td>\n",
       "      <td>1</td>\n",
       "      <td>3</td>\n",
       "    </tr>\n",
       "  </tbody>\n",
       "</table>\n",
       "</div>"
      ],
      "text/plain": [
       "   week  arrest  fin  age  race  wexp  mar  paro  prio\n",
       "0    20       1    0   27     1     0    0     1     3\n",
       "1    17       1    0   18     1     0    0     1     8\n",
       "2    25       1    0   19     0     1    0     1    13\n",
       "3    52       0    1   23     1     1    1     1     1\n",
       "4    52       0    0   19     0     1    0     1     3"
      ]
     },
     "execution_count": 27,
     "metadata": {},
     "output_type": "execute_result"
    }
   ],
   "source": [
    "rossi_dataset.head()"
   ]
  },
  {
   "cell_type": "code",
   "execution_count": 28,
   "metadata": {},
   "outputs": [
    {
     "data": {
      "text/plain": [
       "<lifelines.CoxPHFitter: fitted with 432 observations, 318 censored>"
      ]
     },
     "execution_count": 28,
     "metadata": {},
     "output_type": "execute_result"
    }
   ],
   "source": [
    "cph = ll.CoxPHFitter()\n",
    "cph.fit(rossi_dataset, duration_col='week', event_col='arrest')"
   ]
  },
  {
   "cell_type": "code",
   "execution_count": 29,
   "metadata": {},
   "outputs": [
    {
     "name": "stdout",
     "output_type": "stream",
     "text": [
      "n=432, number of events=114\n",
      "\n",
      "        coef  exp(coef)  se(coef)       z      p  lower 0.95  upper 0.95    \n",
      "fin  -0.3790     0.6846    0.1914 -1.9804 0.0477     -0.7541     -0.0038   *\n",
      "age  -0.0572     0.9444    0.0220 -2.6037 0.0092     -0.1003     -0.0141  **\n",
      "race  0.3141     1.3690    0.3080  1.0197 0.3079     -0.2897      0.9179    \n",
      "wexp -0.1511     0.8598    0.2121 -0.7124 0.4762     -0.5670      0.2647    \n",
      "mar  -0.4327     0.6488    0.3817 -1.1334 0.2570     -1.1810      0.3157    \n",
      "paro -0.0850     0.9185    0.1957 -0.4341 0.6643     -0.4687      0.2988    \n",
      "prio  0.0911     1.0954    0.0286  3.1819 0.0015      0.0350      0.1472  **\n",
      "---\n",
      "Signif. codes:  0 '***' 0.001 '**' 0.01 '*' 0.05 '.' 0.1 ' ' 1 \n",
      "\n",
      "Concordance = 0.640\n"
     ]
    }
   ],
   "source": [
    "cph.print_summary()"
   ]
  },
  {
   "cell_type": "code",
   "execution_count": 30,
   "metadata": {},
   "outputs": [
    {
     "name": "stderr",
     "output_type": "stream",
     "text": [
      "/home/ryan/.virtualenvs/coaching-survival/lib/python2.7/site-packages/ipykernel_launcher.py:2: SettingWithCopyWarning: \n",
      "A value is trying to be set on a copy of a slice from a DataFrame.\n",
      "Try using .loc[row_indexer,col_indexer] = value instead\n",
      "\n",
      "See the caveats in the documentation: http://pandas.pydata.org/pandas-docs/stable/indexing.html#indexing-view-versus-copy\n",
      "  \n",
      "/home/ryan/.virtualenvs/coaching-survival/lib/python2.7/site-packages/ipykernel_launcher.py:3: SettingWithCopyWarning: \n",
      "A value is trying to be set on a copy of a slice from a DataFrame.\n",
      "Try using .loc[row_indexer,col_indexer] = value instead\n",
      "\n",
      "See the caveats in the documentation: http://pandas.pydata.org/pandas-docs/stable/indexing.html#indexing-view-versus-copy\n",
      "  This is separate from the ipykernel package so we can avoid doing imports until\n"
     ]
    }
   ],
   "source": [
    "regdata = tenures_info[['games','death','poc','former_nba_player']]\n",
    "regdata['poc'] = (regdata.poc == \"yes\") * 1\n",
    "regdata['former_nba_player'] = (regdata.former_nba_player == \"yes\") * 1"
   ]
  },
  {
   "cell_type": "code",
   "execution_count": 31,
   "metadata": {},
   "outputs": [
    {
     "name": "stdout",
     "output_type": "stream",
     "text": [
      "<class 'pandas.core.frame.DataFrame'>\n",
      "Int64Index: 177 entries, 0 to 176\n",
      "Data columns (total 4 columns):\n",
      "games                177 non-null int64\n",
      "death                177 non-null int64\n",
      "poc                  177 non-null int64\n",
      "former_nba_player    177 non-null int64\n",
      "dtypes: int64(4)\n",
      "memory usage: 6.9 KB\n"
     ]
    }
   ],
   "source": [
    "regdata.info()"
   ]
  },
  {
   "cell_type": "code",
   "execution_count": 32,
   "metadata": {},
   "outputs": [
    {
     "data": {
      "text/plain": [
       "<lifelines.CoxPHFitter: fitted with 177 observations, 61 censored>"
      ]
     },
     "execution_count": 32,
     "metadata": {},
     "output_type": "execute_result"
    }
   ],
   "source": [
    "cph = ll.CoxPHFitter(alpha=0.9)\n",
    "cph.fit(\n",
    "    regdata,\n",
    "    duration_col='games',\n",
    "    event_col='death'\n",
    ")"
   ]
  },
  {
   "cell_type": "code",
   "execution_count": 33,
   "metadata": {},
   "outputs": [
    {
     "name": "stdout",
     "output_type": "stream",
     "text": [
      "n=177, number of events=116\n",
      "\n",
      "                    coef  exp(coef)  se(coef)      z      p  lower 0.90  upper 0.90   \n",
      "poc               0.3421     1.4078    0.1914 1.7870 0.0739      0.0271      0.6570  .\n",
      "former_nba_player 0.0282     1.0286    0.2046 0.1377 0.8905     -0.3085      0.3648   \n",
      "---\n",
      "Signif. codes:  0 '***' 0.001 '**' 0.01 '*' 0.05 '.' 0.1 ' ' 1 \n",
      "\n",
      "Concordance = 0.539\n"
     ]
    }
   ],
   "source": [
    "cph.print_summary()"
   ]
  },
  {
   "cell_type": "code",
   "execution_count": 34,
   "metadata": {},
   "outputs": [
    {
     "data": {
      "text/plain": [
       "<matplotlib.lines.Line2D at 0x7f0feae36790>"
      ]
     },
     "execution_count": 34,
     "metadata": {},
     "output_type": "execute_result"
    },
    {
     "data": {
      "image/png": "[encoded data removed]",
      "text/plain": [
       "<matplotlib.figure.Figure at 0x7f0feae36710>"
      ]
     },
     "metadata": {},
     "output_type": "display_data"
    }
   ],
   "source": [
    "cph.plot()\n",
    "plt.axvline(0)"
   ]
  },
  {
   "cell_type": "code",
   "execution_count": null,
   "metadata": {},
   "outputs": [],
   "source": []
  }
 ],
 "metadata": {
  "kernelspec": {
   "display_name": "Python 2",
   "language": "python",
   "name": "python2"
  },
  "language_info": {
   "codemirror_mode": {
    "name": "ipython",
    "version": 2
   },
   "file_extension": ".py",
   "mimetype": "text/x-python",
   "name": "python",
   "nbconvert_exporter": "python",
   "pygments_lexer": "ipython2",
   "version": "2.7.12"
  }
 },
 "nbformat": 4,
 "nbformat_minor": 2
}
