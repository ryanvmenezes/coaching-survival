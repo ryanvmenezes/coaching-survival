{
 "cells": [
  {
   "cell_type": "code",
   "execution_count": 1,
   "metadata": {},
   "outputs": [],
   "source": [
    "import pandas as pd\n",
    "import lifelines as ll\n",
    "import matplotlib.pyplot as plt\n",
    "%matplotlib inline"
   ]
  },
  {
   "cell_type": "code",
   "execution_count": 3,
   "metadata": {},
   "outputs": [],
   "source": [
    "TENURES = pd.read_csv('categorized/tenures-summarized-categorized.csv')"
   ]
  },
  {
   "cell_type": "code",
   "execution_count": 4,
   "metadata": {},
   "outputs": [
    {
     "data": {
      "text/html": [
       "<div>\n",
       "<style>\n",
       "    .dataframe thead tr:only-child th {\n",
       "        text-align: right;\n",
       "    }\n",
       "\n",
       "    .dataframe thead th {\n",
       "        text-align: left;\n",
       "    }\n",
       "\n",
       "    .dataframe tbody tr th {\n",
       "        vertical-align: top;\n",
       "    }\n",
       "</style>\n",
       "<table border=\"1\" class=\"dataframe\">\n",
       "  <thead>\n",
       "    <tr style=\"text-align: right;\">\n",
       "      <th></th>\n",
       "      <th>slug</th>\n",
       "      <th>coach</th>\n",
       "      <th>franchise</th>\n",
       "      <th>seasons</th>\n",
       "      <th>games</th>\n",
       "      <th>wins</th>\n",
       "      <th>losses</th>\n",
       "      <th>min_year</th>\n",
       "      <th>max_year</th>\n",
       "      <th>left_truncated</th>\n",
       "      <th>ending</th>\n",
       "    </tr>\n",
       "  </thead>\n",
       "  <tbody>\n",
       "    <tr>\n",
       "      <th>0</th>\n",
       "      <td>kruger|01|03|ATL</td>\n",
       "      <td>L. Kruger</td>\n",
       "      <td>ATL</td>\n",
       "      <td>3</td>\n",
       "      <td>191</td>\n",
       "      <td>69</td>\n",
       "      <td>122</td>\n",
       "      <td>2001</td>\n",
       "      <td>2003</td>\n",
       "      <td>True</td>\n",
       "      <td>fired</td>\n",
       "    </tr>\n",
       "    <tr>\n",
       "      <th>1</th>\n",
       "      <td>stotts|03|04|ATL</td>\n",
       "      <td>T. Stotts</td>\n",
       "      <td>ATL</td>\n",
       "      <td>2</td>\n",
       "      <td>137</td>\n",
       "      <td>52</td>\n",
       "      <td>85</td>\n",
       "      <td>2003</td>\n",
       "      <td>2004</td>\n",
       "      <td>False</td>\n",
       "      <td>fired</td>\n",
       "    </tr>\n",
       "    <tr>\n",
       "      <th>2</th>\n",
       "      <td>woodson|05|10|ATL</td>\n",
       "      <td>M. Woodson</td>\n",
       "      <td>ATL</td>\n",
       "      <td>6</td>\n",
       "      <td>492</td>\n",
       "      <td>206</td>\n",
       "      <td>286</td>\n",
       "      <td>2005</td>\n",
       "      <td>2010</td>\n",
       "      <td>False</td>\n",
       "      <td>fired</td>\n",
       "    </tr>\n",
       "    <tr>\n",
       "      <th>3</th>\n",
       "      <td>drew|11|13|ATL</td>\n",
       "      <td>L. Drew</td>\n",
       "      <td>ATL</td>\n",
       "      <td>3</td>\n",
       "      <td>230</td>\n",
       "      <td>128</td>\n",
       "      <td>102</td>\n",
       "      <td>2011</td>\n",
       "      <td>2013</td>\n",
       "      <td>False</td>\n",
       "      <td>fired</td>\n",
       "    </tr>\n",
       "    <tr>\n",
       "      <th>4</th>\n",
       "      <td>budenholzer|14|17|ATL</td>\n",
       "      <td>M. Budenholzer</td>\n",
       "      <td>ATL</td>\n",
       "      <td>4</td>\n",
       "      <td>328</td>\n",
       "      <td>189</td>\n",
       "      <td>139</td>\n",
       "      <td>2014</td>\n",
       "      <td>2017</td>\n",
       "      <td>False</td>\n",
       "      <td>NaN</td>\n",
       "    </tr>\n",
       "  </tbody>\n",
       "</table>\n",
       "</div>"
      ],
      "text/plain": [
       "                    slug           coach franchise  seasons  games  wins  \\\n",
       "0       kruger|01|03|ATL       L. Kruger       ATL        3    191    69   \n",
       "1       stotts|03|04|ATL       T. Stotts       ATL        2    137    52   \n",
       "2      woodson|05|10|ATL      M. Woodson       ATL        6    492   206   \n",
       "3         drew|11|13|ATL         L. Drew       ATL        3    230   128   \n",
       "4  budenholzer|14|17|ATL  M. Budenholzer       ATL        4    328   189   \n",
       "\n",
       "   losses  min_year  max_year  left_truncated ending  \n",
       "0     122      2001      2003            True  fired  \n",
       "1      85      2003      2004           False  fired  \n",
       "2     286      2005      2010           False  fired  \n",
       "3     102      2011      2013           False  fired  \n",
       "4     139      2014      2017           False    NaN  "
      ]
     },
     "execution_count": 4,
     "metadata": {},
     "output_type": "execute_result"
    }
   ],
   "source": [
    "TENURES.head()"
   ]
  },
  {
   "cell_type": "code",
   "execution_count": 5,
   "metadata": {},
   "outputs": [
    {
     "data": {
      "text/plain": [
       "fired               112\n",
       "interim only         39\n",
       "resigned             26\n",
       "contract expired      2\n",
       "traded                2\n",
       "retired               2\n",
       "mutual                2\n",
       "died                  1\n",
       "Name: ending, dtype: int64"
      ]
     },
     "execution_count": 5,
     "metadata": {},
     "output_type": "execute_result"
    }
   ],
   "source": [
    "TENURES.ending.value_counts()"
   ]
  },
  {
   "cell_type": "code",
   "execution_count": 6,
   "metadata": {},
   "outputs": [],
   "source": [
    "tenures = TENURES[TENURES.ending != 'interim only']"
   ]
  },
  {
   "cell_type": "code",
   "execution_count": 7,
   "metadata": {},
   "outputs": [],
   "source": [
    "death_event = ['fired', 'contract expired', 'mutual']"
   ]
  },
  {
   "cell_type": "code",
   "execution_count": 8,
   "metadata": {},
   "outputs": [
    {
     "name": "stderr",
     "output_type": "stream",
     "text": [
      "/home/ryan/.virtualenvs/coaching-survival/lib/python2.7/site-packages/ipykernel_launcher.py:1: SettingWithCopyWarning: \n",
      "A value is trying to be set on a copy of a slice from a DataFrame.\n",
      "Try using .loc[row_indexer,col_indexer] = value instead\n",
      "\n",
      "See the caveats in the documentation: http://pandas.pydata.org/pandas-docs/stable/indexing.html#indexing-view-versus-copy\n",
      "  \"\"\"Entry point for launching an IPython kernel.\n"
     ]
    }
   ],
   "source": [
    "tenures['death'] = (tenures.ending.isin(death_event) * 1)"
   ]
  },
  {
   "cell_type": "code",
   "execution_count": 9,
   "metadata": {},
   "outputs": [
    {
     "data": {
      "text/html": [
       "<div>\n",
       "<style>\n",
       "    .dataframe thead tr:only-child th {\n",
       "        text-align: right;\n",
       "    }\n",
       "\n",
       "    .dataframe thead th {\n",
       "        text-align: left;\n",
       "    }\n",
       "\n",
       "    .dataframe tbody tr th {\n",
       "        vertical-align: top;\n",
       "    }\n",
       "</style>\n",
       "<table border=\"1\" class=\"dataframe\">\n",
       "  <thead>\n",
       "    <tr style=\"text-align: right;\">\n",
       "      <th></th>\n",
       "      <th>slug</th>\n",
       "      <th>coach</th>\n",
       "      <th>franchise</th>\n",
       "      <th>seasons</th>\n",
       "      <th>games</th>\n",
       "      <th>wins</th>\n",
       "      <th>losses</th>\n",
       "      <th>min_year</th>\n",
       "      <th>max_year</th>\n",
       "      <th>left_truncated</th>\n",
       "      <th>ending</th>\n",
       "      <th>death</th>\n",
       "    </tr>\n",
       "  </thead>\n",
       "  <tbody>\n",
       "    <tr>\n",
       "      <th>170</th>\n",
       "      <td>mcmillan|06|12|POR</td>\n",
       "      <td>N. McMillan</td>\n",
       "      <td>POR</td>\n",
       "      <td>7</td>\n",
       "      <td>535</td>\n",
       "      <td>266</td>\n",
       "      <td>269</td>\n",
       "      <td>2006</td>\n",
       "      <td>2012</td>\n",
       "      <td>False</td>\n",
       "      <td>fired</td>\n",
       "      <td>1</td>\n",
       "    </tr>\n",
       "    <tr>\n",
       "      <th>178</th>\n",
       "      <td>smart|12|13|SAC</td>\n",
       "      <td>K. Smart</td>\n",
       "      <td>SAC</td>\n",
       "      <td>2</td>\n",
       "      <td>141</td>\n",
       "      <td>48</td>\n",
       "      <td>93</td>\n",
       "      <td>2012</td>\n",
       "      <td>2013</td>\n",
       "      <td>False</td>\n",
       "      <td>fired</td>\n",
       "      <td>1</td>\n",
       "    </tr>\n",
       "    <tr>\n",
       "      <th>150</th>\n",
       "      <td>brown|01|03|PHI</td>\n",
       "      <td>L. Brown</td>\n",
       "      <td>PHI</td>\n",
       "      <td>3</td>\n",
       "      <td>246</td>\n",
       "      <td>147</td>\n",
       "      <td>99</td>\n",
       "      <td>2001</td>\n",
       "      <td>2003</td>\n",
       "      <td>True</td>\n",
       "      <td>resigned</td>\n",
       "      <td>0</td>\n",
       "    </tr>\n",
       "    <tr>\n",
       "      <th>99</th>\n",
       "      <td>skiles|09|13|MIL</td>\n",
       "      <td>S. Skiles</td>\n",
       "      <td>MIL</td>\n",
       "      <td>5</td>\n",
       "      <td>344</td>\n",
       "      <td>162</td>\n",
       "      <td>182</td>\n",
       "      <td>2009</td>\n",
       "      <td>2013</td>\n",
       "      <td>False</td>\n",
       "      <td>mutual</td>\n",
       "      <td>1</td>\n",
       "    </tr>\n",
       "    <tr>\n",
       "      <th>57</th>\n",
       "      <td>cowens|01|02|GSW</td>\n",
       "      <td>D. Cowens</td>\n",
       "      <td>GSW</td>\n",
       "      <td>2</td>\n",
       "      <td>105</td>\n",
       "      <td>25</td>\n",
       "      <td>80</td>\n",
       "      <td>2001</td>\n",
       "      <td>2002</td>\n",
       "      <td>True</td>\n",
       "      <td>fired</td>\n",
       "      <td>1</td>\n",
       "    </tr>\n",
       "  </tbody>\n",
       "</table>\n",
       "</div>"
      ],
      "text/plain": [
       "                   slug        coach franchise  seasons  games  wins  losses  \\\n",
       "170  mcmillan|06|12|POR  N. McMillan       POR        7    535   266     269   \n",
       "178     smart|12|13|SAC     K. Smart       SAC        2    141    48      93   \n",
       "150     brown|01|03|PHI     L. Brown       PHI        3    246   147      99   \n",
       "99     skiles|09|13|MIL    S. Skiles       MIL        5    344   162     182   \n",
       "57     cowens|01|02|GSW    D. Cowens       GSW        2    105    25      80   \n",
       "\n",
       "     min_year  max_year  left_truncated    ending  death  \n",
       "170      2006      2012           False     fired      1  \n",
       "178      2012      2013           False     fired      1  \n",
       "150      2001      2003            True  resigned      0  \n",
       "99       2009      2013           False    mutual      1  \n",
       "57       2001      2002            True     fired      1  "
      ]
     },
     "execution_count": 9,
     "metadata": {},
     "output_type": "execute_result"
    }
   ],
   "source": [
    "tenures.sample(5)"
   ]
  },
  {
   "cell_type": "code",
   "execution_count": 10,
   "metadata": {},
   "outputs": [],
   "source": [
    "kmf = ll.KaplanMeierFitter()"
   ]
  },
  {
   "cell_type": "code",
   "execution_count": 11,
   "metadata": {},
   "outputs": [
    {
     "data": {
      "text/plain": [
       "<lifelines.KaplanMeierFitter: fitted with 177 observations, 61 censored>"
      ]
     },
     "execution_count": 11,
     "metadata": {},
     "output_type": "execute_result"
    }
   ],
   "source": [
    "kmf.fit(tenures.games, event_observed=tenures.death)"
   ]
  },
  {
   "cell_type": "code",
   "execution_count": 12,
   "metadata": {},
   "outputs": [
    {
     "data": {
      "image/png": "[encoded data removed]",
      "text/plain": [
       "<matplotlib.figure.Figure at 0x7fd82bbee350>"
      ]
     },
     "metadata": {},
     "output_type": "display_data"
    }
   ],
   "source": [
    "kmf.survival_function_.plot(figsize=(16,8))\n",
    "plt.title('Survival function of NBA coaches');"
   ]
  },
  {
   "cell_type": "code",
   "execution_count": 13,
   "metadata": {},
   "outputs": [
    {
     "data": {
      "text/plain": [
       "Text(0.5,1,u'Survival function of NBA coaches')"
      ]
     },
     "execution_count": 13,
     "metadata": {},
     "output_type": "execute_result"
    },
    {
     "data": {
      "image/png": "[encoded data removed]",
      "text/plain": [
       "<matplotlib.figure.Figure at 0x7fd82bbee290>"
      ]
     },
     "metadata": {},
     "output_type": "display_data"
    }
   ],
   "source": [
    "kmf.plot(figsize=(16,8))\n",
    "[plt.axvline(g, c='black', alpha=0.2) for g in range(82, 82*20, 82)]\n",
    "plt.xlim(0, 600)\n",
    "plt.title('Survival function of NBA coaches')"
   ]
  },
  {
   "cell_type": "code",
   "execution_count": 17,
   "metadata": {},
   "outputs": [],
   "source": [
    "POC = pd.read_csv('categorized/coach-list-poc.csv')"
   ]
  },
  {
   "cell_type": "code",
   "execution_count": 18,
   "metadata": {},
   "outputs": [
    {
     "data": {
      "text/html": [
       "<div>\n",
       "<style>\n",
       "    .dataframe thead tr:only-child th {\n",
       "        text-align: right;\n",
       "    }\n",
       "\n",
       "    .dataframe thead th {\n",
       "        text-align: left;\n",
       "    }\n",
       "\n",
       "    .dataframe tbody tr th {\n",
       "        vertical-align: top;\n",
       "    }\n",
       "</style>\n",
       "<table border=\"1\" class=\"dataframe\">\n",
       "  <thead>\n",
       "    <tr style=\"text-align: right;\">\n",
       "      <th></th>\n",
       "      <th>coach</th>\n",
       "      <th>franchises</th>\n",
       "      <th>poc</th>\n",
       "      <th>note</th>\n",
       "    </tr>\n",
       "  </thead>\n",
       "  <tbody>\n",
       "    <tr>\n",
       "      <th>0</th>\n",
       "      <td>T. Porter</td>\n",
       "      <td>PHO|MIL</td>\n",
       "      <td>yes</td>\n",
       "      <td>NaN</td>\n",
       "    </tr>\n",
       "    <tr>\n",
       "      <th>1</th>\n",
       "      <td>T. Lue</td>\n",
       "      <td>CLE</td>\n",
       "      <td>yes</td>\n",
       "      <td>NaN</td>\n",
       "    </tr>\n",
       "    <tr>\n",
       "      <th>2</th>\n",
       "      <td>T. Corbin</td>\n",
       "      <td>SAC|UTA</td>\n",
       "      <td>yes</td>\n",
       "      <td>NaN</td>\n",
       "    </tr>\n",
       "    <tr>\n",
       "      <th>3</th>\n",
       "      <td>T. Brown</td>\n",
       "      <td>NJNBRK</td>\n",
       "      <td>yes</td>\n",
       "      <td>NaN</td>\n",
       "    </tr>\n",
       "    <tr>\n",
       "      <th>4</th>\n",
       "      <td>S. Vincent</td>\n",
       "      <td>CHARBH</td>\n",
       "      <td>yes</td>\n",
       "      <td>NaN</td>\n",
       "    </tr>\n",
       "  </tbody>\n",
       "</table>\n",
       "</div>"
      ],
      "text/plain": [
       "        coach franchises  poc note\n",
       "0   T. Porter    PHO|MIL  yes  NaN\n",
       "1      T. Lue        CLE  yes  NaN\n",
       "2   T. Corbin    SAC|UTA  yes  NaN\n",
       "3    T. Brown     NJNBRK  yes  NaN\n",
       "4  S. Vincent     CHARBH  yes  NaN"
      ]
     },
     "execution_count": 18,
     "metadata": {},
     "output_type": "execute_result"
    }
   ],
   "source": [
    "POC.head()"
   ]
  },
  {
   "cell_type": "code",
   "execution_count": 19,
   "metadata": {},
   "outputs": [],
   "source": [
    "tenures_poc = pd.merge(tenures, POC[['coach','poc']], how='left')"
   ]
  },
  {
   "cell_type": "code",
   "execution_count": 20,
   "metadata": {},
   "outputs": [
    {
     "data": {
      "text/plain": [
       "0"
      ]
     },
     "execution_count": 20,
     "metadata": {},
     "output_type": "execute_result"
    }
   ],
   "source": [
    "tenures_poc.poc.isnull().sum()"
   ]
  },
  {
   "cell_type": "code",
   "execution_count": 21,
   "metadata": {},
   "outputs": [
    {
     "data": {
      "text/html": [
       "<div>\n",
       "<style>\n",
       "    .dataframe thead tr:only-child th {\n",
       "        text-align: right;\n",
       "    }\n",
       "\n",
       "    .dataframe thead th {\n",
       "        text-align: left;\n",
       "    }\n",
       "\n",
       "    .dataframe tbody tr th {\n",
       "        vertical-align: top;\n",
       "    }\n",
       "</style>\n",
       "<table border=\"1\" class=\"dataframe\">\n",
       "  <thead>\n",
       "    <tr style=\"text-align: right;\">\n",
       "      <th></th>\n",
       "      <th>slug</th>\n",
       "      <th>coach</th>\n",
       "      <th>franchise</th>\n",
       "      <th>seasons</th>\n",
       "      <th>games</th>\n",
       "      <th>wins</th>\n",
       "      <th>losses</th>\n",
       "      <th>min_year</th>\n",
       "      <th>max_year</th>\n",
       "      <th>left_truncated</th>\n",
       "      <th>ending</th>\n",
       "      <th>death</th>\n",
       "      <th>poc</th>\n",
       "    </tr>\n",
       "  </thead>\n",
       "  <tbody>\n",
       "    <tr>\n",
       "      <th>0</th>\n",
       "      <td>kruger|01|03|ATL</td>\n",
       "      <td>L. Kruger</td>\n",
       "      <td>ATL</td>\n",
       "      <td>3</td>\n",
       "      <td>191</td>\n",
       "      <td>69</td>\n",
       "      <td>122</td>\n",
       "      <td>2001</td>\n",
       "      <td>2003</td>\n",
       "      <td>True</td>\n",
       "      <td>fired</td>\n",
       "      <td>1</td>\n",
       "      <td>no</td>\n",
       "    </tr>\n",
       "    <tr>\n",
       "      <th>1</th>\n",
       "      <td>stotts|03|04|ATL</td>\n",
       "      <td>T. Stotts</td>\n",
       "      <td>ATL</td>\n",
       "      <td>2</td>\n",
       "      <td>137</td>\n",
       "      <td>52</td>\n",
       "      <td>85</td>\n",
       "      <td>2003</td>\n",
       "      <td>2004</td>\n",
       "      <td>False</td>\n",
       "      <td>fired</td>\n",
       "      <td>1</td>\n",
       "      <td>no</td>\n",
       "    </tr>\n",
       "    <tr>\n",
       "      <th>2</th>\n",
       "      <td>woodson|05|10|ATL</td>\n",
       "      <td>M. Woodson</td>\n",
       "      <td>ATL</td>\n",
       "      <td>6</td>\n",
       "      <td>492</td>\n",
       "      <td>206</td>\n",
       "      <td>286</td>\n",
       "      <td>2005</td>\n",
       "      <td>2010</td>\n",
       "      <td>False</td>\n",
       "      <td>fired</td>\n",
       "      <td>1</td>\n",
       "      <td>yes</td>\n",
       "    </tr>\n",
       "    <tr>\n",
       "      <th>3</th>\n",
       "      <td>drew|11|13|ATL</td>\n",
       "      <td>L. Drew</td>\n",
       "      <td>ATL</td>\n",
       "      <td>3</td>\n",
       "      <td>230</td>\n",
       "      <td>128</td>\n",
       "      <td>102</td>\n",
       "      <td>2011</td>\n",
       "      <td>2013</td>\n",
       "      <td>False</td>\n",
       "      <td>fired</td>\n",
       "      <td>1</td>\n",
       "      <td>yes</td>\n",
       "    </tr>\n",
       "    <tr>\n",
       "      <th>4</th>\n",
       "      <td>budenholzer|14|17|ATL</td>\n",
       "      <td>M. Budenholzer</td>\n",
       "      <td>ATL</td>\n",
       "      <td>4</td>\n",
       "      <td>328</td>\n",
       "      <td>189</td>\n",
       "      <td>139</td>\n",
       "      <td>2014</td>\n",
       "      <td>2017</td>\n",
       "      <td>False</td>\n",
       "      <td>NaN</td>\n",
       "      <td>0</td>\n",
       "      <td>no</td>\n",
       "    </tr>\n",
       "  </tbody>\n",
       "</table>\n",
       "</div>"
      ],
      "text/plain": [
       "                    slug           coach franchise  seasons  games  wins  \\\n",
       "0       kruger|01|03|ATL       L. Kruger       ATL        3    191    69   \n",
       "1       stotts|03|04|ATL       T. Stotts       ATL        2    137    52   \n",
       "2      woodson|05|10|ATL      M. Woodson       ATL        6    492   206   \n",
       "3         drew|11|13|ATL         L. Drew       ATL        3    230   128   \n",
       "4  budenholzer|14|17|ATL  M. Budenholzer       ATL        4    328   189   \n",
       "\n",
       "   losses  min_year  max_year  left_truncated ending  death  poc  \n",
       "0     122      2001      2003            True  fired      1   no  \n",
       "1      85      2003      2004           False  fired      1   no  \n",
       "2     286      2005      2010           False  fired      1  yes  \n",
       "3     102      2011      2013           False  fired      1  yes  \n",
       "4     139      2014      2017           False    NaN      0   no  "
      ]
     },
     "execution_count": 21,
     "metadata": {},
     "output_type": "execute_result"
    }
   ],
   "source": [
    "tenures_poc.head()"
   ]
  },
  {
   "cell_type": "code",
   "execution_count": 22,
   "metadata": {},
   "outputs": [
    {
     "data": {
      "text/plain": [
       "(0, 600)"
      ]
     },
     "execution_count": 22,
     "metadata": {},
     "output_type": "execute_result"
    },
    {
     "data": {
      "image/png": "[encoded data removed]",
      "text/plain": [
       "<matplotlib.figure.Figure at 0x7fd8298a5390>"
      ]
     },
     "metadata": {},
     "output_type": "display_data"
    }
   ],
   "source": [
    "plt.figure(figsize=(16,8))\n",
    "ax = plt.subplot(111)\n",
    "\n",
    "ispoc = (tenures_poc['poc'] == 'yes')\n",
    "\n",
    "kmf.fit(tenures_poc[ispoc].games, event_observed=tenures_poc[ispoc].death, label=\"POC\")\n",
    "kmf.plot(ax=ax)\n",
    "kmf.fit(tenures_poc[~ispoc].games, event_observed=tenures_poc[~ispoc].death, label=\"White\")\n",
    "kmf.plot(ax=ax)\n",
    "\n",
    "plt.xlim(0,600)"
   ]
  },
  {
   "cell_type": "code",
   "execution_count": null,
   "metadata": {},
   "outputs": [],
   "source": []
  }
 ],
 "metadata": {
  "kernelspec": {
   "display_name": "Python 2",
   "language": "python",
   "name": "python2"
  },
  "language_info": {
   "codemirror_mode": {
    "name": "ipython",
    "version": 2
   },
   "file_extension": ".py",
   "mimetype": "text/x-python",
   "name": "python",
   "nbconvert_exporter": "python",
   "pygments_lexer": "ipython2",
   "version": "2.7.12"
  }
 },
 "nbformat": 4,
 "nbformat_minor": 2
}
