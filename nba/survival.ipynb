{
 "cells": [
  {
   "cell_type": "code",
   "execution_count": 1,
   "metadata": {},
   "outputs": [],
   "source": [
    "import pandas as pd\n",
    "import lifelines as ll\n",
    "import matplotlib.pyplot as plt\n",
    "%matplotlib inline"
   ]
  },
  {
   "cell_type": "code",
   "execution_count": 2,
   "metadata": {},
   "outputs": [],
   "source": [
    "TENURES = pd.read_csv('categorized/tenures-summarized-categorized.csv')"
   ]
  },
  {
   "cell_type": "code",
   "execution_count": 3,
   "metadata": {},
   "outputs": [
    {
     "data": {
      "text/html": [
       "<div>\n",
       "<style>\n",
       "    .dataframe thead tr:only-child th {\n",
       "        text-align: right;\n",
       "    }\n",
       "\n",
       "    .dataframe thead th {\n",
       "        text-align: left;\n",
       "    }\n",
       "\n",
       "    .dataframe tbody tr th {\n",
       "        vertical-align: top;\n",
       "    }\n",
       "</style>\n",
       "<table border=\"1\" class=\"dataframe\">\n",
       "  <thead>\n",
       "    <tr style=\"text-align: right;\">\n",
       "      <th></th>\n",
       "      <th>slug</th>\n",
       "      <th>coach</th>\n",
       "      <th>coach_id</th>\n",
       "      <th>franchise</th>\n",
       "      <th>seasons</th>\n",
       "      <th>games</th>\n",
       "      <th>wins</th>\n",
       "      <th>losses</th>\n",
       "      <th>min_date</th>\n",
       "      <th>max_date</th>\n",
       "      <th>left_truncated</th>\n",
       "      <th>ending</th>\n",
       "    </tr>\n",
       "  </thead>\n",
       "  <tbody>\n",
       "    <tr>\n",
       "      <th>0</th>\n",
       "      <td>krugelo99c|00|02|ATL</td>\n",
       "      <td>Lon Kruger</td>\n",
       "      <td>krugelo99c</td>\n",
       "      <td>ATL</td>\n",
       "      <td>3</td>\n",
       "      <td>191</td>\n",
       "      <td>69</td>\n",
       "      <td>122</td>\n",
       "      <td>2000-10-31</td>\n",
       "      <td>2002-12-23</td>\n",
       "      <td>True</td>\n",
       "      <td>fired</td>\n",
       "    </tr>\n",
       "    <tr>\n",
       "      <th>1</th>\n",
       "      <td>stottte99c|02|04|ATL</td>\n",
       "      <td>Terry Stotts</td>\n",
       "      <td>stottte99c</td>\n",
       "      <td>ATL</td>\n",
       "      <td>2</td>\n",
       "      <td>137</td>\n",
       "      <td>52</td>\n",
       "      <td>85</td>\n",
       "      <td>2002-12-27</td>\n",
       "      <td>2004-04-14</td>\n",
       "      <td>False</td>\n",
       "      <td>fired</td>\n",
       "    </tr>\n",
       "    <tr>\n",
       "      <th>2</th>\n",
       "      <td>woodsmi01c|04|10|ATL</td>\n",
       "      <td>Mike Woodson</td>\n",
       "      <td>woodsmi01c</td>\n",
       "      <td>ATL</td>\n",
       "      <td>6</td>\n",
       "      <td>492</td>\n",
       "      <td>206</td>\n",
       "      <td>286</td>\n",
       "      <td>2004-11-03</td>\n",
       "      <td>2010-04-14</td>\n",
       "      <td>False</td>\n",
       "      <td>fired</td>\n",
       "    </tr>\n",
       "    <tr>\n",
       "      <th>3</th>\n",
       "      <td>drewla01c|10|13|ATL</td>\n",
       "      <td>Larry Drew</td>\n",
       "      <td>drewla01c</td>\n",
       "      <td>ATL</td>\n",
       "      <td>3</td>\n",
       "      <td>230</td>\n",
       "      <td>128</td>\n",
       "      <td>102</td>\n",
       "      <td>2010-10-27</td>\n",
       "      <td>2013-04-17</td>\n",
       "      <td>False</td>\n",
       "      <td>fired</td>\n",
       "    </tr>\n",
       "    <tr>\n",
       "      <th>4</th>\n",
       "      <td>budenmi99c|13|17|ATL</td>\n",
       "      <td>Mike Budenholzer</td>\n",
       "      <td>budenmi99c</td>\n",
       "      <td>ATL</td>\n",
       "      <td>5</td>\n",
       "      <td>356</td>\n",
       "      <td>195</td>\n",
       "      <td>161</td>\n",
       "      <td>2013-10-30</td>\n",
       "      <td>2017-12-14</td>\n",
       "      <td>False</td>\n",
       "      <td>NaN</td>\n",
       "    </tr>\n",
       "  </tbody>\n",
       "</table>\n",
       "</div>"
      ],
      "text/plain": [
       "                   slug             coach    coach_id franchise  seasons  \\\n",
       "0  krugelo99c|00|02|ATL        Lon Kruger  krugelo99c       ATL        3   \n",
       "1  stottte99c|02|04|ATL      Terry Stotts  stottte99c       ATL        2   \n",
       "2  woodsmi01c|04|10|ATL      Mike Woodson  woodsmi01c       ATL        6   \n",
       "3   drewla01c|10|13|ATL        Larry Drew   drewla01c       ATL        3   \n",
       "4  budenmi99c|13|17|ATL  Mike Budenholzer  budenmi99c       ATL        5   \n",
       "\n",
       "   games  wins  losses    min_date    max_date  left_truncated ending  \n",
       "0    191    69     122  2000-10-31  2002-12-23            True  fired  \n",
       "1    137    52      85  2002-12-27  2004-04-14           False  fired  \n",
       "2    492   206     286  2004-11-03  2010-04-14           False  fired  \n",
       "3    230   128     102  2010-10-27  2013-04-17           False  fired  \n",
       "4    356   195     161  2013-10-30  2017-12-14           False    NaN  "
      ]
     },
     "execution_count": 3,
     "metadata": {},
     "output_type": "execute_result"
    }
   ],
   "source": [
    "TENURES.head()"
   ]
  },
  {
   "cell_type": "code",
   "execution_count": 4,
   "metadata": {},
   "outputs": [
    {
     "data": {
      "text/plain": [
       "fired               114\n",
       "interim only         39\n",
       "resigned             26\n",
       "contract expired      2\n",
       "traded                2\n",
       "retired               2\n",
       "mutual                2\n",
       "died                  1\n",
       "Name: ending, dtype: int64"
      ]
     },
     "execution_count": 4,
     "metadata": {},
     "output_type": "execute_result"
    }
   ],
   "source": [
    "TENURES.ending.value_counts()"
   ]
  },
  {
   "cell_type": "code",
   "execution_count": 5,
   "metadata": {},
   "outputs": [],
   "source": [
    "tenures = TENURES[TENURES.ending != 'interim only']"
   ]
  },
  {
   "cell_type": "code",
   "execution_count": 6,
   "metadata": {},
   "outputs": [],
   "source": [
    "death_event = ['fired', 'contract expired', 'mutual']"
   ]
  },
  {
   "cell_type": "code",
   "execution_count": 7,
   "metadata": {},
   "outputs": [
    {
     "name": "stderr",
     "output_type": "stream",
     "text": [
      "/home/ryan/.virtualenvs/coaching-survival/lib/python2.7/site-packages/ipykernel_launcher.py:1: SettingWithCopyWarning: \n",
      "A value is trying to be set on a copy of a slice from a DataFrame.\n",
      "Try using .loc[row_indexer,col_indexer] = value instead\n",
      "\n",
      "See the caveats in the documentation: http://pandas.pydata.org/pandas-docs/stable/indexing.html#indexing-view-versus-copy\n",
      "  \"\"\"Entry point for launching an IPython kernel.\n"
     ]
    }
   ],
   "source": [
    "tenures['death'] = (tenures.ending.isin(death_event) * 1)"
   ]
  },
  {
   "cell_type": "code",
   "execution_count": 8,
   "metadata": {},
   "outputs": [
    {
     "data": {
      "text/html": [
       "<div>\n",
       "<style>\n",
       "    .dataframe thead tr:only-child th {\n",
       "        text-align: right;\n",
       "    }\n",
       "\n",
       "    .dataframe thead th {\n",
       "        text-align: left;\n",
       "    }\n",
       "\n",
       "    .dataframe tbody tr th {\n",
       "        vertical-align: top;\n",
       "    }\n",
       "</style>\n",
       "<table border=\"1\" class=\"dataframe\">\n",
       "  <thead>\n",
       "    <tr style=\"text-align: right;\">\n",
       "      <th></th>\n",
       "      <th>slug</th>\n",
       "      <th>coach</th>\n",
       "      <th>coach_id</th>\n",
       "      <th>franchise</th>\n",
       "      <th>seasons</th>\n",
       "      <th>games</th>\n",
       "      <th>wins</th>\n",
       "      <th>losses</th>\n",
       "      <th>min_date</th>\n",
       "      <th>max_date</th>\n",
       "      <th>left_truncated</th>\n",
       "      <th>ending</th>\n",
       "      <th>death</th>\n",
       "    </tr>\n",
       "  </thead>\n",
       "  <tbody>\n",
       "    <tr>\n",
       "      <th>195</th>\n",
       "      <td>trianja99c|08|11|TOR</td>\n",
       "      <td>Jay Triano</td>\n",
       "      <td>trianja99c</td>\n",
       "      <td>TOR</td>\n",
       "      <td>3</td>\n",
       "      <td>229</td>\n",
       "      <td>87</td>\n",
       "      <td>142</td>\n",
       "      <td>2008-12-05</td>\n",
       "      <td>2011-04-13</td>\n",
       "      <td>False</td>\n",
       "      <td>contract expired</td>\n",
       "      <td>1</td>\n",
       "    </tr>\n",
       "    <tr>\n",
       "      <th>16</th>\n",
       "      <td>floydti99c|00|01|CHI</td>\n",
       "      <td>Tim Floyd</td>\n",
       "      <td>floydti99c</td>\n",
       "      <td>CHI</td>\n",
       "      <td>2</td>\n",
       "      <td>107</td>\n",
       "      <td>19</td>\n",
       "      <td>88</td>\n",
       "      <td>2000-10-31</td>\n",
       "      <td>2001-12-22</td>\n",
       "      <td>True</td>\n",
       "      <td>resigned</td>\n",
       "      <td>0</td>\n",
       "    </tr>\n",
       "    <tr>\n",
       "      <th>184</th>\n",
       "      <td>popovgr99c|00|17|SAS</td>\n",
       "      <td>Gregg Popovich</td>\n",
       "      <td>popovgr99c</td>\n",
       "      <td>SAS</td>\n",
       "      <td>18</td>\n",
       "      <td>1406</td>\n",
       "      <td>1006</td>\n",
       "      <td>400</td>\n",
       "      <td>2000-10-31</td>\n",
       "      <td>2017-12-12</td>\n",
       "      <td>True</td>\n",
       "      <td>NaN</td>\n",
       "      <td>0</td>\n",
       "    </tr>\n",
       "    <tr>\n",
       "      <th>91</th>\n",
       "      <td>rileypa01c|00|03|MIA</td>\n",
       "      <td>Pat Riley</td>\n",
       "      <td>rileypa01c</td>\n",
       "      <td>MIA</td>\n",
       "      <td>3</td>\n",
       "      <td>246</td>\n",
       "      <td>111</td>\n",
       "      <td>135</td>\n",
       "      <td>2000-11-01</td>\n",
       "      <td>2003-04-15</td>\n",
       "      <td>True</td>\n",
       "      <td>resigned</td>\n",
       "      <td>0</td>\n",
       "    </tr>\n",
       "    <tr>\n",
       "      <th>180</th>\n",
       "      <td>malonmi99c|13|14|SAC</td>\n",
       "      <td>Mike Malone</td>\n",
       "      <td>malonmi99c</td>\n",
       "      <td>SAC</td>\n",
       "      <td>2</td>\n",
       "      <td>106</td>\n",
       "      <td>39</td>\n",
       "      <td>67</td>\n",
       "      <td>2013-10-30</td>\n",
       "      <td>2014-12-13</td>\n",
       "      <td>False</td>\n",
       "      <td>fired</td>\n",
       "      <td>1</td>\n",
       "    </tr>\n",
       "  </tbody>\n",
       "</table>\n",
       "</div>"
      ],
      "text/plain": [
       "                     slug           coach    coach_id franchise  seasons  \\\n",
       "195  trianja99c|08|11|TOR      Jay Triano  trianja99c       TOR        3   \n",
       "16   floydti99c|00|01|CHI       Tim Floyd  floydti99c       CHI        2   \n",
       "184  popovgr99c|00|17|SAS  Gregg Popovich  popovgr99c       SAS       18   \n",
       "91   rileypa01c|00|03|MIA       Pat Riley  rileypa01c       MIA        3   \n",
       "180  malonmi99c|13|14|SAC     Mike Malone  malonmi99c       SAC        2   \n",
       "\n",
       "     games  wins  losses    min_date    max_date  left_truncated  \\\n",
       "195    229    87     142  2008-12-05  2011-04-13           False   \n",
       "16     107    19      88  2000-10-31  2001-12-22            True   \n",
       "184   1406  1006     400  2000-10-31  2017-12-12            True   \n",
       "91     246   111     135  2000-11-01  2003-04-15            True   \n",
       "180    106    39      67  2013-10-30  2014-12-13           False   \n",
       "\n",
       "               ending  death  \n",
       "195  contract expired      1  \n",
       "16           resigned      0  \n",
       "184               NaN      0  \n",
       "91           resigned      0  \n",
       "180             fired      1  "
      ]
     },
     "execution_count": 8,
     "metadata": {},
     "output_type": "execute_result"
    }
   ],
   "source": [
    "tenures.sample(5)"
   ]
  },
  {
   "cell_type": "code",
   "execution_count": 9,
   "metadata": {},
   "outputs": [],
   "source": [
    "kmf = ll.KaplanMeierFitter()"
   ]
  },
  {
   "cell_type": "code",
   "execution_count": 10,
   "metadata": {},
   "outputs": [
    {
     "data": {
      "text/plain": [
       "<lifelines.KaplanMeierFitter: fitted with 179 observations, 61 censored>"
      ]
     },
     "execution_count": 10,
     "metadata": {},
     "output_type": "execute_result"
    }
   ],
   "source": [
    "kmf.fit(tenures.games, event_observed=tenures.death)"
   ]
  },
  {
   "cell_type": "code",
   "execution_count": 11,
   "metadata": {},
   "outputs": [
    {
     "data": {
      "image/png": "[encoded data removed]",
      "text/plain": [
       "<matplotlib.figure.Figure at 0x7fb65ad33590>"
      ]
     },
     "metadata": {},
     "output_type": "display_data"
    }
   ],
   "source": [
    "kmf.survival_function_.plot(figsize=(16,8))\n",
    "plt.title('Survival function of NBA coaches');"
   ]
  },
  {
   "cell_type": "code",
   "execution_count": 12,
   "metadata": {},
   "outputs": [
    {
     "data": {
      "text/plain": [
       "Text(0.5,1,u'Survival function of NBA coaches')"
      ]
     },
     "execution_count": 12,
     "metadata": {},
     "output_type": "execute_result"
    },
    {
     "data": {
      "image/png": "[encoded data removed]",
      "text/plain": [
       "<matplotlib.figure.Figure at 0x7fb65ac31e50>"
      ]
     },
     "metadata": {},
     "output_type": "display_data"
    }
   ],
   "source": [
    "kmf.plot(figsize=(16,8))\n",
    "[plt.axvline(g, c='black', alpha=0.2) for g in range(82, 82*20, 82)]\n",
    "plt.xlim(0, 600)\n",
    "plt.title('Survival function of NBA coaches')"
   ]
  },
  {
   "cell_type": "code",
   "execution_count": 13,
   "metadata": {},
   "outputs": [],
   "source": [
    "POC = pd.read_csv('categorized/coach-list-poc.csv')"
   ]
  },
  {
   "cell_type": "code",
   "execution_count": 14,
   "metadata": {},
   "outputs": [
    {
     "data": {
      "text/html": [
       "<div>\n",
       "<style>\n",
       "    .dataframe thead tr:only-child th {\n",
       "        text-align: right;\n",
       "    }\n",
       "\n",
       "    .dataframe thead th {\n",
       "        text-align: left;\n",
       "    }\n",
       "\n",
       "    .dataframe tbody tr th {\n",
       "        vertical-align: top;\n",
       "    }\n",
       "</style>\n",
       "<table border=\"1\" class=\"dataframe\">\n",
       "  <thead>\n",
       "    <tr style=\"text-align: right;\">\n",
       "      <th></th>\n",
       "      <th>coach</th>\n",
       "      <th>coach_id</th>\n",
       "      <th>franchises</th>\n",
       "      <th>poc</th>\n",
       "      <th>note</th>\n",
       "    </tr>\n",
       "  </thead>\n",
       "  <tbody>\n",
       "    <tr>\n",
       "      <th>0</th>\n",
       "      <td>Tyronn Lue</td>\n",
       "      <td>luety01c</td>\n",
       "      <td>CLE</td>\n",
       "      <td>yes</td>\n",
       "      <td>NaN</td>\n",
       "    </tr>\n",
       "    <tr>\n",
       "      <th>1</th>\n",
       "      <td>Tyrone Corbin</td>\n",
       "      <td>corbity01c</td>\n",
       "      <td>SAC|UTA</td>\n",
       "      <td>yes</td>\n",
       "      <td>NaN</td>\n",
       "    </tr>\n",
       "    <tr>\n",
       "      <th>2</th>\n",
       "      <td>Tony Brown</td>\n",
       "      <td>brownto01c</td>\n",
       "      <td>NJNBRK</td>\n",
       "      <td>yes</td>\n",
       "      <td>NaN</td>\n",
       "    </tr>\n",
       "    <tr>\n",
       "      <th>3</th>\n",
       "      <td>Terry Porter</td>\n",
       "      <td>portete01c</td>\n",
       "      <td>PHO|MIL</td>\n",
       "      <td>yes</td>\n",
       "      <td>NaN</td>\n",
       "    </tr>\n",
       "    <tr>\n",
       "      <th>4</th>\n",
       "      <td>Sidney Lowe</td>\n",
       "      <td>lowesi01c</td>\n",
       "      <td>VANMEM</td>\n",
       "      <td>yes</td>\n",
       "      <td>NaN</td>\n",
       "    </tr>\n",
       "  </tbody>\n",
       "</table>\n",
       "</div>"
      ],
      "text/plain": [
       "           coach    coach_id franchises  poc note\n",
       "0     Tyronn Lue    luety01c        CLE  yes  NaN\n",
       "1  Tyrone Corbin  corbity01c    SAC|UTA  yes  NaN\n",
       "2     Tony Brown  brownto01c     NJNBRK  yes  NaN\n",
       "3   Terry Porter  portete01c    PHO|MIL  yes  NaN\n",
       "4    Sidney Lowe   lowesi01c     VANMEM  yes  NaN"
      ]
     },
     "execution_count": 14,
     "metadata": {},
     "output_type": "execute_result"
    }
   ],
   "source": [
    "POC.head()"
   ]
  },
  {
   "cell_type": "code",
   "execution_count": 15,
   "metadata": {},
   "outputs": [],
   "source": [
    "PLAYERS = pd.read_csv('categorized/coach-list-qualifications.csv')"
   ]
  },
  {
   "cell_type": "code",
   "execution_count": 16,
   "metadata": {},
   "outputs": [
    {
     "data": {
      "text/html": [
       "<div>\n",
       "<style>\n",
       "    .dataframe thead tr:only-child th {\n",
       "        text-align: right;\n",
       "    }\n",
       "\n",
       "    .dataframe thead th {\n",
       "        text-align: left;\n",
       "    }\n",
       "\n",
       "    .dataframe tbody tr th {\n",
       "        vertical-align: top;\n",
       "    }\n",
       "</style>\n",
       "<table border=\"1\" class=\"dataframe\">\n",
       "  <thead>\n",
       "    <tr style=\"text-align: right;\">\n",
       "      <th></th>\n",
       "      <th>coach</th>\n",
       "      <th>coach_id</th>\n",
       "      <th>franchises</th>\n",
       "      <th>former_nba_player</th>\n",
       "    </tr>\n",
       "  </thead>\n",
       "  <tbody>\n",
       "    <tr>\n",
       "      <th>0</th>\n",
       "      <td>Isiah Thomas</td>\n",
       "      <td>thomais01c</td>\n",
       "      <td>IND|NYK</td>\n",
       "      <td>yes</td>\n",
       "    </tr>\n",
       "    <tr>\n",
       "      <th>1</th>\n",
       "      <td>Michael Cooper</td>\n",
       "      <td>coopemi01c</td>\n",
       "      <td>DEN</td>\n",
       "      <td>yes</td>\n",
       "    </tr>\n",
       "    <tr>\n",
       "      <th>2</th>\n",
       "      <td>Larry Drew</td>\n",
       "      <td>drewla01c</td>\n",
       "      <td>ATL|MIL</td>\n",
       "      <td>yes</td>\n",
       "    </tr>\n",
       "    <tr>\n",
       "      <th>3</th>\n",
       "      <td>Vinny Del Negro</td>\n",
       "      <td>delnevi01c</td>\n",
       "      <td>CHI|LAC</td>\n",
       "      <td>yes</td>\n",
       "    </tr>\n",
       "    <tr>\n",
       "      <th>4</th>\n",
       "      <td>Paul Westphal</td>\n",
       "      <td>westppa01c</td>\n",
       "      <td>SAC|SEAOKC</td>\n",
       "      <td>yes</td>\n",
       "    </tr>\n",
       "  </tbody>\n",
       "</table>\n",
       "</div>"
      ],
      "text/plain": [
       "             coach    coach_id  franchises former_nba_player\n",
       "0     Isiah Thomas  thomais01c     IND|NYK               yes\n",
       "1   Michael Cooper  coopemi01c         DEN               yes\n",
       "2       Larry Drew   drewla01c     ATL|MIL               yes\n",
       "3  Vinny Del Negro  delnevi01c     CHI|LAC               yes\n",
       "4    Paul Westphal  westppa01c  SAC|SEAOKC               yes"
      ]
     },
     "execution_count": 16,
     "metadata": {},
     "output_type": "execute_result"
    }
   ],
   "source": [
    "PLAYERS.head()"
   ]
  },
  {
   "cell_type": "code",
   "execution_count": 17,
   "metadata": {},
   "outputs": [],
   "source": [
    "tenures_info = tenures.merge(\n",
    "    POC[['coach','poc']], \n",
    "    how='left'\n",
    ").merge(\n",
    "    PLAYERS[['coach','former_nba_player']],\n",
    "    how='left'\n",
    ")"
   ]
  },
  {
   "cell_type": "code",
   "execution_count": 18,
   "metadata": {},
   "outputs": [
    {
     "data": {
      "text/plain": [
       "1"
      ]
     },
     "execution_count": 18,
     "metadata": {},
     "output_type": "execute_result"
    }
   ],
   "source": [
    "tenures_info.poc.isnull().sum()"
   ]
  },
  {
   "cell_type": "code",
   "execution_count": 19,
   "metadata": {
    "scrolled": true
   },
   "outputs": [
    {
     "data": {
      "text/plain": [
       "0"
      ]
     },
     "execution_count": 19,
     "metadata": {},
     "output_type": "execute_result"
    }
   ],
   "source": [
    "tenures_info.former_nba_player.isnull().sum()"
   ]
  },
  {
   "cell_type": "code",
   "execution_count": 20,
   "metadata": {},
   "outputs": [
    {
     "data": {
      "text/html": [
       "<div>\n",
       "<style>\n",
       "    .dataframe thead tr:only-child th {\n",
       "        text-align: right;\n",
       "    }\n",
       "\n",
       "    .dataframe thead th {\n",
       "        text-align: left;\n",
       "    }\n",
       "\n",
       "    .dataframe tbody tr th {\n",
       "        vertical-align: top;\n",
       "    }\n",
       "</style>\n",
       "<table border=\"1\" class=\"dataframe\">\n",
       "  <thead>\n",
       "    <tr style=\"text-align: right;\">\n",
       "      <th>poc</th>\n",
       "      <th>no</th>\n",
       "      <th>yes</th>\n",
       "    </tr>\n",
       "    <tr>\n",
       "      <th>former_nba_player</th>\n",
       "      <th></th>\n",
       "      <th></th>\n",
       "    </tr>\n",
       "  </thead>\n",
       "  <tbody>\n",
       "    <tr>\n",
       "      <th>no</th>\n",
       "      <td>49</td>\n",
       "      <td>15</td>\n",
       "    </tr>\n",
       "    <tr>\n",
       "      <th>yes</th>\n",
       "      <td>60</td>\n",
       "      <td>54</td>\n",
       "    </tr>\n",
       "  </tbody>\n",
       "</table>\n",
       "</div>"
      ],
      "text/plain": [
       "poc                no  yes\n",
       "former_nba_player         \n",
       "no                 49   15\n",
       "yes                60   54"
      ]
     },
     "execution_count": 20,
     "metadata": {},
     "output_type": "execute_result"
    }
   ],
   "source": [
    "tenures_info.groupby(['poc','former_nba_player']).size().unstack('poc')"
   ]
  },
  {
   "cell_type": "code",
   "execution_count": 21,
   "metadata": {},
   "outputs": [
    {
     "data": {
      "text/html": [
       "<div>\n",
       "<style>\n",
       "    .dataframe thead tr:only-child th {\n",
       "        text-align: right;\n",
       "    }\n",
       "\n",
       "    .dataframe thead th {\n",
       "        text-align: left;\n",
       "    }\n",
       "\n",
       "    .dataframe tbody tr th {\n",
       "        vertical-align: top;\n",
       "    }\n",
       "</style>\n",
       "<table border=\"1\" class=\"dataframe\">\n",
       "  <thead>\n",
       "    <tr style=\"text-align: right;\">\n",
       "      <th></th>\n",
       "      <th>slug</th>\n",
       "      <th>coach</th>\n",
       "      <th>coach_id</th>\n",
       "      <th>franchise</th>\n",
       "      <th>seasons</th>\n",
       "      <th>games</th>\n",
       "      <th>wins</th>\n",
       "      <th>losses</th>\n",
       "      <th>min_date</th>\n",
       "      <th>max_date</th>\n",
       "      <th>left_truncated</th>\n",
       "      <th>ending</th>\n",
       "      <th>death</th>\n",
       "      <th>poc</th>\n",
       "      <th>former_nba_player</th>\n",
       "    </tr>\n",
       "  </thead>\n",
       "  <tbody>\n",
       "    <tr>\n",
       "      <th>0</th>\n",
       "      <td>krugelo99c|00|02|ATL</td>\n",
       "      <td>Lon Kruger</td>\n",
       "      <td>krugelo99c</td>\n",
       "      <td>ATL</td>\n",
       "      <td>3</td>\n",
       "      <td>191</td>\n",
       "      <td>69</td>\n",
       "      <td>122</td>\n",
       "      <td>2000-10-31</td>\n",
       "      <td>2002-12-23</td>\n",
       "      <td>True</td>\n",
       "      <td>fired</td>\n",
       "      <td>1</td>\n",
       "      <td>no</td>\n",
       "      <td>no</td>\n",
       "    </tr>\n",
       "    <tr>\n",
       "      <th>1</th>\n",
       "      <td>stottte99c|02|04|ATL</td>\n",
       "      <td>Terry Stotts</td>\n",
       "      <td>stottte99c</td>\n",
       "      <td>ATL</td>\n",
       "      <td>2</td>\n",
       "      <td>137</td>\n",
       "      <td>52</td>\n",
       "      <td>85</td>\n",
       "      <td>2002-12-27</td>\n",
       "      <td>2004-04-14</td>\n",
       "      <td>False</td>\n",
       "      <td>fired</td>\n",
       "      <td>1</td>\n",
       "      <td>no</td>\n",
       "      <td>no</td>\n",
       "    </tr>\n",
       "    <tr>\n",
       "      <th>2</th>\n",
       "      <td>woodsmi01c|04|10|ATL</td>\n",
       "      <td>Mike Woodson</td>\n",
       "      <td>woodsmi01c</td>\n",
       "      <td>ATL</td>\n",
       "      <td>6</td>\n",
       "      <td>492</td>\n",
       "      <td>206</td>\n",
       "      <td>286</td>\n",
       "      <td>2004-11-03</td>\n",
       "      <td>2010-04-14</td>\n",
       "      <td>False</td>\n",
       "      <td>fired</td>\n",
       "      <td>1</td>\n",
       "      <td>yes</td>\n",
       "      <td>yes</td>\n",
       "    </tr>\n",
       "    <tr>\n",
       "      <th>3</th>\n",
       "      <td>drewla01c|10|13|ATL</td>\n",
       "      <td>Larry Drew</td>\n",
       "      <td>drewla01c</td>\n",
       "      <td>ATL</td>\n",
       "      <td>3</td>\n",
       "      <td>230</td>\n",
       "      <td>128</td>\n",
       "      <td>102</td>\n",
       "      <td>2010-10-27</td>\n",
       "      <td>2013-04-17</td>\n",
       "      <td>False</td>\n",
       "      <td>fired</td>\n",
       "      <td>1</td>\n",
       "      <td>yes</td>\n",
       "      <td>yes</td>\n",
       "    </tr>\n",
       "    <tr>\n",
       "      <th>4</th>\n",
       "      <td>budenmi99c|13|17|ATL</td>\n",
       "      <td>Mike Budenholzer</td>\n",
       "      <td>budenmi99c</td>\n",
       "      <td>ATL</td>\n",
       "      <td>5</td>\n",
       "      <td>356</td>\n",
       "      <td>195</td>\n",
       "      <td>161</td>\n",
       "      <td>2013-10-30</td>\n",
       "      <td>2017-12-14</td>\n",
       "      <td>False</td>\n",
       "      <td>NaN</td>\n",
       "      <td>0</td>\n",
       "      <td>no</td>\n",
       "      <td>no</td>\n",
       "    </tr>\n",
       "  </tbody>\n",
       "</table>\n",
       "</div>"
      ],
      "text/plain": [
       "                   slug             coach    coach_id franchise  seasons  \\\n",
       "0  krugelo99c|00|02|ATL        Lon Kruger  krugelo99c       ATL        3   \n",
       "1  stottte99c|02|04|ATL      Terry Stotts  stottte99c       ATL        2   \n",
       "2  woodsmi01c|04|10|ATL      Mike Woodson  woodsmi01c       ATL        6   \n",
       "3   drewla01c|10|13|ATL        Larry Drew   drewla01c       ATL        3   \n",
       "4  budenmi99c|13|17|ATL  Mike Budenholzer  budenmi99c       ATL        5   \n",
       "\n",
       "   games  wins  losses    min_date    max_date  left_truncated ending  death  \\\n",
       "0    191    69     122  2000-10-31  2002-12-23            True  fired      1   \n",
       "1    137    52      85  2002-12-27  2004-04-14           False  fired      1   \n",
       "2    492   206     286  2004-11-03  2010-04-14           False  fired      1   \n",
       "3    230   128     102  2010-10-27  2013-04-17           False  fired      1   \n",
       "4    356   195     161  2013-10-30  2017-12-14           False    NaN      0   \n",
       "\n",
       "   poc former_nba_player  \n",
       "0   no                no  \n",
       "1   no                no  \n",
       "2  yes               yes  \n",
       "3  yes               yes  \n",
       "4   no                no  "
      ]
     },
     "execution_count": 21,
     "metadata": {},
     "output_type": "execute_result"
    }
   ],
   "source": [
    "tenures_info.head()"
   ]
  },
  {
   "cell_type": "code",
   "execution_count": 22,
   "metadata": {},
   "outputs": [
    {
     "data": {
      "text/plain": [
       "(0, 600)"
      ]
     },
     "execution_count": 22,
     "metadata": {},
     "output_type": "execute_result"
    },
    {
     "data": {
      "image/png": "[encoded data removed]",
      "text/plain": [
       "<matplotlib.figure.Figure at 0x7fb65ab24150>"
      ]
     },
     "metadata": {},
     "output_type": "display_data"
    }
   ],
   "source": [
    "plt.figure(figsize=(16,8))\n",
    "ax = plt.subplot(111)\n",
    "\n",
    "ispoc = (tenures_info['poc'] == 'yes')\n",
    "\n",
    "kmf.fit(tenures_info[ispoc].games, event_observed=tenures_info[ispoc].death, label=\"POC\")\n",
    "kmf.plot(ax=ax)\n",
    "pocmed = kmf.median_\n",
    "kmf.fit(tenures_info[~ispoc].games, event_observed=tenures_info[~ispoc].death, label=\"White\")\n",
    "kmf.plot(ax=ax)\n",
    "whtmed = kmf.median_\n",
    "\n",
    "plt.axhline(0.5, c='#666666', alpha=0.5)\n",
    "\n",
    "plt.xlim(0,600)"
   ]
  },
  {
   "cell_type": "code",
   "execution_count": 23,
   "metadata": {},
   "outputs": [
    {
     "name": "stdout",
     "output_type": "stream",
     "text": [
      "The median survival time for POC coaches was 222.0 games\n",
      "The median survival time for white coaches was 290.0 games\n"
     ]
    }
   ],
   "source": [
    "print \"The median survival time for POC coaches was {} games\".format(pocmed)\n",
    "print \"The median survival time for white coaches was {} games\".format(whtmed)"
   ]
  },
  {
   "cell_type": "code",
   "execution_count": 24,
   "metadata": {},
   "outputs": [
    {
     "data": {
      "text/plain": [
       "(0, 600)"
      ]
     },
     "execution_count": 24,
     "metadata": {},
     "output_type": "execute_result"
    },
    {
     "data": {
      "image/png": "[encoded data removed]",
      "text/plain": [
       "<matplotlib.figure.Figure at 0x7fb65ab43f10>"
      ]
     },
     "metadata": {},
     "output_type": "display_data"
    }
   ],
   "source": [
    "plt.figure(figsize=(16,8))\n",
    "ax = plt.subplot(111)\n",
    "\n",
    "former_player = (tenures_info['former_nba_player'] == 'yes')\n",
    "\n",
    "kmf.fit(tenures_info[former_player].games, event_observed=tenures_info[former_player].death, label=\"Former player\")\n",
    "kmf.plot(ax=ax)\n",
    "nbamed = kmf.median_\n",
    "kmf.fit(tenures_info[~former_player].games, event_observed=tenures_info[~former_player].death, label=\"No NBA exp.\")\n",
    "kmf.plot(ax=ax)\n",
    "nonmed = kmf.median_\n",
    "\n",
    "plt.axhline(0.5, c='#666666', alpha=0.5)\n",
    "\n",
    "plt.xlim(0,600)"
   ]
  },
  {
   "cell_type": "code",
   "execution_count": 25,
   "metadata": {},
   "outputs": [
    {
     "name": "stdout",
     "output_type": "stream",
     "text": [
      "The median survival time for former NBA players was 230.0 games\n",
      "The median survival time for non-players was 246.0 games\n"
     ]
    }
   ],
   "source": [
    "print \"The median survival time for former NBA players was {} games\".format(nbamed)\n",
    "print \"The median survival time for non-players was {} games\".format(nonmed)"
   ]
  },
  {
   "cell_type": "code",
   "execution_count": 26,
   "metadata": {},
   "outputs": [
    {
     "name": "stderr",
     "output_type": "stream",
     "text": [
      "/home/ryan/.virtualenvs/coaching-survival/lib/python2.7/site-packages/ipykernel_launcher.py:2: SettingWithCopyWarning: \n",
      "A value is trying to be set on a copy of a slice from a DataFrame.\n",
      "Try using .loc[row_indexer,col_indexer] = value instead\n",
      "\n",
      "See the caveats in the documentation: http://pandas.pydata.org/pandas-docs/stable/indexing.html#indexing-view-versus-copy\n",
      "  \n",
      "/home/ryan/.virtualenvs/coaching-survival/lib/python2.7/site-packages/ipykernel_launcher.py:3: SettingWithCopyWarning: \n",
      "A value is trying to be set on a copy of a slice from a DataFrame.\n",
      "Try using .loc[row_indexer,col_indexer] = value instead\n",
      "\n",
      "See the caveats in the documentation: http://pandas.pydata.org/pandas-docs/stable/indexing.html#indexing-view-versus-copy\n",
      "  This is separate from the ipykernel package so we can avoid doing imports until\n"
     ]
    }
   ],
   "source": [
    "regdata = tenures_info[['games','death','poc','former_nba_player']]\n",
    "regdata['poc'] = (regdata.poc == \"yes\") * 1\n",
    "regdata['former_nba_player'] = (regdata.former_nba_player == \"yes\") * 1"
   ]
  },
  {
   "cell_type": "code",
   "execution_count": 27,
   "metadata": {},
   "outputs": [
    {
     "name": "stdout",
     "output_type": "stream",
     "text": [
      "<class 'pandas.core.frame.DataFrame'>\n",
      "Int64Index: 179 entries, 0 to 178\n",
      "Data columns (total 4 columns):\n",
      "games                179 non-null int64\n",
      "death                179 non-null int64\n",
      "poc                  179 non-null int64\n",
      "former_nba_player    179 non-null int64\n",
      "dtypes: int64(4)\n",
      "memory usage: 7.0 KB\n"
     ]
    }
   ],
   "source": [
    "regdata.info()"
   ]
  },
  {
   "cell_type": "code",
   "execution_count": 31,
   "metadata": {},
   "outputs": [
    {
     "data": {
      "text/plain": [
       "<lifelines.CoxPHFitter: fitted with 179 observations, 61 censored>"
      ]
     },
     "execution_count": 31,
     "metadata": {},
     "output_type": "execute_result"
    }
   ],
   "source": [
    "cph = ll.CoxPHFitter(alpha=0.95)\n",
    "cph.fit(\n",
    "    regdata,\n",
    "    duration_col='games',\n",
    "    event_col='death'\n",
    ")"
   ]
  },
  {
   "cell_type": "code",
   "execution_count": 32,
   "metadata": {},
   "outputs": [
    {
     "name": "stdout",
     "output_type": "stream",
     "text": [
      "n=179, number of events=118\n",
      "\n",
      "                    coef  exp(coef)  se(coef)      z      p  lower 0.95  upper 0.95   \n",
      "poc               0.3842     1.4684    0.1897 2.0255 0.0428      0.0123      0.7561  *\n",
      "former_nba_player 0.0266     1.0270    0.2025 0.1315 0.8954     -0.3703      0.4236   \n",
      "---\n",
      "Signif. codes:  0 '***' 0.001 '**' 0.01 '*' 0.05 '.' 0.1 ' ' 1 \n",
      "\n",
      "Concordance = 0.545\n"
     ]
    }
   ],
   "source": [
    "cph.print_summary()"
   ]
  },
  {
   "cell_type": "code",
   "execution_count": 33,
   "metadata": {},
   "outputs": [
    {
     "data": {
      "text/plain": [
       "<matplotlib.lines.Line2D at 0x7fb65acd8cd0>"
      ]
     },
     "execution_count": 33,
     "metadata": {},
     "output_type": "execute_result"
    },
    {
     "data": {
      "image/png": "[encoded data removed]",
      "text/plain": [
       "<matplotlib.figure.Figure at 0x7fb65acd8650>"
      ]
     },
     "metadata": {},
     "output_type": "display_data"
    }
   ],
   "source": [
    "cph.plot()\n",
    "plt.axvline(0)"
   ]
  },
  {
   "cell_type": "code",
   "execution_count": null,
   "metadata": {},
   "outputs": [],
   "source": []
  }
 ],
 "metadata": {
  "kernelspec": {
   "display_name": "Python 2",
   "language": "python",
   "name": "python2"
  },
  "language_info": {
   "codemirror_mode": {
    "name": "ipython",
    "version": 2
   },
   "file_extension": ".py",
   "mimetype": "text/x-python",
   "name": "python",
   "nbconvert_exporter": "python",
   "pygments_lexer": "ipython2",
   "version": "2.7.12"
  }
 },
 "nbformat": 4,
 "nbformat_minor": 2
}
