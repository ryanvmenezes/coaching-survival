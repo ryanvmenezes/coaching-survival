{
 "cells": [
  {
   "cell_type": "code",
   "execution_count": 1,
   "metadata": {},
   "outputs": [
    {
     "name": "stderr",
     "output_type": "stream",
     "text": [
      "\n",
      "Attaching package: ‘dplyr’\n",
      "\n",
      "The following objects are masked from ‘package:stats’:\n",
      "\n",
      "    filter, lag\n",
      "\n",
      "The following objects are masked from ‘package:base’:\n",
      "\n",
      "    intersect, setdiff, setequal, union\n",
      "\n"
     ]
    }
   ],
   "source": [
    "library(readr)\n",
    "library(survival)\n",
    "library(dplyr)"
   ]
  },
  {
   "cell_type": "code",
   "execution_count": 2,
   "metadata": {},
   "outputs": [
    {
     "name": "stderr",
     "output_type": "stream",
     "text": [
      "Parsed with column specification:\n",
      "cols(\n",
      "  slug = col_character(),\n",
      "  coach = col_character(),\n",
      "  coach_id = col_character(),\n",
      "  ending = col_character(),\n",
      "  total_games = col_double(),\n",
      "  total_wins = col_double(),\n",
      "  total_losses = col_double(),\n",
      "  start_rating = col_double(),\n",
      "  end_rating = col_double(),\n",
      "  top = col_double(),\n",
      "  bottom = col_double(),\n",
      "  middle = col_double(),\n",
      "  last_improvement = col_double()\n",
      ")\n"
     ]
    }
   ],
   "source": [
    "TENURES <- read_csv('bytenure.csv', na=character()) %>% filter(ending != 'interim only')"
   ]
  },
  {
   "cell_type": "code",
   "execution_count": 3,
   "metadata": {},
   "outputs": [
    {
     "data": {
      "text/html": [
       "<table>\n",
       "<thead><tr><th scope=col>slug</th><th scope=col>coach</th><th scope=col>coach_id</th><th scope=col>ending</th><th scope=col>total_games</th><th scope=col>total_wins</th><th scope=col>total_losses</th><th scope=col>start_rating</th><th scope=col>end_rating</th><th scope=col>top</th><th scope=col>bottom</th><th scope=col>middle</th><th scope=col>last_improvement</th></tr></thead>\n",
       "<tbody>\n",
       "\t<tr><td>krugelo99c|00|02|ATL</td><td>Lon Kruger          </td><td>krugelo99c          </td><td>fired               </td><td>191                 </td><td> 69                 </td><td>122                 </td><td>1354.050            </td><td>1424.825            </td><td>1498.447            </td><td>1323.606            </td><td>1378.746            </td><td> -12.1864           </td></tr>\n",
       "\t<tr><td>stottte99c|02|04|ATL</td><td>Terry Stotts        </td><td>stottte99c          </td><td>fired               </td><td>137                 </td><td> 52                 </td><td> 85                 </td><td>1431.213            </td><td>1404.525            </td><td>1454.663            </td><td>1351.423            </td><td>1405.307            </td><td> -45.4351           </td></tr>\n",
       "\t<tr><td>woodsmi01c|04|10|ATL</td><td>Mike Woodson        </td><td>woodsmi01c          </td><td>fired               </td><td>493                 </td><td>206                 </td><td>287                 </td><td>1416.497            </td><td>1625.674            </td><td>1625.674            </td><td>1201.652            </td><td>1411.411            </td><td> 113.4293           </td></tr>\n",
       "\t<tr><td>drewla01c|10|13|ATL </td><td>Larry Drew          </td><td>drewla01c           </td><td>fired               </td><td>230                 </td><td>128                 </td><td>102                 </td><td>1577.661            </td><td>1481.606            </td><td>1608.431            </td><td>1434.701            </td><td>1535.035            </td><td> -51.1603           </td></tr>\n",
       "\t<tr><td>budenmi99c|13|17|ATL</td><td>Mike Budenholzer    </td><td>budenmi99c          </td><td>                    </td><td>356                 </td><td>195                 </td><td>161                 </td><td>1479.509            </td><td>1372.671            </td><td>1701.183            </td><td>1372.671            </td><td>1520.065            </td><td>-122.9691           </td></tr>\n",
       "\t<tr><td>pitinri99c|00|01|BOS</td><td>Rick Pitino         </td><td>pitinri99c          </td><td>resigned            </td><td> 34                 </td><td> 12                 </td><td> 22                 </td><td>1509.496            </td><td>1372.376            </td><td>1512.213            </td><td>1372.376            </td><td>1459.238            </td><td>-137.1198           </td></tr>\n",
       "</tbody>\n",
       "</table>\n"
      ],
      "text/latex": [
       "\\begin{tabular}{r|lllllllllllll}\n",
       " slug & coach & coach\\_id & ending & total\\_games & total\\_wins & total\\_losses & start\\_rating & end\\_rating & top & bottom & middle & last\\_improvement\\\\\n",
       "\\hline\n",
       "\t krugelo99c\\textbar{}00\\textbar{}02\\textbar{}ATL & Lon Kruger                                         & krugelo99c                                         & fired                                              & 191                                                &  69                                                & 122                                                & 1354.050                                           & 1424.825                                           & 1498.447                                           & 1323.606                                           & 1378.746                                           &  -12.1864                                         \\\\\n",
       "\t stottte99c\\textbar{}02\\textbar{}04\\textbar{}ATL & Terry Stotts                                       & stottte99c                                         & fired                                              & 137                                                &  52                                                &  85                                                & 1431.213                                           & 1404.525                                           & 1454.663                                           & 1351.423                                           & 1405.307                                           &  -45.4351                                         \\\\\n",
       "\t woodsmi01c\\textbar{}04\\textbar{}10\\textbar{}ATL & Mike Woodson                                       & woodsmi01c                                         & fired                                              & 493                                                & 206                                                & 287                                                & 1416.497                                           & 1625.674                                           & 1625.674                                           & 1201.652                                           & 1411.411                                           &  113.4293                                         \\\\\n",
       "\t drewla01c\\textbar{}10\\textbar{}13\\textbar{}ATL  & Larry Drew                                         & drewla01c                                          & fired                                              & 230                                                & 128                                                & 102                                                & 1577.661                                           & 1481.606                                           & 1608.431                                           & 1434.701                                           & 1535.035                                           &  -51.1603                                         \\\\\n",
       "\t budenmi99c\\textbar{}13\\textbar{}17\\textbar{}ATL & Mike Budenholzer                                   & budenmi99c                                         &                                                    & 356                                                & 195                                                & 161                                                & 1479.509                                           & 1372.671                                           & 1701.183                                           & 1372.671                                           & 1520.065                                           & -122.9691                                         \\\\\n",
       "\t pitinri99c\\textbar{}00\\textbar{}01\\textbar{}BOS & Rick Pitino                                        & pitinri99c                                         & resigned                                           &  34                                                &  12                                                &  22                                                & 1509.496                                           & 1372.376                                           & 1512.213                                           & 1372.376                                           & 1459.238                                           & -137.1198                                         \\\\\n",
       "\\end{tabular}\n"
      ],
      "text/markdown": [
       "\n",
       "slug | coach | coach_id | ending | total_games | total_wins | total_losses | start_rating | end_rating | top | bottom | middle | last_improvement | \n",
       "|---|---|---|---|---|---|\n",
       "| krugelo99c|00|02|ATL | Lon Kruger           | krugelo99c           | fired                | 191                  |  69                  | 122                  | 1354.050             | 1424.825             | 1498.447             | 1323.606             | 1378.746             |  -12.1864            | \n",
       "| stottte99c|02|04|ATL | Terry Stotts         | stottte99c           | fired                | 137                  |  52                  |  85                  | 1431.213             | 1404.525             | 1454.663             | 1351.423             | 1405.307             |  -45.4351            | \n",
       "| woodsmi01c|04|10|ATL | Mike Woodson         | woodsmi01c           | fired                | 493                  | 206                  | 287                  | 1416.497             | 1625.674             | 1625.674             | 1201.652             | 1411.411             |  113.4293            | \n",
       "| drewla01c|10|13|ATL  | Larry Drew           | drewla01c            | fired                | 230                  | 128                  | 102                  | 1577.661             | 1481.606             | 1608.431             | 1434.701             | 1535.035             |  -51.1603            | \n",
       "| budenmi99c|13|17|ATL | Mike Budenholzer     | budenmi99c           |                      | 356                  | 195                  | 161                  | 1479.509             | 1372.671             | 1701.183             | 1372.671             | 1520.065             | -122.9691            | \n",
       "| pitinri99c|00|01|BOS | Rick Pitino          | pitinri99c           | resigned             |  34                  |  12                  |  22                  | 1509.496             | 1372.376             | 1512.213             | 1372.376             | 1459.238             | -137.1198            | \n",
       "\n",
       "\n"
      ],
      "text/plain": [
       "  slug                 coach            coach_id   ending   total_games\n",
       "1 krugelo99c|00|02|ATL Lon Kruger       krugelo99c fired    191        \n",
       "2 stottte99c|02|04|ATL Terry Stotts     stottte99c fired    137        \n",
       "3 woodsmi01c|04|10|ATL Mike Woodson     woodsmi01c fired    493        \n",
       "4 drewla01c|10|13|ATL  Larry Drew       drewla01c  fired    230        \n",
       "5 budenmi99c|13|17|ATL Mike Budenholzer budenmi99c          356        \n",
       "6 pitinri99c|00|01|BOS Rick Pitino      pitinri99c resigned  34        \n",
       "  total_wins total_losses start_rating end_rating top      bottom   middle  \n",
       "1  69        122          1354.050     1424.825   1498.447 1323.606 1378.746\n",
       "2  52         85          1431.213     1404.525   1454.663 1351.423 1405.307\n",
       "3 206        287          1416.497     1625.674   1625.674 1201.652 1411.411\n",
       "4 128        102          1577.661     1481.606   1608.431 1434.701 1535.035\n",
       "5 195        161          1479.509     1372.671   1701.183 1372.671 1520.065\n",
       "6  12         22          1509.496     1372.376   1512.213 1372.376 1459.238\n",
       "  last_improvement\n",
       "1  -12.1864       \n",
       "2  -45.4351       \n",
       "3  113.4293       \n",
       "4  -51.1603       \n",
       "5 -122.9691       \n",
       "6 -137.1198       "
      ]
     },
     "metadata": {},
     "output_type": "display_data"
    }
   ],
   "source": [
    "head(TENURES)"
   ]
  },
  {
   "cell_type": "code",
   "execution_count": 4,
   "metadata": {},
   "outputs": [
    {
     "data": {
      "text/html": [
       "<table>\n",
       "<thead><tr><th scope=col>ending</th><th scope=col>ending_freq</th></tr></thead>\n",
       "<tbody>\n",
       "\t<tr><td>fired           </td><td>114             </td></tr>\n",
       "\t<tr><td>                </td><td> 30             </td></tr>\n",
       "\t<tr><td>resigned        </td><td> 26             </td></tr>\n",
       "\t<tr><td>contract expired</td><td>  2             </td></tr>\n",
       "\t<tr><td>mutual          </td><td>  2             </td></tr>\n",
       "\t<tr><td>retired         </td><td>  2             </td></tr>\n",
       "\t<tr><td>traded          </td><td>  2             </td></tr>\n",
       "\t<tr><td>died            </td><td>  1             </td></tr>\n",
       "</tbody>\n",
       "</table>\n"
      ],
      "text/latex": [
       "\\begin{tabular}{r|ll}\n",
       " ending & ending\\_freq\\\\\n",
       "\\hline\n",
       "\t fired            & 114             \\\\\n",
       "\t                  &  30             \\\\\n",
       "\t resigned         &  26             \\\\\n",
       "\t contract expired &   2             \\\\\n",
       "\t mutual           &   2             \\\\\n",
       "\t retired          &   2             \\\\\n",
       "\t traded           &   2             \\\\\n",
       "\t died             &   1             \\\\\n",
       "\\end{tabular}\n"
      ],
      "text/markdown": [
       "\n",
       "ending | ending_freq | \n",
       "|---|---|---|---|---|---|---|---|\n",
       "| fired            | 114              | \n",
       "|                  |  30              | \n",
       "| resigned         |  26              | \n",
       "| contract expired |   2              | \n",
       "| mutual           |   2              | \n",
       "| retired          |   2              | \n",
       "| traded           |   2              | \n",
       "| died             |   1              | \n",
       "\n",
       "\n"
      ],
      "text/plain": [
       "  ending           ending_freq\n",
       "1 fired            114        \n",
       "2                   30        \n",
       "3 resigned          26        \n",
       "4 contract expired   2        \n",
       "5 mutual             2        \n",
       "6 retired            2        \n",
       "7 traded             2        \n",
       "8 died               1        "
      ]
     },
     "metadata": {},
     "output_type": "display_data"
    }
   ],
   "source": [
    "TENURES %>%\n",
    "group_by(ending) %>%\n",
    "summarize(ending_freq = n()) %>%\n",
    "arrange(desc(ending_freq))"
   ]
  },
  {
   "cell_type": "code",
   "execution_count": 5,
   "metadata": {},
   "outputs": [],
   "source": [
    "death_event <- c('fired', 'contract expired', 'mutual')"
   ]
  },
  {
   "cell_type": "code",
   "execution_count": 6,
   "metadata": {},
   "outputs": [],
   "source": [
    "TENURES <- TENURES %>% mutate(death = (ending %in% death_event)*1)"
   ]
  },
  {
   "cell_type": "code",
   "execution_count": 7,
   "metadata": {},
   "outputs": [
    {
     "data": {
      "text/html": [
       "<table>\n",
       "<thead><tr><th scope=col>slug</th><th scope=col>coach</th><th scope=col>coach_id</th><th scope=col>ending</th><th scope=col>total_games</th><th scope=col>total_wins</th><th scope=col>total_losses</th><th scope=col>start_rating</th><th scope=col>end_rating</th><th scope=col>top</th><th scope=col>bottom</th><th scope=col>middle</th><th scope=col>last_improvement</th><th scope=col>death</th></tr></thead>\n",
       "<tbody>\n",
       "\t<tr><td>krugelo99c|00|02|ATL</td><td>Lon Kruger          </td><td>krugelo99c          </td><td>fired               </td><td>191                 </td><td> 69                 </td><td>122                 </td><td>1354.050            </td><td>1424.825            </td><td>1498.447            </td><td>1323.606            </td><td>1378.746            </td><td> -12.1864           </td><td>1                   </td></tr>\n",
       "\t<tr><td>stottte99c|02|04|ATL</td><td>Terry Stotts        </td><td>stottte99c          </td><td>fired               </td><td>137                 </td><td> 52                 </td><td> 85                 </td><td>1431.213            </td><td>1404.525            </td><td>1454.663            </td><td>1351.423            </td><td>1405.307            </td><td> -45.4351           </td><td>1                   </td></tr>\n",
       "\t<tr><td>woodsmi01c|04|10|ATL</td><td>Mike Woodson        </td><td>woodsmi01c          </td><td>fired               </td><td>493                 </td><td>206                 </td><td>287                 </td><td>1416.497            </td><td>1625.674            </td><td>1625.674            </td><td>1201.652            </td><td>1411.411            </td><td> 113.4293           </td><td>1                   </td></tr>\n",
       "\t<tr><td>drewla01c|10|13|ATL </td><td>Larry Drew          </td><td>drewla01c           </td><td>fired               </td><td>230                 </td><td>128                 </td><td>102                 </td><td>1577.661            </td><td>1481.606            </td><td>1608.431            </td><td>1434.701            </td><td>1535.035            </td><td> -51.1603           </td><td>1                   </td></tr>\n",
       "\t<tr><td>budenmi99c|13|17|ATL</td><td>Mike Budenholzer    </td><td>budenmi99c          </td><td>                    </td><td>356                 </td><td>195                 </td><td>161                 </td><td>1479.509            </td><td>1372.671            </td><td>1701.183            </td><td>1372.671            </td><td>1520.065            </td><td>-122.9691           </td><td>0                   </td></tr>\n",
       "\t<tr><td>pitinri99c|00|01|BOS</td><td>Rick Pitino         </td><td>pitinri99c          </td><td>resigned            </td><td> 34                 </td><td> 12                 </td><td> 22                 </td><td>1509.496            </td><td>1372.376            </td><td>1512.213            </td><td>1372.376            </td><td>1459.238            </td><td>-137.1198           </td><td>0                   </td></tr>\n",
       "</tbody>\n",
       "</table>\n"
      ],
      "text/latex": [
       "\\begin{tabular}{r|llllllllllllll}\n",
       " slug & coach & coach\\_id & ending & total\\_games & total\\_wins & total\\_losses & start\\_rating & end\\_rating & top & bottom & middle & last\\_improvement & death\\\\\n",
       "\\hline\n",
       "\t krugelo99c\\textbar{}00\\textbar{}02\\textbar{}ATL & Lon Kruger                                         & krugelo99c                                         & fired                                              & 191                                                &  69                                                & 122                                                & 1354.050                                           & 1424.825                                           & 1498.447                                           & 1323.606                                           & 1378.746                                           &  -12.1864                                          & 1                                                 \\\\\n",
       "\t stottte99c\\textbar{}02\\textbar{}04\\textbar{}ATL & Terry Stotts                                       & stottte99c                                         & fired                                              & 137                                                &  52                                                &  85                                                & 1431.213                                           & 1404.525                                           & 1454.663                                           & 1351.423                                           & 1405.307                                           &  -45.4351                                          & 1                                                 \\\\\n",
       "\t woodsmi01c\\textbar{}04\\textbar{}10\\textbar{}ATL & Mike Woodson                                       & woodsmi01c                                         & fired                                              & 493                                                & 206                                                & 287                                                & 1416.497                                           & 1625.674                                           & 1625.674                                           & 1201.652                                           & 1411.411                                           &  113.4293                                          & 1                                                 \\\\\n",
       "\t drewla01c\\textbar{}10\\textbar{}13\\textbar{}ATL  & Larry Drew                                         & drewla01c                                          & fired                                              & 230                                                & 128                                                & 102                                                & 1577.661                                           & 1481.606                                           & 1608.431                                           & 1434.701                                           & 1535.035                                           &  -51.1603                                          & 1                                                 \\\\\n",
       "\t budenmi99c\\textbar{}13\\textbar{}17\\textbar{}ATL & Mike Budenholzer                                   & budenmi99c                                         &                                                    & 356                                                & 195                                                & 161                                                & 1479.509                                           & 1372.671                                           & 1701.183                                           & 1372.671                                           & 1520.065                                           & -122.9691                                          & 0                                                 \\\\\n",
       "\t pitinri99c\\textbar{}00\\textbar{}01\\textbar{}BOS & Rick Pitino                                        & pitinri99c                                         & resigned                                           &  34                                                &  12                                                &  22                                                & 1509.496                                           & 1372.376                                           & 1512.213                                           & 1372.376                                           & 1459.238                                           & -137.1198                                          & 0                                                 \\\\\n",
       "\\end{tabular}\n"
      ],
      "text/markdown": [
       "\n",
       "slug | coach | coach_id | ending | total_games | total_wins | total_losses | start_rating | end_rating | top | bottom | middle | last_improvement | death | \n",
       "|---|---|---|---|---|---|\n",
       "| krugelo99c|00|02|ATL | Lon Kruger           | krugelo99c           | fired                | 191                  |  69                  | 122                  | 1354.050             | 1424.825             | 1498.447             | 1323.606             | 1378.746             |  -12.1864            | 1                    | \n",
       "| stottte99c|02|04|ATL | Terry Stotts         | stottte99c           | fired                | 137                  |  52                  |  85                  | 1431.213             | 1404.525             | 1454.663             | 1351.423             | 1405.307             |  -45.4351            | 1                    | \n",
       "| woodsmi01c|04|10|ATL | Mike Woodson         | woodsmi01c           | fired                | 493                  | 206                  | 287                  | 1416.497             | 1625.674             | 1625.674             | 1201.652             | 1411.411             |  113.4293            | 1                    | \n",
       "| drewla01c|10|13|ATL  | Larry Drew           | drewla01c            | fired                | 230                  | 128                  | 102                  | 1577.661             | 1481.606             | 1608.431             | 1434.701             | 1535.035             |  -51.1603            | 1                    | \n",
       "| budenmi99c|13|17|ATL | Mike Budenholzer     | budenmi99c           |                      | 356                  | 195                  | 161                  | 1479.509             | 1372.671             | 1701.183             | 1372.671             | 1520.065             | -122.9691            | 0                    | \n",
       "| pitinri99c|00|01|BOS | Rick Pitino          | pitinri99c           | resigned             |  34                  |  12                  |  22                  | 1509.496             | 1372.376             | 1512.213             | 1372.376             | 1459.238             | -137.1198            | 0                    | \n",
       "\n",
       "\n"
      ],
      "text/plain": [
       "  slug                 coach            coach_id   ending   total_games\n",
       "1 krugelo99c|00|02|ATL Lon Kruger       krugelo99c fired    191        \n",
       "2 stottte99c|02|04|ATL Terry Stotts     stottte99c fired    137        \n",
       "3 woodsmi01c|04|10|ATL Mike Woodson     woodsmi01c fired    493        \n",
       "4 drewla01c|10|13|ATL  Larry Drew       drewla01c  fired    230        \n",
       "5 budenmi99c|13|17|ATL Mike Budenholzer budenmi99c          356        \n",
       "6 pitinri99c|00|01|BOS Rick Pitino      pitinri99c resigned  34        \n",
       "  total_wins total_losses start_rating end_rating top      bottom   middle  \n",
       "1  69        122          1354.050     1424.825   1498.447 1323.606 1378.746\n",
       "2  52         85          1431.213     1404.525   1454.663 1351.423 1405.307\n",
       "3 206        287          1416.497     1625.674   1625.674 1201.652 1411.411\n",
       "4 128        102          1577.661     1481.606   1608.431 1434.701 1535.035\n",
       "5 195        161          1479.509     1372.671   1701.183 1372.671 1520.065\n",
       "6  12         22          1509.496     1372.376   1512.213 1372.376 1459.238\n",
       "  last_improvement death\n",
       "1  -12.1864        1    \n",
       "2  -45.4351        1    \n",
       "3  113.4293        1    \n",
       "4  -51.1603        1    \n",
       "5 -122.9691        0    \n",
       "6 -137.1198        0    "
      ]
     },
     "metadata": {},
     "output_type": "display_data"
    }
   ],
   "source": [
    "TENURES %>% head"
   ]
  },
  {
   "cell_type": "code",
   "execution_count": 8,
   "metadata": {},
   "outputs": [
    {
     "name": "stderr",
     "output_type": "stream",
     "text": [
      "Parsed with column specification:\n",
      "cols(\n",
      "  coach = col_character(),\n",
      "  coach_id = col_character(),\n",
      "  franchises = col_character(),\n",
      "  poc = col_character(),\n",
      "  note = col_character()\n",
      ")\n"
     ]
    }
   ],
   "source": [
    "POC <- read_csv('../categorized/coach-list-poc.csv')"
   ]
  },
  {
   "cell_type": "code",
   "execution_count": 9,
   "metadata": {},
   "outputs": [
    {
     "data": {
      "text/html": [
       "<table>\n",
       "<thead><tr><th scope=col>coach</th><th scope=col>coach_id</th><th scope=col>franchises</th><th scope=col>poc</th><th scope=col>note</th></tr></thead>\n",
       "<tbody>\n",
       "\t<tr><td>Tyronn Lue   </td><td>luety01c     </td><td>CLE          </td><td>yes          </td><td>NA           </td></tr>\n",
       "\t<tr><td>Tyrone Corbin</td><td>corbity01c   </td><td>SAC|UTA      </td><td>yes          </td><td>NA           </td></tr>\n",
       "\t<tr><td>Tony Brown   </td><td>brownto01c   </td><td>NJNBRK       </td><td>yes          </td><td>NA           </td></tr>\n",
       "\t<tr><td>Terry Porter </td><td>portete01c   </td><td>PHO|MIL      </td><td>yes          </td><td>NA           </td></tr>\n",
       "\t<tr><td>Sidney Lowe  </td><td>lowesi01c    </td><td>VANMEM       </td><td>yes          </td><td>NA           </td></tr>\n",
       "\t<tr><td>Sam Vincent  </td><td>vincesa01c   </td><td>CHARBH       </td><td>yes          </td><td>NA           </td></tr>\n",
       "</tbody>\n",
       "</table>\n"
      ],
      "text/latex": [
       "\\begin{tabular}{r|lllll}\n",
       " coach & coach\\_id & franchises & poc & note\\\\\n",
       "\\hline\n",
       "\t Tyronn Lue    & luety01c      & CLE           & yes           & NA           \\\\\n",
       "\t Tyrone Corbin     & corbity01c        & SAC\\textbar{}UTA & yes               & NA               \\\\\n",
       "\t Tony Brown    & brownto01c    & NJNBRK        & yes           & NA           \\\\\n",
       "\t Terry Porter      & portete01c        & PHO\\textbar{}MIL & yes               & NA               \\\\\n",
       "\t Sidney Lowe   & lowesi01c     & VANMEM        & yes           & NA           \\\\\n",
       "\t Sam Vincent   & vincesa01c    & CHARBH        & yes           & NA           \\\\\n",
       "\\end{tabular}\n"
      ],
      "text/markdown": [
       "\n",
       "coach | coach_id | franchises | poc | note | \n",
       "|---|---|---|---|---|---|\n",
       "| Tyronn Lue    | luety01c      | CLE           | yes           | NA            | \n",
       "| Tyrone Corbin | corbity01c    | SAC|UTA       | yes           | NA            | \n",
       "| Tony Brown    | brownto01c    | NJNBRK        | yes           | NA            | \n",
       "| Terry Porter  | portete01c    | PHO|MIL       | yes           | NA            | \n",
       "| Sidney Lowe   | lowesi01c     | VANMEM        | yes           | NA            | \n",
       "| Sam Vincent   | vincesa01c    | CHARBH        | yes           | NA            | \n",
       "\n",
       "\n"
      ],
      "text/plain": [
       "  coach         coach_id   franchises poc note\n",
       "1 Tyronn Lue    luety01c   CLE        yes NA  \n",
       "2 Tyrone Corbin corbity01c SAC|UTA    yes NA  \n",
       "3 Tony Brown    brownto01c NJNBRK     yes NA  \n",
       "4 Terry Porter  portete01c PHO|MIL    yes NA  \n",
       "5 Sidney Lowe   lowesi01c  VANMEM     yes NA  \n",
       "6 Sam Vincent   vincesa01c CHARBH     yes NA  "
      ]
     },
     "metadata": {},
     "output_type": "display_data"
    }
   ],
   "source": [
    "head(POC)"
   ]
  },
  {
   "cell_type": "code",
   "execution_count": 10,
   "metadata": {},
   "outputs": [
    {
     "name": "stderr",
     "output_type": "stream",
     "text": [
      "Parsed with column specification:\n",
      "cols(\n",
      "  coach = col_character(),\n",
      "  coach_id = col_character(),\n",
      "  franchises = col_character(),\n",
      "  former_nba_player = col_character()\n",
      ")\n"
     ]
    }
   ],
   "source": [
    "PLAYERS <- read_csv('../categorized/coach-list-qualifications.csv')"
   ]
  },
  {
   "cell_type": "code",
   "execution_count": 11,
   "metadata": {},
   "outputs": [
    {
     "data": {
      "text/html": [
       "<table>\n",
       "<thead><tr><th scope=col>coach</th><th scope=col>coach_id</th><th scope=col>franchises</th><th scope=col>former_nba_player</th></tr></thead>\n",
       "<tbody>\n",
       "\t<tr><td>Isiah Thomas   </td><td>thomais01c     </td><td>IND|NYK        </td><td>yes            </td></tr>\n",
       "\t<tr><td>Michael Cooper </td><td>coopemi01c     </td><td>DEN            </td><td>yes            </td></tr>\n",
       "\t<tr><td>Larry Drew     </td><td>drewla01c      </td><td>ATL|MIL        </td><td>yes            </td></tr>\n",
       "\t<tr><td>Vinny Del Negro</td><td>delnevi01c     </td><td>CHI|LAC        </td><td>yes            </td></tr>\n",
       "\t<tr><td>Paul Westphal  </td><td>westppa01c     </td><td>SAC|SEAOKC     </td><td>yes            </td></tr>\n",
       "\t<tr><td>Mike Woodson   </td><td>woodsmi01c     </td><td>NYK|ATL        </td><td>yes            </td></tr>\n",
       "</tbody>\n",
       "</table>\n"
      ],
      "text/latex": [
       "\\begin{tabular}{r|llll}\n",
       " coach & coach\\_id & franchises & former\\_nba\\_player\\\\\n",
       "\\hline\n",
       "\t Isiah Thomas         & thomais01c           & IND\\textbar{}NYK    & yes                 \\\\\n",
       "\t Michael Cooper  & coopemi01c      & DEN             & yes            \\\\\n",
       "\t Larry Drew           & drewla01c            & ATL\\textbar{}MIL    & yes                 \\\\\n",
       "\t Vinny Del Negro      & delnevi01c           & CHI\\textbar{}LAC    & yes                 \\\\\n",
       "\t Paul Westphal        & westppa01c           & SAC\\textbar{}SEAOKC & yes                 \\\\\n",
       "\t Mike Woodson         & woodsmi01c           & NYK\\textbar{}ATL    & yes                 \\\\\n",
       "\\end{tabular}\n"
      ],
      "text/markdown": [
       "\n",
       "coach | coach_id | franchises | former_nba_player | \n",
       "|---|---|---|---|---|---|\n",
       "| Isiah Thomas    | thomais01c      | IND|NYK         | yes             | \n",
       "| Michael Cooper  | coopemi01c      | DEN             | yes             | \n",
       "| Larry Drew      | drewla01c       | ATL|MIL         | yes             | \n",
       "| Vinny Del Negro | delnevi01c      | CHI|LAC         | yes             | \n",
       "| Paul Westphal   | westppa01c      | SAC|SEAOKC      | yes             | \n",
       "| Mike Woodson    | woodsmi01c      | NYK|ATL         | yes             | \n",
       "\n",
       "\n"
      ],
      "text/plain": [
       "  coach           coach_id   franchises former_nba_player\n",
       "1 Isiah Thomas    thomais01c IND|NYK    yes              \n",
       "2 Michael Cooper  coopemi01c DEN        yes              \n",
       "3 Larry Drew      drewla01c  ATL|MIL    yes              \n",
       "4 Vinny Del Negro delnevi01c CHI|LAC    yes              \n",
       "5 Paul Westphal   westppa01c SAC|SEAOKC yes              \n",
       "6 Mike Woodson    woodsmi01c NYK|ATL    yes              "
      ]
     },
     "metadata": {},
     "output_type": "display_data"
    }
   ],
   "source": [
    "head(PLAYERS)"
   ]
  },
  {
   "cell_type": "code",
   "execution_count": 12,
   "metadata": {},
   "outputs": [],
   "source": [
    "tenures <- list(\n",
    "    TENURES,\n",
    "    POC %>% select(coach_id, poc),\n",
    "    PLAYERS %>% select(coach_id, former_nba_player)\n",
    ") %>%\n",
    "Reduce(function(dtf1,dtf2) left_join(dtf1,dtf2,by=\"coach_id\"), .)"
   ]
  },
  {
   "cell_type": "code",
   "execution_count": 13,
   "metadata": {},
   "outputs": [
    {
     "data": {
      "text/html": [
       "<table>\n",
       "<thead><tr><th scope=col>slug</th><th scope=col>coach</th><th scope=col>coach_id</th><th scope=col>ending</th><th scope=col>total_games</th><th scope=col>total_wins</th><th scope=col>total_losses</th><th scope=col>start_rating</th><th scope=col>end_rating</th><th scope=col>top</th><th scope=col>bottom</th><th scope=col>middle</th><th scope=col>last_improvement</th><th scope=col>death</th><th scope=col>poc</th><th scope=col>former_nba_player</th></tr></thead>\n",
       "<tbody>\n",
       "\t<tr><td>krugelo99c|00|02|ATL</td><td>Lon Kruger          </td><td>krugelo99c          </td><td>fired               </td><td>191                 </td><td> 69                 </td><td>122                 </td><td>1354.050            </td><td>1424.825            </td><td>1498.447            </td><td>1323.606            </td><td>1378.746            </td><td> -12.1864           </td><td>1                   </td><td>no                  </td><td>no                  </td></tr>\n",
       "\t<tr><td>stottte99c|02|04|ATL</td><td>Terry Stotts        </td><td>stottte99c          </td><td>fired               </td><td>137                 </td><td> 52                 </td><td> 85                 </td><td>1431.213            </td><td>1404.525            </td><td>1454.663            </td><td>1351.423            </td><td>1405.307            </td><td> -45.4351           </td><td>1                   </td><td>no                  </td><td>no                  </td></tr>\n",
       "\t<tr><td>woodsmi01c|04|10|ATL</td><td>Mike Woodson        </td><td>woodsmi01c          </td><td>fired               </td><td>493                 </td><td>206                 </td><td>287                 </td><td>1416.497            </td><td>1625.674            </td><td>1625.674            </td><td>1201.652            </td><td>1411.411            </td><td> 113.4293           </td><td>1                   </td><td>yes                 </td><td>yes                 </td></tr>\n",
       "\t<tr><td>drewla01c|10|13|ATL </td><td>Larry Drew          </td><td>drewla01c           </td><td>fired               </td><td>230                 </td><td>128                 </td><td>102                 </td><td>1577.661            </td><td>1481.606            </td><td>1608.431            </td><td>1434.701            </td><td>1535.035            </td><td> -51.1603           </td><td>1                   </td><td>yes                 </td><td>yes                 </td></tr>\n",
       "\t<tr><td>budenmi99c|13|17|ATL</td><td>Mike Budenholzer    </td><td>budenmi99c          </td><td>                    </td><td>356                 </td><td>195                 </td><td>161                 </td><td>1479.509            </td><td>1372.671            </td><td>1701.183            </td><td>1372.671            </td><td>1520.065            </td><td>-122.9691           </td><td>0                   </td><td>no                  </td><td>no                  </td></tr>\n",
       "\t<tr><td>pitinri99c|00|01|BOS</td><td>Rick Pitino         </td><td>pitinri99c          </td><td>resigned            </td><td> 34                 </td><td> 12                 </td><td> 22                 </td><td>1509.496            </td><td>1372.376            </td><td>1512.213            </td><td>1372.376            </td><td>1459.238            </td><td>-137.1198           </td><td>0                   </td><td>no                  </td><td>no                  </td></tr>\n",
       "</tbody>\n",
       "</table>\n"
      ],
      "text/latex": [
       "\\begin{tabular}{r|llllllllllllllll}\n",
       " slug & coach & coach\\_id & ending & total\\_games & total\\_wins & total\\_losses & start\\_rating & end\\_rating & top & bottom & middle & last\\_improvement & death & poc & former\\_nba\\_player\\\\\n",
       "\\hline\n",
       "\t krugelo99c\\textbar{}00\\textbar{}02\\textbar{}ATL & Lon Kruger                                         & krugelo99c                                         & fired                                              & 191                                                &  69                                                & 122                                                & 1354.050                                           & 1424.825                                           & 1498.447                                           & 1323.606                                           & 1378.746                                           &  -12.1864                                          & 1                                                  & no                                                 & no                                                \\\\\n",
       "\t stottte99c\\textbar{}02\\textbar{}04\\textbar{}ATL & Terry Stotts                                       & stottte99c                                         & fired                                              & 137                                                &  52                                                &  85                                                & 1431.213                                           & 1404.525                                           & 1454.663                                           & 1351.423                                           & 1405.307                                           &  -45.4351                                          & 1                                                  & no                                                 & no                                                \\\\\n",
       "\t woodsmi01c\\textbar{}04\\textbar{}10\\textbar{}ATL & Mike Woodson                                       & woodsmi01c                                         & fired                                              & 493                                                & 206                                                & 287                                                & 1416.497                                           & 1625.674                                           & 1625.674                                           & 1201.652                                           & 1411.411                                           &  113.4293                                          & 1                                                  & yes                                                & yes                                               \\\\\n",
       "\t drewla01c\\textbar{}10\\textbar{}13\\textbar{}ATL  & Larry Drew                                         & drewla01c                                          & fired                                              & 230                                                & 128                                                & 102                                                & 1577.661                                           & 1481.606                                           & 1608.431                                           & 1434.701                                           & 1535.035                                           &  -51.1603                                          & 1                                                  & yes                                                & yes                                               \\\\\n",
       "\t budenmi99c\\textbar{}13\\textbar{}17\\textbar{}ATL & Mike Budenholzer                                   & budenmi99c                                         &                                                    & 356                                                & 195                                                & 161                                                & 1479.509                                           & 1372.671                                           & 1701.183                                           & 1372.671                                           & 1520.065                                           & -122.9691                                          & 0                                                  & no                                                 & no                                                \\\\\n",
       "\t pitinri99c\\textbar{}00\\textbar{}01\\textbar{}BOS & Rick Pitino                                        & pitinri99c                                         & resigned                                           &  34                                                &  12                                                &  22                                                & 1509.496                                           & 1372.376                                           & 1512.213                                           & 1372.376                                           & 1459.238                                           & -137.1198                                          & 0                                                  & no                                                 & no                                                \\\\\n",
       "\\end{tabular}\n"
      ],
      "text/markdown": [
       "\n",
       "slug | coach | coach_id | ending | total_games | total_wins | total_losses | start_rating | end_rating | top | bottom | middle | last_improvement | death | poc | former_nba_player | \n",
       "|---|---|---|---|---|---|\n",
       "| krugelo99c|00|02|ATL | Lon Kruger           | krugelo99c           | fired                | 191                  |  69                  | 122                  | 1354.050             | 1424.825             | 1498.447             | 1323.606             | 1378.746             |  -12.1864            | 1                    | no                   | no                   | \n",
       "| stottte99c|02|04|ATL | Terry Stotts         | stottte99c           | fired                | 137                  |  52                  |  85                  | 1431.213             | 1404.525             | 1454.663             | 1351.423             | 1405.307             |  -45.4351            | 1                    | no                   | no                   | \n",
       "| woodsmi01c|04|10|ATL | Mike Woodson         | woodsmi01c           | fired                | 493                  | 206                  | 287                  | 1416.497             | 1625.674             | 1625.674             | 1201.652             | 1411.411             |  113.4293            | 1                    | yes                  | yes                  | \n",
       "| drewla01c|10|13|ATL  | Larry Drew           | drewla01c            | fired                | 230                  | 128                  | 102                  | 1577.661             | 1481.606             | 1608.431             | 1434.701             | 1535.035             |  -51.1603            | 1                    | yes                  | yes                  | \n",
       "| budenmi99c|13|17|ATL | Mike Budenholzer     | budenmi99c           |                      | 356                  | 195                  | 161                  | 1479.509             | 1372.671             | 1701.183             | 1372.671             | 1520.065             | -122.9691            | 0                    | no                   | no                   | \n",
       "| pitinri99c|00|01|BOS | Rick Pitino          | pitinri99c           | resigned             |  34                  |  12                  |  22                  | 1509.496             | 1372.376             | 1512.213             | 1372.376             | 1459.238             | -137.1198            | 0                    | no                   | no                   | \n",
       "\n",
       "\n"
      ],
      "text/plain": [
       "  slug                 coach            coach_id   ending   total_games\n",
       "1 krugelo99c|00|02|ATL Lon Kruger       krugelo99c fired    191        \n",
       "2 stottte99c|02|04|ATL Terry Stotts     stottte99c fired    137        \n",
       "3 woodsmi01c|04|10|ATL Mike Woodson     woodsmi01c fired    493        \n",
       "4 drewla01c|10|13|ATL  Larry Drew       drewla01c  fired    230        \n",
       "5 budenmi99c|13|17|ATL Mike Budenholzer budenmi99c          356        \n",
       "6 pitinri99c|00|01|BOS Rick Pitino      pitinri99c resigned  34        \n",
       "  total_wins total_losses start_rating end_rating top      bottom   middle  \n",
       "1  69        122          1354.050     1424.825   1498.447 1323.606 1378.746\n",
       "2  52         85          1431.213     1404.525   1454.663 1351.423 1405.307\n",
       "3 206        287          1416.497     1625.674   1625.674 1201.652 1411.411\n",
       "4 128        102          1577.661     1481.606   1608.431 1434.701 1535.035\n",
       "5 195        161          1479.509     1372.671   1701.183 1372.671 1520.065\n",
       "6  12         22          1509.496     1372.376   1512.213 1372.376 1459.238\n",
       "  last_improvement death poc former_nba_player\n",
       "1  -12.1864        1     no  no               \n",
       "2  -45.4351        1     no  no               \n",
       "3  113.4293        1     yes yes              \n",
       "4  -51.1603        1     yes yes              \n",
       "5 -122.9691        0     no  no               \n",
       "6 -137.1198        0     no  no               "
      ]
     },
     "metadata": {},
     "output_type": "display_data"
    }
   ],
   "source": [
    "head(tenures)"
   ]
  },
  {
   "cell_type": "code",
   "execution_count": 14,
   "metadata": {},
   "outputs": [],
   "source": [
    "regdata <- tenures[\n",
    "    ,\n",
    "    !(colnames(tenures) %in% c(\"slug\",\"coach\",\"coach_id\",\"ending\",\"total_losses\",\"improvement\"))\n",
    "]"
   ]
  },
  {
   "cell_type": "code",
   "execution_count": 15,
   "metadata": {},
   "outputs": [],
   "source": [
    "surv.all <- coxph(\n",
    "    Surv(total_games, death) ~ .,\n",
    "    data = regdata\n",
    ")"
   ]
  },
  {
   "cell_type": "code",
   "execution_count": 16,
   "metadata": {},
   "outputs": [
    {
     "data": {
      "text/plain": [
       "Call:\n",
       "coxph(formula = Surv(total_games, death) ~ ., data = regdata)\n",
       "\n",
       "  n= 179, number of events= 118 \n",
       "\n",
       "                           coef  exp(coef)   se(coef)       z Pr(>|z|)    \n",
       "total_wins           -0.0835351  0.9198588  0.0074665 -11.188  < 2e-16 ***\n",
       "start_rating         -0.0049149  0.9950972  0.0020645  -2.381  0.01728 *  \n",
       "end_rating           -0.0008164  0.9991839  0.0028802  -0.283  0.77683    \n",
       "top                  -0.0047038  0.9953072  0.0043269  -1.087  0.27698    \n",
       "bottom                0.0158767  1.0160034  0.0037124   4.277  1.9e-05 ***\n",
       "middle                0.0134880  1.0135794  0.0051221   2.633  0.00846 ** \n",
       "last_improvement     -0.0043636  0.9956459  0.0028089  -1.553  0.12031    \n",
       "pocyes                0.2925532  1.3398440  0.2144580   1.364  0.17252    \n",
       "former_nba_playeryes -0.0606292  0.9411722  0.2231530  -0.272  0.78586    \n",
       "---\n",
       "Signif. codes:  0 ‘***’ 0.001 ‘**’ 0.01 ‘*’ 0.05 ‘.’ 0.1 ‘ ’ 1\n",
       "\n",
       "                     exp(coef) exp(-coef) lower .95 upper .95\n",
       "total_wins              0.9199     1.0871    0.9065    0.9334\n",
       "start_rating            0.9951     1.0049    0.9911    0.9991\n",
       "end_rating              0.9992     1.0008    0.9936    1.0048\n",
       "top                     0.9953     1.0047    0.9869    1.0038\n",
       "bottom                  1.0160     0.9842    1.0086    1.0234\n",
       "middle                  1.0136     0.9866    1.0035    1.0238\n",
       "last_improvement        0.9956     1.0044    0.9902    1.0011\n",
       "pocyes                  1.3398     0.7464    0.8800    2.0399\n",
       "former_nba_playeryes    0.9412     1.0625    0.6077    1.4575\n",
       "\n",
       "Concordance= 0.948  (se = 0.032 )\n",
       "Rsquare= 0.882   (max possible= 0.997 )\n",
       "Likelihood ratio test= 383.2  on 9 df,   p=0\n",
       "Wald test            = 158.3  on 9 df,   p=0\n",
       "Score (logrank) test = 139.7  on 9 df,   p=0\n"
      ]
     },
     "metadata": {},
     "output_type": "display_data"
    }
   ],
   "source": [
    "summary(surv.all)"
   ]
  },
  {
   "cell_type": "code",
   "execution_count": null,
   "metadata": {},
   "outputs": [],
   "source": []
  }
 ],
 "metadata": {
  "kernelspec": {
   "display_name": "R 3.3",
   "language": "R",
   "name": "ir33"
  },
  "language_info": {
   "codemirror_mode": "r",
   "file_extension": ".r",
   "mimetype": "text/x-r-source",
   "name": "R",
   "pygments_lexer": "r",
   "version": "3.4.3"
  }
 },
 "nbformat": 4,
 "nbformat_minor": 2
}
