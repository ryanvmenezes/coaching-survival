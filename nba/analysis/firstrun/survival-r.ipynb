{
 "cells": [
  {
   "cell_type": "code",
   "execution_count": 1,
   "metadata": {},
   "outputs": [
    {
     "name": "stderr",
     "output_type": "stream",
     "text": [
      "\n",
      "Attaching package: ‘dplyr’\n",
      "\n",
      "The following objects are masked from ‘package:stats’:\n",
      "\n",
      "    filter, lag\n",
      "\n",
      "The following objects are masked from ‘package:base’:\n",
      "\n",
      "    intersect, setdiff, setequal, union\n",
      "\n"
     ]
    }
   ],
   "source": [
    "library(readr)\n",
    "library(survival)\n",
    "library(dplyr)"
   ]
  },
  {
   "cell_type": "code",
   "execution_count": 2,
   "metadata": {},
   "outputs": [
    {
     "name": "stderr",
     "output_type": "stream",
     "text": [
      "Parsed with column specification:\n",
      "cols(\n",
      "  slug = col_character(),\n",
      "  coach = col_character(),\n",
      "  coach_id = col_character(),\n",
      "  franchise = col_character(),\n",
      "  seasons = col_integer(),\n",
      "  games = col_integer(),\n",
      "  wins = col_integer(),\n",
      "  losses = col_integer(),\n",
      "  min_date = col_date(format = \"\"),\n",
      "  max_date = col_date(format = \"\"),\n",
      "  left_truncated = col_character(),\n",
      "  ending = col_character()\n",
      ")\n"
     ]
    }
   ],
   "source": [
    "TENURES <- read_csv('categorized/tenures-summarized-categorized.csv', na=character())"
   ]
  },
  {
   "cell_type": "code",
   "execution_count": 3,
   "metadata": {},
   "outputs": [
    {
     "data": {
      "text/html": [
       "<table>\n",
       "<thead><tr><th scope=col>slug</th><th scope=col>coach</th><th scope=col>coach_id</th><th scope=col>franchise</th><th scope=col>seasons</th><th scope=col>games</th><th scope=col>wins</th><th scope=col>losses</th><th scope=col>min_date</th><th scope=col>max_date</th><th scope=col>left_truncated</th><th scope=col>ending</th></tr></thead>\n",
       "<tbody>\n",
       "\t<tr><td>krugelo99c|00|02|ATL</td><td>Lon Kruger          </td><td>krugelo99c          </td><td>ATL                 </td><td>3                   </td><td>191                 </td><td> 69                 </td><td>122                 </td><td>2000-10-31          </td><td>2002-12-23          </td><td>True                </td><td>fired               </td></tr>\n",
       "\t<tr><td>stottte99c|02|04|ATL</td><td>Terry Stotts        </td><td>stottte99c          </td><td>ATL                 </td><td>2                   </td><td>137                 </td><td> 52                 </td><td> 85                 </td><td>2002-12-27          </td><td>2004-04-14          </td><td>False               </td><td>fired               </td></tr>\n",
       "\t<tr><td>woodsmi01c|04|10|ATL</td><td>Mike Woodson        </td><td>woodsmi01c          </td><td>ATL                 </td><td>6                   </td><td>492                 </td><td>206                 </td><td>286                 </td><td>2004-11-03          </td><td>2010-04-14          </td><td>False               </td><td>fired               </td></tr>\n",
       "\t<tr><td>drewla01c|10|13|ATL </td><td>Larry Drew          </td><td>drewla01c           </td><td>ATL                 </td><td>3                   </td><td>230                 </td><td>128                 </td><td>102                 </td><td>2010-10-27          </td><td>2013-04-17          </td><td>False               </td><td>fired               </td></tr>\n",
       "\t<tr><td>budenmi99c|13|17|ATL</td><td>Mike Budenholzer    </td><td>budenmi99c          </td><td>ATL                 </td><td>4                   </td><td>328                 </td><td>189                 </td><td>139                 </td><td>2013-10-30          </td><td>2017-04-12          </td><td>False               </td><td>                    </td></tr>\n",
       "\t<tr><td>pitinri99c|00|01|BOS</td><td>Rick Pitino         </td><td>pitinri99c          </td><td>BOS                 </td><td>1                   </td><td> 34                 </td><td> 12                 </td><td> 22                 </td><td>2000-11-01          </td><td>2001-01-06          </td><td>True                </td><td>resigned            </td></tr>\n",
       "</tbody>\n",
       "</table>\n"
      ],
      "text/latex": [
       "\\begin{tabular}{r|llllllllllll}\n",
       " slug & coach & coach\\_id & franchise & seasons & games & wins & losses & min\\_date & max\\_date & left\\_truncated & ending\\\\\n",
       "\\hline\n",
       "\t krugelo99c\\textbar{}00\\textbar{}02\\textbar{}ATL & Lon Kruger                                         & krugelo99c                                         & ATL                                                & 3                                                  & 191                                                &  69                                                & 122                                                & 2000-10-31                                         & 2002-12-23                                         & True                                               & fired                                             \\\\\n",
       "\t stottte99c\\textbar{}02\\textbar{}04\\textbar{}ATL & Terry Stotts                                       & stottte99c                                         & ATL                                                & 2                                                  & 137                                                &  52                                                &  85                                                & 2002-12-27                                         & 2004-04-14                                         & False                                              & fired                                             \\\\\n",
       "\t woodsmi01c\\textbar{}04\\textbar{}10\\textbar{}ATL & Mike Woodson                                       & woodsmi01c                                         & ATL                                                & 6                                                  & 492                                                & 206                                                & 286                                                & 2004-11-03                                         & 2010-04-14                                         & False                                              & fired                                             \\\\\n",
       "\t drewla01c\\textbar{}10\\textbar{}13\\textbar{}ATL  & Larry Drew                                         & drewla01c                                          & ATL                                                & 3                                                  & 230                                                & 128                                                & 102                                                & 2010-10-27                                         & 2013-04-17                                         & False                                              & fired                                             \\\\\n",
       "\t budenmi99c\\textbar{}13\\textbar{}17\\textbar{}ATL & Mike Budenholzer                                   & budenmi99c                                         & ATL                                                & 4                                                  & 328                                                & 189                                                & 139                                                & 2013-10-30                                         & 2017-04-12                                         & False                                              &                                                   \\\\\n",
       "\t pitinri99c\\textbar{}00\\textbar{}01\\textbar{}BOS & Rick Pitino                                        & pitinri99c                                         & BOS                                                & 1                                                  &  34                                                &  12                                                &  22                                                & 2000-11-01                                         & 2001-01-06                                         & True                                               & resigned                                          \\\\\n",
       "\\end{tabular}\n"
      ],
      "text/markdown": [
       "\n",
       "slug | coach | coach_id | franchise | seasons | games | wins | losses | min_date | max_date | left_truncated | ending | \n",
       "|---|---|---|---|---|---|\n",
       "| krugelo99c|00|02|ATL | Lon Kruger           | krugelo99c           | ATL                  | 3                    | 191                  |  69                  | 122                  | 2000-10-31           | 2002-12-23           | True                 | fired                | \n",
       "| stottte99c|02|04|ATL | Terry Stotts         | stottte99c           | ATL                  | 2                    | 137                  |  52                  |  85                  | 2002-12-27           | 2004-04-14           | False                | fired                | \n",
       "| woodsmi01c|04|10|ATL | Mike Woodson         | woodsmi01c           | ATL                  | 6                    | 492                  | 206                  | 286                  | 2004-11-03           | 2010-04-14           | False                | fired                | \n",
       "| drewla01c|10|13|ATL  | Larry Drew           | drewla01c            | ATL                  | 3                    | 230                  | 128                  | 102                  | 2010-10-27           | 2013-04-17           | False                | fired                | \n",
       "| budenmi99c|13|17|ATL | Mike Budenholzer     | budenmi99c           | ATL                  | 4                    | 328                  | 189                  | 139                  | 2013-10-30           | 2017-04-12           | False                |                      | \n",
       "| pitinri99c|00|01|BOS | Rick Pitino          | pitinri99c           | BOS                  | 1                    |  34                  |  12                  |  22                  | 2000-11-01           | 2001-01-06           | True                 | resigned             | \n",
       "\n",
       "\n"
      ],
      "text/plain": [
       "  slug                 coach            coach_id   franchise seasons games wins\n",
       "1 krugelo99c|00|02|ATL Lon Kruger       krugelo99c ATL       3       191    69 \n",
       "2 stottte99c|02|04|ATL Terry Stotts     stottte99c ATL       2       137    52 \n",
       "3 woodsmi01c|04|10|ATL Mike Woodson     woodsmi01c ATL       6       492   206 \n",
       "4 drewla01c|10|13|ATL  Larry Drew       drewla01c  ATL       3       230   128 \n",
       "5 budenmi99c|13|17|ATL Mike Budenholzer budenmi99c ATL       4       328   189 \n",
       "6 pitinri99c|00|01|BOS Rick Pitino      pitinri99c BOS       1        34    12 \n",
       "  losses min_date   max_date   left_truncated ending  \n",
       "1 122    2000-10-31 2002-12-23 True           fired   \n",
       "2  85    2002-12-27 2004-04-14 False          fired   \n",
       "3 286    2004-11-03 2010-04-14 False          fired   \n",
       "4 102    2010-10-27 2013-04-17 False          fired   \n",
       "5 139    2013-10-30 2017-04-12 False                  \n",
       "6  22    2000-11-01 2001-01-06 True           resigned"
      ]
     },
     "metadata": {},
     "output_type": "display_data"
    }
   ],
   "source": [
    "head(TENURES)"
   ]
  },
  {
   "cell_type": "code",
   "execution_count": 4,
   "metadata": {},
   "outputs": [
    {
     "data": {
      "text/html": [
       "<table>\n",
       "<thead><tr><th scope=col>ending</th><th scope=col>ending_freq</th></tr></thead>\n",
       "<tbody>\n",
       "\t<tr><td>fired           </td><td>112             </td></tr>\n",
       "\t<tr><td>interim only    </td><td> 39             </td></tr>\n",
       "\t<tr><td>                </td><td> 30             </td></tr>\n",
       "\t<tr><td>resigned        </td><td> 26             </td></tr>\n",
       "\t<tr><td>contract expired</td><td>  2             </td></tr>\n",
       "\t<tr><td>mutual          </td><td>  2             </td></tr>\n",
       "\t<tr><td>retired         </td><td>  2             </td></tr>\n",
       "\t<tr><td>traded          </td><td>  2             </td></tr>\n",
       "\t<tr><td>died            </td><td>  1             </td></tr>\n",
       "</tbody>\n",
       "</table>\n"
      ],
      "text/latex": [
       "\\begin{tabular}{r|ll}\n",
       " ending & ending\\_freq\\\\\n",
       "\\hline\n",
       "\t fired            & 112             \\\\\n",
       "\t interim only     &  39             \\\\\n",
       "\t                  &  30             \\\\\n",
       "\t resigned         &  26             \\\\\n",
       "\t contract expired &   2             \\\\\n",
       "\t mutual           &   2             \\\\\n",
       "\t retired          &   2             \\\\\n",
       "\t traded           &   2             \\\\\n",
       "\t died             &   1             \\\\\n",
       "\\end{tabular}\n"
      ],
      "text/markdown": [
       "\n",
       "ending | ending_freq | \n",
       "|---|---|---|---|---|---|---|---|---|\n",
       "| fired            | 112              | \n",
       "| interim only     |  39              | \n",
       "|                  |  30              | \n",
       "| resigned         |  26              | \n",
       "| contract expired |   2              | \n",
       "| mutual           |   2              | \n",
       "| retired          |   2              | \n",
       "| traded           |   2              | \n",
       "| died             |   1              | \n",
       "\n",
       "\n"
      ],
      "text/plain": [
       "  ending           ending_freq\n",
       "1 fired            112        \n",
       "2 interim only      39        \n",
       "3                   30        \n",
       "4 resigned          26        \n",
       "5 contract expired   2        \n",
       "6 mutual             2        \n",
       "7 retired            2        \n",
       "8 traded             2        \n",
       "9 died               1        "
      ]
     },
     "metadata": {},
     "output_type": "display_data"
    }
   ],
   "source": [
    "TENURES %>%\n",
    "group_by(ending) %>%\n",
    "summarize(ending_freq = n()) %>%\n",
    "arrange(desc(ending_freq))"
   ]
  },
  {
   "cell_type": "code",
   "execution_count": 5,
   "metadata": {},
   "outputs": [],
   "source": [
    "tenures <- TENURES %>% filter(ending != 'interim only')"
   ]
  },
  {
   "cell_type": "code",
   "execution_count": 6,
   "metadata": {},
   "outputs": [],
   "source": [
    "death_event <- c('fired', 'contract expired', 'mutual')"
   ]
  },
  {
   "cell_type": "code",
   "execution_count": 7,
   "metadata": {},
   "outputs": [],
   "source": [
    "tenures <- tenures %>% mutate(death = (ending %in% death_event)*1)"
   ]
  },
  {
   "cell_type": "code",
   "execution_count": 8,
   "metadata": {},
   "outputs": [
    {
     "data": {
      "text/html": [
       "<table>\n",
       "<thead><tr><th scope=col>slug</th><th scope=col>coach</th><th scope=col>coach_id</th><th scope=col>franchise</th><th scope=col>seasons</th><th scope=col>games</th><th scope=col>wins</th><th scope=col>losses</th><th scope=col>min_date</th><th scope=col>max_date</th><th scope=col>left_truncated</th><th scope=col>ending</th><th scope=col>death</th></tr></thead>\n",
       "<tbody>\n",
       "\t<tr><td>krugelo99c|00|02|ATL</td><td>Lon Kruger          </td><td>krugelo99c          </td><td>ATL                 </td><td>3                   </td><td>191                 </td><td> 69                 </td><td>122                 </td><td>2000-10-31          </td><td>2002-12-23          </td><td>True                </td><td>fired               </td><td>1                   </td></tr>\n",
       "\t<tr><td>stottte99c|02|04|ATL</td><td>Terry Stotts        </td><td>stottte99c          </td><td>ATL                 </td><td>2                   </td><td>137                 </td><td> 52                 </td><td> 85                 </td><td>2002-12-27          </td><td>2004-04-14          </td><td>False               </td><td>fired               </td><td>1                   </td></tr>\n",
       "\t<tr><td>woodsmi01c|04|10|ATL</td><td>Mike Woodson        </td><td>woodsmi01c          </td><td>ATL                 </td><td>6                   </td><td>492                 </td><td>206                 </td><td>286                 </td><td>2004-11-03          </td><td>2010-04-14          </td><td>False               </td><td>fired               </td><td>1                   </td></tr>\n",
       "\t<tr><td>drewla01c|10|13|ATL </td><td>Larry Drew          </td><td>drewla01c           </td><td>ATL                 </td><td>3                   </td><td>230                 </td><td>128                 </td><td>102                 </td><td>2010-10-27          </td><td>2013-04-17          </td><td>False               </td><td>fired               </td><td>1                   </td></tr>\n",
       "\t<tr><td>budenmi99c|13|17|ATL</td><td>Mike Budenholzer    </td><td>budenmi99c          </td><td>ATL                 </td><td>4                   </td><td>328                 </td><td>189                 </td><td>139                 </td><td>2013-10-30          </td><td>2017-04-12          </td><td>False               </td><td>                    </td><td>0                   </td></tr>\n",
       "\t<tr><td>pitinri99c|00|01|BOS</td><td>Rick Pitino         </td><td>pitinri99c          </td><td>BOS                 </td><td>1                   </td><td> 34                 </td><td> 12                 </td><td> 22                 </td><td>2000-11-01          </td><td>2001-01-06          </td><td>True                </td><td>resigned            </td><td>0                   </td></tr>\n",
       "</tbody>\n",
       "</table>\n"
      ],
      "text/latex": [
       "\\begin{tabular}{r|lllllllllllll}\n",
       " slug & coach & coach\\_id & franchise & seasons & games & wins & losses & min\\_date & max\\_date & left\\_truncated & ending & death\\\\\n",
       "\\hline\n",
       "\t krugelo99c\\textbar{}00\\textbar{}02\\textbar{}ATL & Lon Kruger                                         & krugelo99c                                         & ATL                                                & 3                                                  & 191                                                &  69                                                & 122                                                & 2000-10-31                                         & 2002-12-23                                         & True                                               & fired                                              & 1                                                 \\\\\n",
       "\t stottte99c\\textbar{}02\\textbar{}04\\textbar{}ATL & Terry Stotts                                       & stottte99c                                         & ATL                                                & 2                                                  & 137                                                &  52                                                &  85                                                & 2002-12-27                                         & 2004-04-14                                         & False                                              & fired                                              & 1                                                 \\\\\n",
       "\t woodsmi01c\\textbar{}04\\textbar{}10\\textbar{}ATL & Mike Woodson                                       & woodsmi01c                                         & ATL                                                & 6                                                  & 492                                                & 206                                                & 286                                                & 2004-11-03                                         & 2010-04-14                                         & False                                              & fired                                              & 1                                                 \\\\\n",
       "\t drewla01c\\textbar{}10\\textbar{}13\\textbar{}ATL  & Larry Drew                                         & drewla01c                                          & ATL                                                & 3                                                  & 230                                                & 128                                                & 102                                                & 2010-10-27                                         & 2013-04-17                                         & False                                              & fired                                              & 1                                                 \\\\\n",
       "\t budenmi99c\\textbar{}13\\textbar{}17\\textbar{}ATL & Mike Budenholzer                                   & budenmi99c                                         & ATL                                                & 4                                                  & 328                                                & 189                                                & 139                                                & 2013-10-30                                         & 2017-04-12                                         & False                                              &                                                    & 0                                                 \\\\\n",
       "\t pitinri99c\\textbar{}00\\textbar{}01\\textbar{}BOS & Rick Pitino                                        & pitinri99c                                         & BOS                                                & 1                                                  &  34                                                &  12                                                &  22                                                & 2000-11-01                                         & 2001-01-06                                         & True                                               & resigned                                           & 0                                                 \\\\\n",
       "\\end{tabular}\n"
      ],
      "text/markdown": [
       "\n",
       "slug | coach | coach_id | franchise | seasons | games | wins | losses | min_date | max_date | left_truncated | ending | death | \n",
       "|---|---|---|---|---|---|\n",
       "| krugelo99c|00|02|ATL | Lon Kruger           | krugelo99c           | ATL                  | 3                    | 191                  |  69                  | 122                  | 2000-10-31           | 2002-12-23           | True                 | fired                | 1                    | \n",
       "| stottte99c|02|04|ATL | Terry Stotts         | stottte99c           | ATL                  | 2                    | 137                  |  52                  |  85                  | 2002-12-27           | 2004-04-14           | False                | fired                | 1                    | \n",
       "| woodsmi01c|04|10|ATL | Mike Woodson         | woodsmi01c           | ATL                  | 6                    | 492                  | 206                  | 286                  | 2004-11-03           | 2010-04-14           | False                | fired                | 1                    | \n",
       "| drewla01c|10|13|ATL  | Larry Drew           | drewla01c            | ATL                  | 3                    | 230                  | 128                  | 102                  | 2010-10-27           | 2013-04-17           | False                | fired                | 1                    | \n",
       "| budenmi99c|13|17|ATL | Mike Budenholzer     | budenmi99c           | ATL                  | 4                    | 328                  | 189                  | 139                  | 2013-10-30           | 2017-04-12           | False                |                      | 0                    | \n",
       "| pitinri99c|00|01|BOS | Rick Pitino          | pitinri99c           | BOS                  | 1                    |  34                  |  12                  |  22                  | 2000-11-01           | 2001-01-06           | True                 | resigned             | 0                    | \n",
       "\n",
       "\n"
      ],
      "text/plain": [
       "  slug                 coach            coach_id   franchise seasons games wins\n",
       "1 krugelo99c|00|02|ATL Lon Kruger       krugelo99c ATL       3       191    69 \n",
       "2 stottte99c|02|04|ATL Terry Stotts     stottte99c ATL       2       137    52 \n",
       "3 woodsmi01c|04|10|ATL Mike Woodson     woodsmi01c ATL       6       492   206 \n",
       "4 drewla01c|10|13|ATL  Larry Drew       drewla01c  ATL       3       230   128 \n",
       "5 budenmi99c|13|17|ATL Mike Budenholzer budenmi99c ATL       4       328   189 \n",
       "6 pitinri99c|00|01|BOS Rick Pitino      pitinri99c BOS       1        34    12 \n",
       "  losses min_date   max_date   left_truncated ending   death\n",
       "1 122    2000-10-31 2002-12-23 True           fired    1    \n",
       "2  85    2002-12-27 2004-04-14 False          fired    1    \n",
       "3 286    2004-11-03 2010-04-14 False          fired    1    \n",
       "4 102    2010-10-27 2013-04-17 False          fired    1    \n",
       "5 139    2013-10-30 2017-04-12 False                   0    \n",
       "6  22    2000-11-01 2001-01-06 True           resigned 0    "
      ]
     },
     "metadata": {},
     "output_type": "display_data"
    }
   ],
   "source": [
    "tenures %>% head"
   ]
  },
  {
   "cell_type": "code",
   "execution_count": 9,
   "metadata": {},
   "outputs": [
    {
     "name": "stderr",
     "output_type": "stream",
     "text": [
      "Parsed with column specification:\n",
      "cols(\n",
      "  coach = col_character(),\n",
      "  coach_id = col_character(),\n",
      "  franchises = col_character(),\n",
      "  poc = col_character(),\n",
      "  note = col_character()\n",
      ")\n"
     ]
    }
   ],
   "source": [
    "POC <- read_csv('categorized//coach-list-poc.csv')"
   ]
  },
  {
   "cell_type": "code",
   "execution_count": 10,
   "metadata": {},
   "outputs": [
    {
     "data": {
      "text/html": [
       "<table>\n",
       "<thead><tr><th scope=col>coach</th><th scope=col>coach_id</th><th scope=col>franchises</th><th scope=col>poc</th><th scope=col>note</th></tr></thead>\n",
       "<tbody>\n",
       "\t<tr><td>Tyronn Lue   </td><td>luety01c     </td><td>CLE          </td><td>yes          </td><td>NA           </td></tr>\n",
       "\t<tr><td>Tyrone Corbin</td><td>corbity01c   </td><td>SAC|UTA      </td><td>yes          </td><td>NA           </td></tr>\n",
       "\t<tr><td>Tony Brown   </td><td>brownto01c   </td><td>NJNBRK       </td><td>yes          </td><td>NA           </td></tr>\n",
       "\t<tr><td>Terry Porter </td><td>portete01c   </td><td>PHO|MIL      </td><td>yes          </td><td>NA           </td></tr>\n",
       "\t<tr><td>Sidney Lowe  </td><td>lowesi01c    </td><td>VANMEM       </td><td>yes          </td><td>NA           </td></tr>\n",
       "\t<tr><td>Sam Vincent  </td><td>vincesa01c   </td><td>CHARBH       </td><td>yes          </td><td>NA           </td></tr>\n",
       "</tbody>\n",
       "</table>\n"
      ],
      "text/latex": [
       "\\begin{tabular}{r|lllll}\n",
       " coach & coach\\_id & franchises & poc & note\\\\\n",
       "\\hline\n",
       "\t Tyronn Lue    & luety01c      & CLE           & yes           & NA           \\\\\n",
       "\t Tyrone Corbin     & corbity01c        & SAC\\textbar{}UTA & yes               & NA               \\\\\n",
       "\t Tony Brown    & brownto01c    & NJNBRK        & yes           & NA           \\\\\n",
       "\t Terry Porter      & portete01c        & PHO\\textbar{}MIL & yes               & NA               \\\\\n",
       "\t Sidney Lowe   & lowesi01c     & VANMEM        & yes           & NA           \\\\\n",
       "\t Sam Vincent   & vincesa01c    & CHARBH        & yes           & NA           \\\\\n",
       "\\end{tabular}\n"
      ],
      "text/markdown": [
       "\n",
       "coach | coach_id | franchises | poc | note | \n",
       "|---|---|---|---|---|---|\n",
       "| Tyronn Lue    | luety01c      | CLE           | yes           | NA            | \n",
       "| Tyrone Corbin | corbity01c    | SAC|UTA       | yes           | NA            | \n",
       "| Tony Brown    | brownto01c    | NJNBRK        | yes           | NA            | \n",
       "| Terry Porter  | portete01c    | PHO|MIL       | yes           | NA            | \n",
       "| Sidney Lowe   | lowesi01c     | VANMEM        | yes           | NA            | \n",
       "| Sam Vincent   | vincesa01c    | CHARBH        | yes           | NA            | \n",
       "\n",
       "\n"
      ],
      "text/plain": [
       "  coach         coach_id   franchises poc note\n",
       "1 Tyronn Lue    luety01c   CLE        yes NA  \n",
       "2 Tyrone Corbin corbity01c SAC|UTA    yes NA  \n",
       "3 Tony Brown    brownto01c NJNBRK     yes NA  \n",
       "4 Terry Porter  portete01c PHO|MIL    yes NA  \n",
       "5 Sidney Lowe   lowesi01c  VANMEM     yes NA  \n",
       "6 Sam Vincent   vincesa01c CHARBH     yes NA  "
      ]
     },
     "metadata": {},
     "output_type": "display_data"
    }
   ],
   "source": [
    "head(POC)"
   ]
  },
  {
   "cell_type": "code",
   "execution_count": 11,
   "metadata": {},
   "outputs": [
    {
     "name": "stderr",
     "output_type": "stream",
     "text": [
      "Parsed with column specification:\n",
      "cols(\n",
      "  coach = col_character(),\n",
      "  coach_id = col_character(),\n",
      "  franchises = col_character(),\n",
      "  former_nba_player = col_character()\n",
      ")\n"
     ]
    }
   ],
   "source": [
    "PLAYERS <- read_csv('categorized/coach-list-qualifications.csv')"
   ]
  },
  {
   "cell_type": "code",
   "execution_count": 12,
   "metadata": {},
   "outputs": [
    {
     "data": {
      "text/html": [
       "<table>\n",
       "<thead><tr><th scope=col>coach</th><th scope=col>coach_id</th><th scope=col>franchises</th><th scope=col>former_nba_player</th></tr></thead>\n",
       "<tbody>\n",
       "\t<tr><td>Isiah Thomas   </td><td>thomais01c     </td><td>IND|NYK        </td><td>yes            </td></tr>\n",
       "\t<tr><td>Michael Cooper </td><td>coopemi01c     </td><td>DEN            </td><td>yes            </td></tr>\n",
       "\t<tr><td>Larry Drew     </td><td>drewla01c      </td><td>ATL|MIL        </td><td>yes            </td></tr>\n",
       "\t<tr><td>Vinny Del Negro</td><td>delnevi01c     </td><td>CHI|LAC        </td><td>yes            </td></tr>\n",
       "\t<tr><td>Paul Westphal  </td><td>westppa01c     </td><td>SAC|SEAOKC     </td><td>yes            </td></tr>\n",
       "\t<tr><td>Mike Woodson   </td><td>woodsmi01c     </td><td>NYK|ATL        </td><td>yes            </td></tr>\n",
       "</tbody>\n",
       "</table>\n"
      ],
      "text/latex": [
       "\\begin{tabular}{r|llll}\n",
       " coach & coach\\_id & franchises & former\\_nba\\_player\\\\\n",
       "\\hline\n",
       "\t Isiah Thomas         & thomais01c           & IND\\textbar{}NYK    & yes                 \\\\\n",
       "\t Michael Cooper  & coopemi01c      & DEN             & yes            \\\\\n",
       "\t Larry Drew           & drewla01c            & ATL\\textbar{}MIL    & yes                 \\\\\n",
       "\t Vinny Del Negro      & delnevi01c           & CHI\\textbar{}LAC    & yes                 \\\\\n",
       "\t Paul Westphal        & westppa01c           & SAC\\textbar{}SEAOKC & yes                 \\\\\n",
       "\t Mike Woodson         & woodsmi01c           & NYK\\textbar{}ATL    & yes                 \\\\\n",
       "\\end{tabular}\n"
      ],
      "text/markdown": [
       "\n",
       "coach | coach_id | franchises | former_nba_player | \n",
       "|---|---|---|---|---|---|\n",
       "| Isiah Thomas    | thomais01c      | IND|NYK         | yes             | \n",
       "| Michael Cooper  | coopemi01c      | DEN             | yes             | \n",
       "| Larry Drew      | drewla01c       | ATL|MIL         | yes             | \n",
       "| Vinny Del Negro | delnevi01c      | CHI|LAC         | yes             | \n",
       "| Paul Westphal   | westppa01c      | SAC|SEAOKC      | yes             | \n",
       "| Mike Woodson    | woodsmi01c      | NYK|ATL         | yes             | \n",
       "\n",
       "\n"
      ],
      "text/plain": [
       "  coach           coach_id   franchises former_nba_player\n",
       "1 Isiah Thomas    thomais01c IND|NYK    yes              \n",
       "2 Michael Cooper  coopemi01c DEN        yes              \n",
       "3 Larry Drew      drewla01c  ATL|MIL    yes              \n",
       "4 Vinny Del Negro delnevi01c CHI|LAC    yes              \n",
       "5 Paul Westphal   westppa01c SAC|SEAOKC yes              \n",
       "6 Mike Woodson    woodsmi01c NYK|ATL    yes              "
      ]
     },
     "metadata": {},
     "output_type": "display_data"
    }
   ],
   "source": [
    "head(PLAYERS)"
   ]
  },
  {
   "cell_type": "code",
   "execution_count": 13,
   "metadata": {},
   "outputs": [],
   "source": [
    "tenures_info <- list(\n",
    "    tenures,\n",
    "    POC %>% select(coach_id, poc),\n",
    "    PLAYERS %>% select(coach_id, former_nba_player)\n",
    ") %>%\n",
    "Reduce(function(dtf1,dtf2) left_join(dtf1,dtf2,by=\"coach_id\"), .)"
   ]
  },
  {
   "cell_type": "code",
   "execution_count": 14,
   "metadata": {},
   "outputs": [
    {
     "data": {
      "text/html": [
       "<table>\n",
       "<thead><tr><th scope=col>slug</th><th scope=col>coach</th><th scope=col>coach_id</th><th scope=col>franchise</th><th scope=col>seasons</th><th scope=col>games</th><th scope=col>wins</th><th scope=col>losses</th><th scope=col>min_date</th><th scope=col>max_date</th><th scope=col>left_truncated</th><th scope=col>ending</th><th scope=col>death</th><th scope=col>poc</th><th scope=col>former_nba_player</th></tr></thead>\n",
       "<tbody>\n",
       "\t<tr><td>krugelo99c|00|02|ATL</td><td>Lon Kruger          </td><td>krugelo99c          </td><td>ATL                 </td><td>3                   </td><td>191                 </td><td> 69                 </td><td>122                 </td><td>2000-10-31          </td><td>2002-12-23          </td><td>True                </td><td>fired               </td><td>1                   </td><td>no                  </td><td>no                  </td></tr>\n",
       "\t<tr><td>stottte99c|02|04|ATL</td><td>Terry Stotts        </td><td>stottte99c          </td><td>ATL                 </td><td>2                   </td><td>137                 </td><td> 52                 </td><td> 85                 </td><td>2002-12-27          </td><td>2004-04-14          </td><td>False               </td><td>fired               </td><td>1                   </td><td>no                  </td><td>no                  </td></tr>\n",
       "\t<tr><td>woodsmi01c|04|10|ATL</td><td>Mike Woodson        </td><td>woodsmi01c          </td><td>ATL                 </td><td>6                   </td><td>492                 </td><td>206                 </td><td>286                 </td><td>2004-11-03          </td><td>2010-04-14          </td><td>False               </td><td>fired               </td><td>1                   </td><td>yes                 </td><td>yes                 </td></tr>\n",
       "\t<tr><td>drewla01c|10|13|ATL </td><td>Larry Drew          </td><td>drewla01c           </td><td>ATL                 </td><td>3                   </td><td>230                 </td><td>128                 </td><td>102                 </td><td>2010-10-27          </td><td>2013-04-17          </td><td>False               </td><td>fired               </td><td>1                   </td><td>yes                 </td><td>yes                 </td></tr>\n",
       "\t<tr><td>budenmi99c|13|17|ATL</td><td>Mike Budenholzer    </td><td>budenmi99c          </td><td>ATL                 </td><td>4                   </td><td>328                 </td><td>189                 </td><td>139                 </td><td>2013-10-30          </td><td>2017-04-12          </td><td>False               </td><td>                    </td><td>0                   </td><td>no                  </td><td>no                  </td></tr>\n",
       "\t<tr><td>pitinri99c|00|01|BOS</td><td>Rick Pitino         </td><td>pitinri99c          </td><td>BOS                 </td><td>1                   </td><td> 34                 </td><td> 12                 </td><td> 22                 </td><td>2000-11-01          </td><td>2001-01-06          </td><td>True                </td><td>resigned            </td><td>0                   </td><td>no                  </td><td>no                  </td></tr>\n",
       "</tbody>\n",
       "</table>\n"
      ],
      "text/latex": [
       "\\begin{tabular}{r|lllllllllllllll}\n",
       " slug & coach & coach\\_id & franchise & seasons & games & wins & losses & min\\_date & max\\_date & left\\_truncated & ending & death & poc & former\\_nba\\_player\\\\\n",
       "\\hline\n",
       "\t krugelo99c\\textbar{}00\\textbar{}02\\textbar{}ATL & Lon Kruger                                         & krugelo99c                                         & ATL                                                & 3                                                  & 191                                                &  69                                                & 122                                                & 2000-10-31                                         & 2002-12-23                                         & True                                               & fired                                              & 1                                                  & no                                                 & no                                                \\\\\n",
       "\t stottte99c\\textbar{}02\\textbar{}04\\textbar{}ATL & Terry Stotts                                       & stottte99c                                         & ATL                                                & 2                                                  & 137                                                &  52                                                &  85                                                & 2002-12-27                                         & 2004-04-14                                         & False                                              & fired                                              & 1                                                  & no                                                 & no                                                \\\\\n",
       "\t woodsmi01c\\textbar{}04\\textbar{}10\\textbar{}ATL & Mike Woodson                                       & woodsmi01c                                         & ATL                                                & 6                                                  & 492                                                & 206                                                & 286                                                & 2004-11-03                                         & 2010-04-14                                         & False                                              & fired                                              & 1                                                  & yes                                                & yes                                               \\\\\n",
       "\t drewla01c\\textbar{}10\\textbar{}13\\textbar{}ATL  & Larry Drew                                         & drewla01c                                          & ATL                                                & 3                                                  & 230                                                & 128                                                & 102                                                & 2010-10-27                                         & 2013-04-17                                         & False                                              & fired                                              & 1                                                  & yes                                                & yes                                               \\\\\n",
       "\t budenmi99c\\textbar{}13\\textbar{}17\\textbar{}ATL & Mike Budenholzer                                   & budenmi99c                                         & ATL                                                & 4                                                  & 328                                                & 189                                                & 139                                                & 2013-10-30                                         & 2017-04-12                                         & False                                              &                                                    & 0                                                  & no                                                 & no                                                \\\\\n",
       "\t pitinri99c\\textbar{}00\\textbar{}01\\textbar{}BOS & Rick Pitino                                        & pitinri99c                                         & BOS                                                & 1                                                  &  34                                                &  12                                                &  22                                                & 2000-11-01                                         & 2001-01-06                                         & True                                               & resigned                                           & 0                                                  & no                                                 & no                                                \\\\\n",
       "\\end{tabular}\n"
      ],
      "text/markdown": [
       "\n",
       "slug | coach | coach_id | franchise | seasons | games | wins | losses | min_date | max_date | left_truncated | ending | death | poc | former_nba_player | \n",
       "|---|---|---|---|---|---|\n",
       "| krugelo99c|00|02|ATL | Lon Kruger           | krugelo99c           | ATL                  | 3                    | 191                  |  69                  | 122                  | 2000-10-31           | 2002-12-23           | True                 | fired                | 1                    | no                   | no                   | \n",
       "| stottte99c|02|04|ATL | Terry Stotts         | stottte99c           | ATL                  | 2                    | 137                  |  52                  |  85                  | 2002-12-27           | 2004-04-14           | False                | fired                | 1                    | no                   | no                   | \n",
       "| woodsmi01c|04|10|ATL | Mike Woodson         | woodsmi01c           | ATL                  | 6                    | 492                  | 206                  | 286                  | 2004-11-03           | 2010-04-14           | False                | fired                | 1                    | yes                  | yes                  | \n",
       "| drewla01c|10|13|ATL  | Larry Drew           | drewla01c            | ATL                  | 3                    | 230                  | 128                  | 102                  | 2010-10-27           | 2013-04-17           | False                | fired                | 1                    | yes                  | yes                  | \n",
       "| budenmi99c|13|17|ATL | Mike Budenholzer     | budenmi99c           | ATL                  | 4                    | 328                  | 189                  | 139                  | 2013-10-30           | 2017-04-12           | False                |                      | 0                    | no                   | no                   | \n",
       "| pitinri99c|00|01|BOS | Rick Pitino          | pitinri99c           | BOS                  | 1                    |  34                  |  12                  |  22                  | 2000-11-01           | 2001-01-06           | True                 | resigned             | 0                    | no                   | no                   | \n",
       "\n",
       "\n"
      ],
      "text/plain": [
       "  slug                 coach            coach_id   franchise seasons games wins\n",
       "1 krugelo99c|00|02|ATL Lon Kruger       krugelo99c ATL       3       191    69 \n",
       "2 stottte99c|02|04|ATL Terry Stotts     stottte99c ATL       2       137    52 \n",
       "3 woodsmi01c|04|10|ATL Mike Woodson     woodsmi01c ATL       6       492   206 \n",
       "4 drewla01c|10|13|ATL  Larry Drew       drewla01c  ATL       3       230   128 \n",
       "5 budenmi99c|13|17|ATL Mike Budenholzer budenmi99c ATL       4       328   189 \n",
       "6 pitinri99c|00|01|BOS Rick Pitino      pitinri99c BOS       1        34    12 \n",
       "  losses min_date   max_date   left_truncated ending   death poc\n",
       "1 122    2000-10-31 2002-12-23 True           fired    1     no \n",
       "2  85    2002-12-27 2004-04-14 False          fired    1     no \n",
       "3 286    2004-11-03 2010-04-14 False          fired    1     yes\n",
       "4 102    2010-10-27 2013-04-17 False          fired    1     yes\n",
       "5 139    2013-10-30 2017-04-12 False                   0     no \n",
       "6  22    2000-11-01 2001-01-06 True           resigned 0     no \n",
       "  former_nba_player\n",
       "1 no               \n",
       "2 no               \n",
       "3 yes              \n",
       "4 yes              \n",
       "5 no               \n",
       "6 no               "
      ]
     },
     "metadata": {},
     "output_type": "display_data"
    }
   ],
   "source": [
    "head(tenures_info)"
   ]
  },
  {
   "cell_type": "code",
   "execution_count": 15,
   "metadata": {},
   "outputs": [],
   "source": [
    "surv.all <- coxph(Surv(games, death) ~ poc + former_nba_player, data = tenures_info)"
   ]
  },
  {
   "cell_type": "code",
   "execution_count": 16,
   "metadata": {},
   "outputs": [
    {
     "data": {
      "text/plain": [
       "Call:\n",
       "coxph(formula = Surv(games, death) ~ poc + former_nba_player, \n",
       "    data = tenures_info)\n",
       "\n",
       "                       coef exp(coef) se(coef)    z     p\n",
       "pocyes               0.3466    1.4143   0.1918 1.81 0.071\n",
       "former_nba_playeryes 0.0528    1.0543   0.2062 0.26 0.798\n",
       "\n",
       "Likelihood ratio test=3.65  on 2 df, p=0.161\n",
       "n= 176, number of events= 115 \n",
       "   (1 observation deleted due to missingness)"
      ]
     },
     "metadata": {},
     "output_type": "display_data"
    }
   ],
   "source": [
    "surv.all"
   ]
  },
  {
   "cell_type": "code",
   "execution_count": null,
   "metadata": {},
   "outputs": [],
   "source": []
  }
 ],
 "metadata": {
  "kernelspec": {
   "display_name": "R 3.3",
   "language": "R",
   "name": "ir33"
  },
  "language_info": {
   "codemirror_mode": "r",
   "file_extension": ".r",
   "mimetype": "text/x-r-source",
   "name": "R",
   "pygments_lexer": "r",
   "version": "3.4.3"
  }
 },
 "nbformat": 4,
 "nbformat_minor": 2
}
